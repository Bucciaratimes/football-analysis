{
 "cells": [
  {
   "cell_type": "code",
   "execution_count": 1,
   "metadata": {},
   "outputs": [],
   "source": [
    "import requests\n",
    "from bs4 import BeautifulSoup\n",
    "import pandas as pd\n",
    "from bs4 import Comment\n",
    "from functools import reduce\n",
    "import os\n",
    "from tqdm import tqdm\n",
    "import argparse\n",
    "import warnings\n",
    "warnings.filterwarnings('ignore')"
   ]
  },
  {
   "cell_type": "code",
   "execution_count": 43,
   "metadata": {},
   "outputs": [],
   "source": [
    "r = requests.get(\"https://www.fotmob.com/leagues/87/overview/LaLiga\")\n",
    "soup = BeautifulSoup(r.content, \"lxml\")"
   ]
  },
  {
   "cell_type": "code",
   "execution_count": 47,
   "metadata": {},
   "outputs": [
    {
     "data": {
      "text/plain": [
       "[<a aria-label=\"Link to Home\" class=\"css-g5l8co-LogoLink e1aenl7p4\" href=\"/\"><svg height=\"18\" viewbox=\"0 0 108 18\" width=\"108\" xmlns=\"http://www.w3.org/2000/svg\"><g fill=\"var(--GlobalColorScheme-Logo-color)\" id=\"ic_fotmob_logo\" transform=\"translate(-586 -21)\"><path class=\"cls-1\" d=\"M103.359 8.679c1.811-.642 3.132-1.887 3.132-3.811 0-3.585-2.906-4.679-6.453-4.679h-5.4a1 1 0 0 0-.981.981v16.6h6.943c4.264 0 6.377-2.34 6.377-5.17.004-2.072-1.203-3.355-3.618-3.921zm-6.491-5.7H100c2.226 0 2.906.868 2.906 2.3 0 2.906-3.321 2.189-6 2.3v-4.6zm3.623 11.962h-3.585v-4.6h3.585c1.66 0 2.906.566 2.906 2.226.003 1.697-1.208 2.376-2.906 2.376zM49.849 1.17v2.3h-5.283v14.3h-3.283V3.472H36V1.17a1 1 0 0 1 .981-.981h11.925a.967.967 0 0 1 .943.981zm11.887 14.453a1.3 1.3 0 0 1-1.17-.717l-5.4-10a9.864 9.864 0 0 1 .075 1.509v11.359H52V1.17a1 1 0 0 1 .981-.981c2.83 0 2.83-.038 3.094.075a.826.826 0 0 1 .377.34c4.679 8.83 4.906 8.981 5.245 10.038.34-1.057.566-1.208 5.245-10.038a.663.663 0 0 1 .377-.34c.226-.075.264-.075 3.094-.075a1 1 0 0 1 .981.981v16.6h-3.243V6.415c0-.491.038-1.019.076-1.509l-5.4 10a1.068 1.068 0 0 1-1.094.717zM26.226 0a8.6 8.6 0 0 0-8.906 8.981A8.7 8.7 0 0 0 26.226 18a8.7 8.7 0 0 0 8.906-9.019A8.557 8.557 0 0 0 26.226 0zm0 14.981c-2.642 0-5.4-1.7-5.4-6 0-3.509 1.887-6 5.4-6s5.4 2.491 5.4 6c-.003 4.302-2.72 6.038-5.4 6zM82.528 0a8.6 8.6 0 0 0-8.906 8.981A8.7 8.7 0 0 0 82.528 18a8.7 8.7 0 0 0 8.906-9.019A8.578 8.578 0 0 0 82.528 0zm0 14.981c-2.642 0-5.4-1.7-5.4-6 0-3.509 1.887-6 5.4-6s5.4 2.491 5.4 6c-.003 4.302-2.758 6.038-5.4 6zM6.34 13.208v4.528H3.057v-2.755zM16.642 1.17v2.3H6.34v4.568l-3.283.792V1.17a1 1 0 0 1 .981-.981H15.66a1 1 0 0 1 .982.981zm-9.17 8.49L0 12.6v-2.147L7.585 8.6a3.607 3.607 0 0 0-.113 1.06zm.189.868a3.9 3.9 0 0 0 .415.792L0 15.66v-2.151zm2.906-3.283a2.23 2.23 0 0 1 2.226 2.226 2.226 2.226 0 1 1-4.453 0 2.23 2.23 0 0 1 2.226-2.226\" data-name=\"Path 1\" id=\"Path_1\" transform=\"translate(587 21)\"></path></g><g><path class=\"cls-2\" d=\"M0 0h108v18H0z\" data-name=\"Rectangle 3401\" id=\"Rectangle_3401\" transform=\"translate(586 21)\"></path></g></svg></a>,\n",
       " <a href=\"/world\">News</a>,\n",
       " <a class=\"css-2u4d1z-NavLinkCSS-applyMediumHover-navCommonStyles-navStyles eyuy2lc0\" href=\"/leagues/87/overview/LaLiga\">Overview</a>,\n",
       " <a class=\"css-1xjasri-NavLinkCSS-applyMediumHover-navCommonStyles-navStyles eyuy2lc0\" href=\"/leagues/87/news/LaLiga\">News</a>,\n",
       " <a class=\"css-1xjasri-NavLinkCSS-applyMediumHover-navCommonStyles-navStyles eyuy2lc0\" href=\"/leagues/87/table/LaLiga\">Table</a>,\n",
       " <a class=\"css-1xjasri-NavLinkCSS-applyMediumHover-navCommonStyles-navStyles eyuy2lc0\" href=\"/leagues/87/matches/LaLiga\">Matches</a>,\n",
       " <a class=\"css-1xjasri-NavLinkCSS-applyMediumHover-navCommonStyles-navStyles eyuy2lc0\" href=\"/leagues/87/stats/LaLiga\">Stats</a>,\n",
       " <a class=\"css-1xjasri-NavLinkCSS-applyMediumHover-navCommonStyles-navStyles eyuy2lc0\" href=\"/leagues/87/transfers/LaLiga\">Transfers</a>,\n",
       " <a href=\"/\">Matches</a>,\n",
       " <a href=\"/world\">News</a>,\n",
       " <a href=\"/aboutUs/company\">About us</a>,\n",
       " <a href=\"/aboutUs/careers\">Careers</a>,\n",
       " <a href=\"/aboutUs/advertise\">Advertise</a>,\n",
       " <a href=\"/faq\">FAQ</a>,\n",
       " <a class=\"\" draggable=\"false\" href=\"https://predict.fotmob.com\" rel=\"noreferrer noopener\" target=\"_blank\">Predictor</a>,\n",
       " <a class=\"\" draggable=\"false\" href=\"https://apps.apple.com/us/app/soccer-scores-fotmob/id488575683?mt=8&amp;pid=338473&amp;cid=fotmob.com\" rel=\"noreferrer noopener\" target=\"_blank\"><svg height=\"50\" viewbox=\"0 0 50 50\" width=\"50\" xmlns=\"http://www.w3.org/2000/svg\"><g id=\"ic_app_store\" transform=\"translate(-703 -5)\"><circle cx=\"25\" cy=\"25\" fill=\"var(--Footer-appStoreBackground)\" id=\"Ellipse_312\" r=\"25\" transform=\"translate(703 5)\"></circle><g id=\"XMLID_4_\" transform=\"translate(717.883 15.393)\"><g id=\"XMLID_5_\"><path class=\"cls-2\" d=\"M26.873 21.171a5.591 5.591 0 0 1 2.7-4.721 5.8 5.8 0 0 0-4.557-2.457c-1.919-.2-3.781 1.138-4.752 1.138-.994 0-2.5-1.126-4.123-1.092a6.064 6.064 0 0 0-5.106 3.106c-2.2 3.811-.56 9.408 1.553 12.491 1.062 1.513 2.3 3.2 3.918 3.128 1.588-.068 2.182-1 4.089-1s2.444 1 4.1.967c1.7-.023 2.776-1.513 3.792-3.037a12.748 12.748 0 0 0 1.736-3.515 5.419 5.419 0 0 1-3.35-5.008z\" fill=\"var(--Footer-appleStoreColor)\" id=\"XMLID_7_\" transform=\"translate(-9.984 -7.997)\"></path><path class=\"cls-2\" d=\"M22.5 12.69a5.451 5.451 0 0 0 1.268-3.97 5.711 5.711 0 0 0-3.666 1.888 5.229 5.229 0 0 0-1.3 3.822 4.7 4.7 0 0 0 3.698-1.74z\" fill=\"var(--Footer-appleStoreColor)\" id=\"XMLID_6_\" transform=\"translate(-8.734 -8.72)\"></path></g></g></g></svg></a>,\n",
       " <a class=\"\" draggable=\"false\" href=\"https://play.google.com/store/apps/details?id=com.mobilefootie.wc2010&amp;referrer=utm_source%3Dfotmob.com%26utm_medium%3Dweb%26utm_campaign%3DWebsite\" rel=\"noreferrer noopener\" target=\"_blank\"><svg data-name=\"Button - Google Play - DM\" height=\"50\" viewbox=\"0 0 50 50\" width=\"50\" xmlns=\"http://www.w3.org/2000/svg\"><circle cx=\"25\" cy=\"25\" data-name=\"Ellipse 311\" fill=\"var(--Footer-appStoreBackground)\" r=\"25\"></circle><g data-name=\"Group 7622\"><path d=\"M21.107 19.424 10.07 31.138v.007a2.983 2.983 0 0 0 4.391 1.8l.035-.021 12.423-7.168z\" data-name=\"Path 3749\" fill=\"#ea4335\" transform=\"translate(6.102 4.978)\"></path><path d=\"m31.892 17.61-.01-.007-5.364-3.109-6.043 5.377 6.064 6.062 5.335-3.078a2.983 2.983 0 0 0 .018-5.245\" data-name=\"Path 3750\" fill=\"#fbbc04\" transform=\"translate(6.483 4.797)\"></path><path d=\"M10.074 9.277a2.927 2.927 0 0 0-.1.767v20.7a2.871 2.871 0 0 0 .1.766L21.49 20.1z\" data-name=\"Path 3751\" fill=\"#4285f4\" transform=\"translate(6.098 4.606)\"></path><path d=\"m21.189 20.472 5.711-5.711-12.408-7.194a2.986 2.986 0 0 0-4.421 1.785z\" data-name=\"Path 3752\" fill=\"#34a853\" transform=\"translate(6.102 4.527)\"></path></g></svg></a>,\n",
       " <a class=\"\" draggable=\"false\" href=\"https://appgallery.cloud.huawei.com/ag/n/app/C101679351?channelId=FotMob+Website&amp;referrer=FotMob+Website&amp;id=b4dcd00402054dd7bf28266379340924&amp;s=B47DD9A5D511E5F9DE31AA5153E849A94745B480A6E325B3E72F92F39F9C523C&amp;detailType=0&amp;v=\" rel=\"noreferrer noopener\" target=\"_blank\"><svg data-name=\"Button - Huawei - DM\" height=\"50\" viewbox=\"0 0 50 50\" width=\"50\" xmlns=\"http://www.w3.org/2000/svg\"><circle cx=\"25\" cy=\"25\" data-name=\"Ellipse 311\" fill=\"var(--Footer-appStoreBackground)\" r=\"25\"></circle><g transform=\"translate(10.461 10.587)\"><rect fill=\"#e14459\" height=\"28\" rx=\"7.06\" transform=\"translate(.54 .412)\" width=\"28\"></rect><path d=\"M18.388 5.589a.794.794 0 1 0 .794.794.793.793 0 0 0-.794-.792zm14.182 0a.794.794 0 1 0 .794.794.793.793 0 0 0-.794-.792z\" fill=\"#c73148\" transform=\"translate(-11.027 -3.347)\"></path><path d=\"M12.553 7.524c-.276.015-.262.417-.262.417a7.893 7.893 0 0 0 7.361 4.318 7.954 7.954 0 0 0 7.382-4.334s.059-.545-.519-.356a8.01 8.01 0 0 1-6.861 4.024 7.968 7.968 0 0 1-6.86-4.007.5.5 0 0 0-.241-.061zm10.035 11.26-.844 2.52-.821-2.519h-.8l1.294 3.664h.624l.845-2.407.845 2.407h.629l1.291-3.664h-.782l-.822 2.515-.844-2.52zm-4.481 0-1.637 3.663h.769l.316-.709.022-.054h1.7l.333.763h.79l-1.622-3.641-.014-.021zm11.854 0v3.66h.744v-3.66zm-21.327 0v3.665h.754v-1.487h1.7v1.488h.754v-3.664h-.752v1.479h-1.7v-1.479zm6.7 0v2.1c0 .6-.3.914-.844.914s-.85-.327-.85-.939v-2.07h-.754v2.1a1.464 1.464 0 0 0 1.593 1.622 1.484 1.484 0 0 0 1.608-1.652v-2.072zm10.925 0v3.66h2.806v-.667H27v-.908h1.371v-.668H27v-.75h1.991v-.668zm-7.832.924.538 1.227.036.084h-1.14l.036-.084z\" fill=\"#fff\" transform=\"translate(-5.233 -4.598)\"></path></g></svg></a>,\n",
       " <a class=\"\" draggable=\"false\" href=\"https://www.instagram.com/fotmobapp/\" rel=\"noreferrer noopener\" target=\"_blank\"><svg height=\"100%\" id=\"prefix__ic_instagram\" viewbox=\"0 0 15 15\" width=\"100%\" xmlns=\"http://www.w3.org/2000/svg\"><path d=\"M0 0H15V15H0z\" data-name=\"Rectangle 3182\" fill=\"none\" id=\"prefix__Rectangle_3182\"></path><path d=\"M11.25 0h-7.5A3.761 3.761 0 0 0 0 3.75v7.5A3.761 3.761 0 0 0 3.75 15h7.5A3.761 3.761 0 0 0 15 11.25v-7.5A3.761 3.761 0 0 0 11.25 0zM7.5 10.625A3.125 3.125 0 1 1 10.625 7.5 3.126 3.126 0 0 1 7.5 10.625zm4.063-6.25a.938.938 0 1 1 .938-.938.936.936 0 0 1-.938.938z\" data-name=\"Path 2200\" fill=\"var(--Footer-color)\" id=\"prefix__Path_2200\"></path></svg></a>,\n",
       " <a class=\"\" draggable=\"false\" href=\"https://www.facebook.com/fotmob/\" rel=\"noreferrer noopener\" target=\"_blank\"><svg height=\"100%\" viewbox=\"0 0 18 18\" width=\"100%\" xmlns=\"http://www.w3.org/2000/svg\"><g id=\"ic_facebook\" transform=\"translate(-57 -215)\"><path class=\"cls-1\" d=\"M0 0h18v18H0z\" data-name=\"Rectangle 3404\" fill=\"none\" id=\"Rectangle_3404\" transform=\"translate(57 215)\"></path><path class=\"cls-2\" d=\"M419.46 170.85v-7.379h2.488l.373-2.888h-2.86v-1.84c0-.834.232-1.4 1.428-1.4h1.511v-2.576a20.411 20.411 0 0 0-2.222-.113 3.47 3.47 0 0 0-3.7 3.807v2.126H414v2.888h2.478v7.379z\" fill=\"var(--Footer-color)\" id=\"f\" transform=\"translate(-352.2 61.55)\"></path></g></svg></a>,\n",
       " <a class=\"\" draggable=\"false\" href=\"https://www.linkedin.com/company/norapps/\" rel=\"noreferrer noopener\" target=\"_blank\"><svg height=\"100%\" viewbox=\"0 0 15 15\" width=\"100%\" xmlns=\"http://www.w3.org/2000/svg\"><path d=\"M11.875 0h-8.75A3.125 3.125 0 0 0 0 3.125v8.75A3.125 3.125 0 0 0 3.125 15h8.75A3.125 3.125 0 0 0 15 11.875v-8.75A3.125 3.125 0 0 0 11.875 0zM5 11.875H3.125V5H5zm-.937-7.667a1.1 1.1 0 1 1 1.094-1.1 1.1 1.1 0 0 1-1.094 1.1zm8.437 7.667h-1.875v-3.5c0-2.1-2.5-1.946-2.5 0v3.5H6.25V5h1.875v1.1A2.377 2.377 0 0 1 12.5 7.651z\" fill=\"var(--Footer-color)\" id=\"prefix__ic_linkedin\"></path></svg></a>,\n",
       " <a class=\"\" draggable=\"false\" href=\"https://twitter.com/FotMob\" rel=\"noreferrer noopener\" target=\"_blank\"><svg height=\"100%\" viewbox=\"0 0 18 18\" width=\"100%\" xmlns=\"http://www.w3.org/2000/svg\"><g id=\"ic_twitter\" transform=\"translate(-57 -215)\"><path class=\"cls-1\" d=\"M0 0h18v18H0z\" data-name=\"Rectangle 3404\" fill=\"none\" id=\"Rectangle_3404\" transform=\"translate(57 215)\"></path><path class=\"cls-2\" d=\"M19.781 6.534a7.3 7.3 0 0 1-2.006.508A3.318 3.318 0 0 0 19.3 5.194a7.237 7.237 0 0 1-2.209.795A3.577 3.577 0 0 0 14.568 5a3.374 3.374 0 0 0-3.475 3.263 3.087 3.087 0 0 0 .092.749A10.093 10.093 0 0 1 4.013 5.6a3.106 3.106 0 0 0-.471 1.636 3.216 3.216 0 0 0 1.543 2.718 3.632 3.632 0 0 1-1.571-.407 3.327 3.327 0 0 0 2.773 3.207 3.7 3.7 0 0 1-1.571.055 3.457 3.457 0 0 0 3.263 2.311 7.265 7.265 0 0 1-4.316 1.4 7.5 7.5 0 0 1-.832 0 10.306 10.306 0 0 0 5.332 1.42 9.52 9.52 0 0 0 9.89-9.3v-.424a6.84 6.84 0 0 0 1.737-1.691\" fill=\"var(--Footer-color)\" id=\"ic_twitter_24px\" transform=\"translate(54.733 212.402)\"></path></g></svg></a>,\n",
       " <a href=\"/cookiepolicy\">Cookie policy</a>,\n",
       " <a href=\"/privacy_fotmob.html\">Privacy policy</a>,\n",
       " <a class=\"css-ykfack-ButtonLink e1iunm8l0\" href=\"/\"><svg height=\"24\" viewbox=\"0 0 24 24\" width=\"24\" xmlns=\"http://www.w3.org/2000/svg\"><g fill=\"none\" id=\"matches_off\" transform=\"translate(-182 -183)\"><path class=\"cls-1\" d=\"M21.691 3H2.309A2.309 2.309 0 0 0 0 5.309v13.382A2.309 2.309 0 0 0 2.309 21h19.382A2.309 2.309 0 0 0 24 18.691V5.309A2.309 2.309 0 0 0 21.691 3zM2 10.024h1.209v3.952H2zM11.247 19H2.309A.31.31 0 0 1 2 18.691v-3.215h2.073a.635.635 0 0 0 .636-.635V9.159a.635.635 0 0 0-.636-.635H2V5.309A.31.31 0 0 1 2.309 5h8.938v3.076a3.995 3.995 0 0 0 0 7.848zM9.5 12a2.5 2.5 0 1 1 2.5 2.5A2.5 2.5 0 0 1 9.5 12zM22 13.976h-1.209v-3.952H22zm0-5.452h-2.073a.635.635 0 0 0-.636.635v5.682a.635.635 0 0 0 .636.635H22v3.215a.31.31 0 0 1-.309.309h-8.938v-3.076a3.995 3.995 0 0 0 0-7.848V5h8.938a.31.31 0 0 1 .309.309z\" data-name=\"Path 3068\" fill=\"var(--GlobalColorScheme-MobileFooterSvg-active)\" id=\"Path_3068\" transform=\"translate(182 183)\"></path><path class=\"cls-2\" d=\"M0 0h24v24H0z\" data-name=\"Rectangle 4478\" id=\"Rectangle_4478\" transform=\"translate(182 183)\"></path></g></svg>Matches<!-- --></a>,\n",
       " <a class=\"css-fbt77s-ButtonLink e1iunm8l0\" href=\"/all-leagues\"><svg height=\"24\" viewbox=\"0 0 24 24\" width=\"24\" xmlns=\"http://www.w3.org/2000/svg\"><g fill=\"none\" id=\"leagues_off\" transform=\"translate(-6104 -3843)\"><path class=\"cls-1\" d=\"M20.574 7.161v-.083a.593.593 0 0 0-.592-.556h-.042l-2.43.2c.007-.11.019-.216.031-.322a4.921 4.921 0 0 0 .012-.57.2.2 0 0 0-.064-.148.215.215 0 0 0-.148-.059h-.084A2.2 2.2 0 0 1 15.1 3.589H15.809a.973.973 0 0 0 .673-.327 1.5 1.5 0 0 0 .249-.9.208.208 0 0 0-.208-.195H7.474a.208.208 0 0 0-.208.195 1.5 1.5 0 0 0 .249.9.973.973 0 0 0 .673.327H8.9a2.2 2.2 0 0 1-2.157 2.035h-.084a.215.215 0 0 0-.148.059.2.2 0 0 0-.064.148 4.921 4.921 0 0 0 .012.57c.012.106.024.212.031.322l-2.43-.2h-.042a.593.593 0 0 0-.592.556v.083l-.249 3.393v.005a4.747 4.747 0 0 0 2.9 4.611l3.208 1.283a5.265 5.265 0 0 0 1.728 1.667v1.268a1.047 1.047 0 0 1-1.022 1.019H8.742a1.025 1.025 0 0 0-.667.249.97.97 0 0 0-.331.674v.312a.209.209 0 0 0 .207.2h8.1a.209.209 0 0 0 .207-.2v-.312a.97.97 0 0 0-.331-.674 1.025 1.025 0 0 0-.667-.249h-1.251a1.047 1.047 0 0 1-1.022-1.019V18.12a5.265 5.265 0 0 0 1.728-1.667l3.208-1.283a4.747 4.747 0 0 0 2.9-4.611v-.005zm-13.391 6.8a3.416 3.416 0 0 1-2.256-3.379l.152-2.2 1.62.171a19.028 19.028 0 0 0 1.507 5.855zm8.152-6.2a22.783 22.783 0 0 1-1.548 6.158s-1.081 2.3-1.787 2.418c-.707-.122-1.787-2.418-1.787-2.418a22.783 22.783 0 0 1-1.548-6.158l-.059-.548a4.2 4.2 0 0 0 2.228-2.825h2.332a4.2 4.2 0 0 0 2.228 2.825zm1.482 6.2l-1.023.443a19.028 19.028 0 0 0 1.506-5.85l1.62-.171.152 2.2a3.416 3.416 0 0 1-2.255 3.383z\" data-name=\"Path 3062\" fill=\"var(--GlobalColorScheme-MobileFooterSvg-inActive)\" id=\"Path_3062\" transform=\"translate(6104 3843)\"></path><path class=\"cls-2\" d=\"M0 0h24v24H0z\" data-name=\"Rectangle 4467\" id=\"Rectangle_4467\" transform=\"translate(6104 3843)\"></path></g></svg>Leagues<!-- --></a>,\n",
       " <a class=\"css-fbt77s-ButtonLink e1iunm8l0\" href=\"/world\"><svg height=\"18\" viewbox=\"0 0 18 18.003\" width=\"18\" xmlns=\"http://www.w3.org/2000/svg\"><g id=\"ic_trending\" transform=\"translate(-8397 -5773) translate(8397 5773)\"><path d=\"M0 0H18V18H0z\" fill=\"none\" id=\"Rectangle_3672\"></path></g><g fill=\"var(--GlobalColorScheme-MobileFooterSvg-inActive)\" id=\"Group_4859\"><path class=\"cls-1\" d=\"M9.018 18.925A9 9 0 0 1 .172 11.6h3.607a1.456 1.456 0 0 0 1.148-.662l.781-1.44c.09-.164.186-.255.27-.255s.17.12.2.329l.562 4.088c.031.225.128.355.265.355a.46.46 0 0 0 .322-.2l2.74-3.374a.691.691 0 0 1 1.03-.06l.719.692a2.218 2.218 0 0 0 1.337.534h4.707a9 9 0 0 1-8.842 7.318z\" id=\"Path_2332\" transform=\"translate(-.012 -.922)\"></path><path class=\"cls-1\" d=\"M8.051 9.347c-.138 0-.235-.13-.27-.36l-.719-5.244c-.033-.218-.106-.337-.2-.337s-.18.09-.27.255L3.95 8.5a1.413 1.413 0 0 1-1.141.669H-.006V9a9 9 0 1 1 18 0v.168h-3.359a5.369 5.369 0 0 1-2.189-.534l-1.5-1.44a.689.689 0 0 0-.486-.2.711.711 0 0 0-.546.262L8.368 9.143a.457.457 0 0 1-.317.204z\" id=\"Path_2333\" transform=\"translate(.006 .002)\"></path></g></svg>News<!-- --></a>]"
      ]
     },
     "execution_count": 47,
     "metadata": {},
     "output_type": "execute_result"
    }
   ],
   "source": [
    "soup.find_all(\"a\")"
   ]
  },
  {
   "cell_type": "code",
   "execution_count": null,
   "metadata": {},
   "outputs": [],
   "source": []
  },
  {
   "cell_type": "code",
   "execution_count": null,
   "metadata": {},
   "outputs": [],
   "source": []
  }
 ],
 "metadata": {
  "kernelspec": {
   "display_name": "Python 3",
   "language": "python",
   "name": "python3"
  },
  "language_info": {
   "codemirror_mode": {
    "name": "ipython",
    "version": 3
   },
   "file_extension": ".py",
   "mimetype": "text/x-python",
   "name": "python",
   "nbconvert_exporter": "python",
   "pygments_lexer": "ipython3",
   "version": "3.8.3"
  }
 },
 "nbformat": 4,
 "nbformat_minor": 4
}
