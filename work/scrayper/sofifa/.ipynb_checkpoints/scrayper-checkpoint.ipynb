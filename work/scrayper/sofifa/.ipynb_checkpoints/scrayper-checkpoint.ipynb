{
 "cells": [
  {
   "cell_type": "code",
   "execution_count": 2,
   "metadata": {},
   "outputs": [],
   "source": [
    "import numpy as np\n",
    "import pandas as pd\n",
    "import matplotlib.pyplot as plt\n",
    "import seaborn as sns\n",
    "import scipy\n",
    "\n",
    "import random\n",
    "import urllib.request\n",
    "import requests\n",
    "from bs4 import BeautifulSoup\n",
    "import re"
   ]
  },
  {
   "cell_type": "code",
   "execution_count": 130,
   "metadata": {},
   "outputs": [],
   "source": [
    "base_url = 'https://sofifa.com/'\n",
    "category = ['players', 'teams'][0]\n",
    "offset = 0"
   ]
  },
  {
   "cell_type": "code",
   "execution_count": 131,
   "metadata": {},
   "outputs": [
    {
     "name": "stdout",
     "output_type": "stream",
     "text": [
      "done for 0\r"
     ]
    }
   ],
   "source": [
    "# base_url = base_url + category + '?' +'offset='\n",
    "\n",
    "columns = ['Id', 'Name', 'Age', 'Nationality', 'Club', 'Value', 'Wage', 'Overall', 'Potential']\n",
    "df = pd.DataFrame(columns = columns)\n",
    "for i in range(0,335):\n",
    "    url = base_url + category + '?' +'offset=' + str(i * 60)\n",
    "    res = requests.get(url)\n",
    "    soup = BeautifulSoup(res.text, 'html.parser')\n",
    "    table = soup.find('tbody')\n",
    "    rows = table.find_all('tr')\n",
    "\n",
    "    for row in rows:\n",
    "        td = row.find_all('td')\n",
    "        _id = td[0].find('img').attrs.get('id')\n",
    "        name = td[1].find(\"a\").attrs.get(\"data-tooltip\")\n",
    "        age = td[2].text\n",
    "        nation = td[1].find('img').attrs.get('title')\n",
    "        club = td[5].find('a').text\n",
    "        value = td[6].text.strip()\n",
    "        wage = td[7].text.strip()\n",
    "        overall = td[3].text.strip()\n",
    "        potential = td[4].text.strip()\n",
    "        \n",
    "        _df = pd.DataFrame([[_id, name, age, nation, club, value, wage, overall, potential]],columns=columns)\n",
    "#         player_data.columns = columns\n",
    "        df = df.append(_df, ignore_index=True)\n",
    "    print(\"done for \"+str(offset),end=\"\\r\")\n",
    "\n",
    "\n",
    "df = df.drop_duplicates()\n",
    "df = df.reset_index(drop=True)"
   ]
  },
  {
   "cell_type": "code",
   "execution_count": null,
   "metadata": {},
   "outputs": [],
   "source": []
  },
  {
   "cell_type": "code",
   "execution_count": null,
   "metadata": {},
   "outputs": [],
   "source": [
    "# detailed_columns = [\n",
    "#                     'Crossing', 'Finishing','Heading Accuracy', 'Short Passing', \n",
    "#                     'Volleys', 'Dribbling', 'Curve', 'FK Accuracy', 'Long Passing', \n",
    "#                     'Ball Control', 'Acceleration', 'Sprint Speed', 'Agility',\n",
    "#                     'Reactions', 'Balance', 'Shot Power', 'Jumping', 'Stamina',\n",
    "#                     'Strength', 'Long Shots', 'Aggression', 'Interceptions', \n",
    "#                     'Positioning', 'Vision', 'Penalties', 'Composure',\n",
    "#                     'Defensive Awareness', 'Standing Tackle', 'Sliding Tackle',\n",
    "#                     'GK Diving','GK Handling','GK Kicking','GK Positioning','GK Reflexes',\n",
    "#                     'Height','Weight',]\n",
    "# df_detail = pd.DataFrame(index = range(0, df.count()[0]), columns = detailed_columns)\n",
    "# df_detail[\"Id\"] = df[\"Id\"].values\n",
    "# df_detail.tail()\n",
    "\n",
    "# player_data_url = 'https://sofifa.com/player/'\n",
    "# for _id in df['Id']:\n",
    "#     param = {}\n",
    "    \n",
    "#     url = player_data_url + str(_id)\n",
    "#     res = requests.get(url)\n",
    "#     soup = BeautifulSoup(res.text, 'html.parser')\n",
    "    \n",
    "#     info = soup.find('div', {'class': 'meta'}).text.split(' ')\n",
    "#     info_length = len(info)\n",
    "#     weight = info[info_length - 1]\n",
    "#     height = info[info_length - 2].split('\\'')[0] + '\\'' + info[info_length - 2].split('\\'')[1].split('\\\"')[0]\n",
    "#     param['Height'] = height\n",
    "#     param['Weight'] = weight\n",
    "\n",
    "#     columns = soup.find(\"div\", {\"class\":\"columns\"})\n",
    "#     keys = []\n",
    "#     values = []\n",
    "#     columns3 = columns.find_all(\"ul\",{\"class\":\"pl\"})\n",
    "\n",
    "#     for column in columns3[3:]:\n",
    "#         for li in column.find_all(\"li\"):\n",
    "#             text = li.text\n",
    "#             keys.append(text[2:].strip(\" \").rstrip())\n",
    "#             values.append(text[:2].strip(\" \").rstrip())\n",
    "\n",
    "#         for key, value in zip(keys[:-2],values[:-2]):\n",
    "#             param[key] = value\n",
    "\n",
    "#         for key, value in param.items():\n",
    "#             df_detail.loc[df_detail[\"Id\"] == _id, key] = value\n",
    "\n",
    "    \n",
    "# df_comp = pd.merge(df, df_detail.iloc[:,:79], how='inner', on='Id')\n"
   ]
  },
  {
   "cell_type": "code",
   "execution_count": 52,
   "metadata": {},
   "outputs": [
    {
     "name": "stderr",
     "output_type": "stream",
     "text": [
      "<ipython-input-52-b48cb02e5b8d>:4: SettingWithCopyWarning: \n",
      "A value is trying to be set on a copy of a slice from a DataFrame.\n",
      "Try using .loc[row_indexer,col_indexer] = value instead\n",
      "\n",
      "See the caveats in the documentation: https://pandas.pydata.org/pandas-docs/stable/user_guide/indexing.html#returning-a-view-versus-a-copy\n",
      "  df_argen['Value_str'] = value\n"
     ]
    }
   ],
   "source": [
    "df = pd.read_csv('/work/assets/sofifa/sofifa_short.csv')\n",
    "df_argen = df[df['Nationality']=='Argentina']\n",
    "value = [value[1:-1] for value in df_argen['Value']]\n",
    "df_argen['Value_str'] = value"
   ]
  },
  {
   "cell_type": "code",
   "execution_count": null,
   "metadata": {},
   "outputs": [],
   "source": []
  },
  {
   "cell_type": "code",
   "execution_count": null,
   "metadata": {},
   "outputs": [],
   "source": []
  },
  {
   "cell_type": "code",
   "execution_count": null,
   "metadata": {},
   "outputs": [],
   "source": []
  }
 ],
 "metadata": {
  "kernelspec": {
   "display_name": "Python 3",
   "language": "python",
   "name": "python3"
  },
  "language_info": {
   "codemirror_mode": {
    "name": "ipython",
    "version": 3
   },
   "file_extension": ".py",
   "mimetype": "text/x-python",
   "name": "python",
   "nbconvert_exporter": "python",
   "pygments_lexer": "ipython3",
   "version": "3.8.3"
  }
 },
 "nbformat": 4,
 "nbformat_minor": 4
}
