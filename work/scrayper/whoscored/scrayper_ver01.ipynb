{
 "cells": [
  {
   "cell_type": "code",
   "execution_count": 1,
   "metadata": {},
   "outputs": [],
   "source": [
    "import visualizer\n",
    "import main_ver01 as main\n",
    "import pandas as pd"
   ]
  },
  {
   "cell_type": "code",
   "execution_count": 4,
   "metadata": {},
   "outputs": [],
   "source": [
    "comp_urls = main.getLeagueLinks(main_url='https://www.whoscored.com/')"
   ]
  },
  {
   "cell_type": "code",
   "execution_count": 3,
   "metadata": {},
   "outputs": [
    {
     "data": {
      "text/plain": [
       "['https://www.whoscored.com/Regions/252/Tournaments/2/England-Premier-League',\n",
       " 'https://www.whoscored.com/Regions/108/Tournaments/5/Italy-Serie-A',\n",
       " 'https://www.whoscored.com/Regions/206/Tournaments/4/Spain-LaLiga',\n",
       " 'https://www.whoscored.com/Regions/81/Tournaments/3/Germany-Bundesliga',\n",
       " 'https://www.whoscored.com/Regions/74/Tournaments/22/France-Ligue-1',\n",
       " 'https://www.whoscored.com/Regions/177/Tournaments/21/Portugal-Liga-NOS',\n",
       " 'https://www.whoscored.com/Regions/155/Tournaments/13/Netherlands-Eredivisie',\n",
       " 'https://www.whoscored.com/Regions/182/Tournaments/77/Russia-Premier-League',\n",
       " 'https://www.whoscored.com/Regions/31/Tournaments/95/Brazil-Brasileir%C3%A3o',\n",
       " 'https://www.whoscored.com/Regions/233/Tournaments/85/USA-Major-League-Soccer',\n",
       " 'https://www.whoscored.com/Regions/225/Tournaments/17/Turkey-Super-Lig',\n",
       " 'https://www.whoscored.com/Regions/252/Tournaments/7/England-Championship',\n",
       " 'https://www.whoscored.com/Regions/253/Tournaments/20/Scotland-Premiership',\n",
       " 'https://www.whoscored.com/Regions/252/Tournaments/8/England-League-One',\n",
       " 'https://www.whoscored.com/Regions/252/Tournaments/9/England-League-Two',\n",
       " 'https://www.whoscored.com/Regions/11/Tournaments/68/Argentina-Liga-Profesional',\n",
       " 'https://www.whoscored.com/Regions/22/Tournaments/18/Belgium-Jupiler-Pro-League',\n",
       " 'https://www.whoscored.com/Regions/81/Tournaments/6/Germany-Bundesliga-II',\n",
       " 'https://www.whoscored.com/Regions/250/Tournaments/12/Europe-Champions-League',\n",
       " 'https://www.whoscored.com/Regions/250/Tournaments/30/Europe-Europa-League']"
      ]
     },
     "execution_count": 3,
     "metadata": {},
     "output_type": "execute_result"
    }
   ],
   "source": [
    "comp_urls"
   ]
  },
  {
   "cell_type": "code",
   "execution_count": 5,
   "metadata": {},
   "outputs": [],
   "source": [
    "# teams, match_links = main.getMatchLinks(main_url='https://www.whoscored.com/', \n",
    "# #                                         comp_url=comp_urls[0],\n",
    "#                                         comp_url = 'https://www.whoscored.com/Regions/252/Tournaments/2/England-Premier-League',\n",
    "#                                        )"
   ]
  },
  {
   "cell_type": "code",
   "execution_count": 12,
   "metadata": {},
   "outputs": [],
   "source": [
    "team_links = main.getTeamLinks(f'{target_team}', match_links)\n",
    "team_links"
   ]
  },
  {
   "cell_type": "code",
   "execution_count": 14,
   "metadata": {},
   "outputs": [
    {
     "data": {
      "text/plain": [
       "['https://www.whoscored.com/Matches/1283367/Live/Netherlands-Eredivisie-2018-2019-Vitesse-Ajax',\n",
       " 'https://www.whoscored.com/Matches/1283484/Live/Netherlands-Eredivisie-2018-2019-FC-Utrecht-Ajax',\n",
       " 'https://www.whoscored.com/Matches/1283496/Live/Netherlands-Eredivisie-2018-2019-Ajax-SC-Heerenveen',\n",
       " 'https://www.whoscored.com/Matches/1283509/Live/Netherlands-Eredivisie-2018-2019-Ajax-VVV-Venlo',\n",
       " 'https://www.whoscored.com/Matches/1283598/Live/Netherlands-Eredivisie-2018-2019-FC-Emmen-Ajax',\n",
       " 'https://www.whoscored.com/Matches/1283682/Live/Netherlands-Eredivisie-2018-2019-FC-Groningen-Ajax',\n",
       " 'https://www.whoscored.com/Matches/1343400/Live/Europe-Champions-League-2018-2019-Ajax-Real-Madrid',\n",
       " 'https://www.whoscored.com/Matches/1343408/Live/Europe-Champions-League-2018-2019-Real-Madrid-Ajax',\n",
       " 'https://www.whoscored.com/Matches/1368025/Live/Europe-Champions-League-2018-2019-Ajax-Juventus',\n",
       " 'https://www.whoscored.com/Matches/1368026/Live/Europe-Champions-League-2018-2019-Juventus-Ajax',\n",
       " 'https://www.whoscored.com/Matches/1370009/Live/Europe-Champions-League-2018-2019-Tottenham-Ajax',\n",
       " 'https://www.whoscored.com/Matches/1370010/Live/Europe-Champions-League-2018-2019-Ajax-Tottenham']"
      ]
     },
     "execution_count": 14,
     "metadata": {},
     "output_type": "execute_result"
    }
   ],
   "source": [
    "import re\n",
    "compiler = re.compile(r'\\d+')\n",
    "sorted(team_links, key=lambda s: compiler.search(s).group())"
   ]
  },
  {
   "cell_type": "code",
   "execution_count": 2,
   "metadata": {},
   "outputs": [
    {
     "name": "stdout",
     "output_type": "stream",
     "text": [
      "Region: Europe, League: Champions League, Season: 2021/2022, Match Id: 1592152\n"
     ]
    }
   ],
   "source": [
    "# match_data = main.getTeamData(team_links)\n",
    "match_url = \"https://www.whoscored.com/Matches/1592152/Live/Europe-Champions-League-2021-2022-Benfica-Barcelona\"\n",
    "match_data = main.getMatchData(url=match_url)"
   ]
  },
  {
   "cell_type": "code",
   "execution_count": 2,
   "metadata": {},
   "outputs": [
    {
     "name": "stdin",
     "output_type": "stream",
     "text": [
      "please input season. 2223\n",
      "Please input this game Period 1\n",
      "match URL ... https://www.whoscored.com/Matches/1650630/Live/Spain-LaLiga-2022-2023-Barcelona-Rayo-Vallecano\n"
     ]
    },
    {
     "name": "stdout",
     "output_type": "stream",
     "text": [
      "Region: Spain, League: LaLiga, Season: 2022/2023, Match Id: 1650630\n"
     ]
    },
    {
     "name": "stderr",
     "output_type": "stream",
     "text": [
      "/work/scrayper/whoscored/main_ver01.py:376: FutureWarning: The frame.append method is deprecated and will be removed from pandas in a future version. Use pandas.concat instead.\n",
      "  matches_df = matches_df.append(matches_dict, ignore_index=True)\n",
      "/opt/anaconda3/lib/python3.8/site-packages/pandas/core/indexes/base.py:6982: FutureWarning: In a future version, the Index constructor will not infer numeric dtypes when passed object-dtype sequences (matching Series behavior)\n",
      "  return Index(sequences[0], name=names)\n",
      "<ipython-input-2-6bc3be928538>:63: FutureWarning: pandas.io.json.json_normalize is deprecated, use pandas.json_normalize instead.\n",
      "  df_total = pd.io.json.json_normalize(match_data)\n",
      "<ipython-input-2-6bc3be928538>:75: FutureWarning: pandas.io.json.json_normalize is deprecated, use pandas.json_normalize instead.\n",
      "  df_events = pd.io.json.json_normalize(data)\n"
     ]
    }
   ],
   "source": [
    "teamName = 'barcelona'\n",
    "season = input(str(\"please input season.\"))\n",
    "period = input(str('Please input this game Period'))\n",
    "\n",
    "url = input(str(\"match URL ...\"))\n",
    "match_data = main.getMatchData(url=url)\n",
    "\n",
    "import pickle\n",
    "# Write\n",
    "# with open(file=f\"/work/assets/whoscored/{teamName}/match/{season}/matchData/#{period}.json\",mode=\"wb\") as file:\n",
    "#     pickle.dump(match_data,file)\n",
    "\n",
    "# Read\n",
    "with open(file=f\"/work/assets/whoscored/{teamName}/match/{season}/matchData/#{period}.json\", mode=\"rb\") as file:\n",
    "    match_data = pickle.load(file)\n",
    "\n",
    "\n",
    "matchId = match_data['matchId']\n",
    "homeId = match_data['home']['teamId']\n",
    "homeFormation = match_data['home']['formations'][0]['formationName']\n",
    "\n",
    "awayId = match_data['away']['teamId']\n",
    "awayFormation = match_data['away']['formations'][0]['formationName']\n",
    "\n",
    "matches_df = main.createMatchesDF(match_data)\n",
    "\n",
    "homeName = matches_df['home'][matchId]['name']\n",
    "homeScore = matches_df['home'][matchId]['scores']['fulltime']\n",
    "homeAge = matches_df['home'][matchId]['averageAge']\n",
    "\n",
    "awayName = matches_df['away'][matchId]['name']\n",
    "awayScore = matches_df['away'][matchId]['scores']['fulltime']\n",
    "awayAge = matches_df['away'][matchId]['averageAge']\n",
    "\n",
    "\n",
    "events_df = main.createEventsDF(match_data)\n",
    "events_df = main.addEpvToDataFrame(events_df)\n",
    "\n",
    "import os\n",
    "path = f\"/work/assets/whoscored/{teamName}/match/{season}/eventsData/\"\n",
    "if not os.path.exists(path):\n",
    "    os.makedirs(path)\n",
    "\n",
    "events_df.to_csv(path + f'{season}#{period}.csv')\n",
    "\n",
    "team_players_dict = {}\n",
    "player_ratings = {}\n",
    "for venue in ['home','away']:\n",
    "    team_players_dict[venue] = {}\n",
    "    for player in matches_df[venue][matchId]['players']:\n",
    "        team_players_dict[venue][(player['playerId'],player[\"name\"])] = player['position']\n",
    "        try:\n",
    "            player_ratings[player['name']] = player['stats']['ratings']\n",
    "        except KeyError:\n",
    "            pass\n",
    "\n",
    "import pickle\n",
    "\n",
    "# with open(f\"/work/assets/whoscored/{teamName}/ids/{season}/{season}#{period}.json\", \"wb\") as jsonFile:\n",
    "#     pickle.dump(team_players_dict,jsonFile)\n",
    "            \n",
    "            \n",
    "df_total = pd.io.json.json_normalize(match_data)\n",
    "venue_list = df_total['venueName']\n",
    "\n",
    "df_opponent = df_total[['home.name', 'away.name']]\n",
    "opponent_list = []\n",
    "for idx, row in df_opponent.iterrows():\n",
    "    if row['home.name']==f'{teamName.title()}':\n",
    "        opponent_list.append(row['away.name'])\n",
    "    else:\n",
    "        opponent_list.append(row['home.name'])\n",
    "import os\n",
    "for i, data in enumerate(df_total['events']):\n",
    "    df_events = pd.io.json.json_normalize(data)\n",
    "    df_events['venue'] = venue_list[i]\n",
    "    df_events['opponent'] = opponent_list[i]\n",
    "    path = f\"/work/assets/whoscored/{teamName}/match/{season}/eventsData/\"\n",
    "    if not os.path.exists(path):\n",
    "        os.makedirs(path)\n",
    "        \n",
    "    df_events.to_csv(path + f'{season}#{period}.csv')\n",
    "    "
   ]
  },
  {
   "cell_type": "code",
   "execution_count": 21,
   "metadata": {},
   "outputs": [
    {
     "data": {
      "text/plain": [
       "[{'type': {'value': 103, 'displayName': 'GoalMouthZ'}, 'value': '25'},\n",
       " {'type': {'value': 56, 'displayName': 'Zone'}, 'value': 'Center'},\n",
       " {'type': {'value': 147, 'displayName': 'BlockedY'}, 'value': '42.6'},\n",
       " {'type': {'value': 146, 'displayName': 'BlockedX'}, 'value': '89.8'},\n",
       " {'type': {'value': 73, 'displayName': 'MissLeft'}},\n",
       " {'type': {'value': 29, 'displayName': 'Assisted'}},\n",
       " {'type': {'value': 55, 'displayName': 'RelatedEventId'}, 'value': '495'},\n",
       " {'type': {'value': 15, 'displayName': 'Head'}},\n",
       " {'type': {'value': 233, 'displayName': 'OppositeRelatedEvent'},\n",
       "  'value': '303'},\n",
       " {'type': {'value': 24, 'displayName': 'SetPiece'}},\n",
       " {'type': {'value': 102, 'displayName': 'GoalMouthY'}, 'value': '73.1'},\n",
       " {'type': {'value': 154, 'displayName': 'IntentionalAssist'}},\n",
       " {'type': {'value': 17, 'displayName': 'BoxCentre'}}]"
      ]
     },
     "execution_count": 21,
     "metadata": {},
     "output_type": "execute_result"
    }
   ],
   "source": [
    "events_df[\"qualifiers\"][736]"
   ]
  },
  {
   "cell_type": "code",
   "execution_count": 5,
   "metadata": {},
   "outputs": [
    {
     "name": "stdin",
     "output_type": "stream",
     "text": [
      "please input game week 6\n"
     ]
    }
   ],
   "source": [
    "import pickle\n",
    "## Write\n",
    "season = \"2122\"\n",
    "target_team = \"barcelona\"\n",
    "gw = input(\"please input game week\")\n",
    "with open(file=f\"/work/assets/whoscored/{target_team}/match/{season}/matchData/#{gw}.json\",mode=\"wb\") as file:\n",
    "    pickle.dump(match_data,file)"
   ]
  },
  {
   "cell_type": "code",
   "execution_count": 7,
   "metadata": {},
   "outputs": [
    {
     "name": "stderr",
     "output_type": "stream",
     "text": [
      "<ipython-input-7-b311ff7a7fdd>:3: FutureWarning: pandas.io.json.json_normalize is deprecated, use pandas.json_normalize instead\n",
      "  df_total = pd.io.json.json_normalize(match_data)\n"
     ]
    },
    {
     "data": {
      "text/plain": [
       "36"
      ]
     },
     "execution_count": 7,
     "metadata": {},
     "output_type": "execute_result"
    }
   ],
   "source": [
    "# import pandas as pd\n",
    "import pandas as pd\n",
    "df_total = pd.io.json.json_normalize(match_data)\n",
    "len(match_data)"
   ]
  },
  {
   "cell_type": "code",
   "execution_count": 8,
   "metadata": {},
   "outputs": [
    {
     "data": {
      "text/plain": [
       "['Levante']"
      ]
     },
     "execution_count": 8,
     "metadata": {},
     "output_type": "execute_result"
    }
   ],
   "source": [
    "venue_list = df_total['venueName']\n",
    "\n",
    "df_opponent = df_total[['home.name', 'away.name']]\n",
    "opponent_list = []\n",
    "for idx, row in df_opponent.iterrows():\n",
    "    if row['home.name']==f'{target_team.title()}':\n",
    "        opponent_list.append(row['away.name'])\n",
    "    else:\n",
    "        opponent_list.append(row['home.name'])\n",
    "opponent_list"
   ]
  },
  {
   "cell_type": "code",
   "execution_count": 9,
   "metadata": {},
   "outputs": [
    {
     "name": "stderr",
     "output_type": "stream",
     "text": [
      "<ipython-input-9-681db81888ad>:3: FutureWarning: pandas.io.json.json_normalize is deprecated, use pandas.json_normalize instead\n",
      "  df_events = pd.io.json.json_normalize(data)\n"
     ]
    }
   ],
   "source": [
    "import os\n",
    "for i, data in enumerate(df_total['events']):\n",
    "    df_events = pd.io.json.json_normalize(data)\n",
    "    df_events['venue'] = venue_list[i]\n",
    "    df_events['opponent'] = opponent_list[i]\n",
    "    path = f'/work/assets/whoscored/{target_team}/match/{season}/'\n",
    "    if not os.path.exists(path):\n",
    "        os.makedirs(path)\n",
    "#     df_events.to_csv(path + f'2122#{opponent_list[i]}.csv')\n",
    "#     df_events.to_csv(path + f'2021#{gw}.csv')\n",
    "    if season == \"2122\":\n",
    "        df_events.to_csv(f\"/work/assets/whoscored/{target_team}/match/{season}/eventsData/{season}#{gw}.csv\")\n",
    "    else:\n",
    "        df_events.to_csv(f\"/work/assets/whoscored/{target_team}/match/{season}/{season}#{gw}.csv\")\n",
    "#     df_events.to_csv(path + f'2021#{i}.csv')\n",
    "    \n",
    "    "
   ]
  },
  {
   "cell_type": "code",
   "execution_count": 11,
   "metadata": {},
   "outputs": [],
   "source": [
    "matchId = match_data['matchId']\n",
    "homeId = match_data['home']['teamId']\n",
    "homeFormation = match_data['home']['formations'][0]['formationName']\n",
    "\n",
    "awayId = match_data['away']['teamId']\n",
    "awayFormation = match_data['away']['formations'][0]['formationName']\n",
    "\n",
    "matches_df = main.createMatchesDF(match_data)\n",
    "\n",
    "homeName = matches_df['home'][matchId]['name']\n",
    "homeScore = matches_df['home'][matchId]['scores']['fulltime']\n",
    "homeAge = matches_df['home'][matchId]['averageAge']\n",
    "\n",
    "awayName = matches_df['away'][matchId]['name']\n",
    "awayScore = matches_df['away'][matchId]['scores']['fulltime']\n",
    "awayAge = matches_df['away'][matchId]['averageAge']\n",
    "\n",
    "\n",
    "# events_df = main.createEventsDF(match_data)\n",
    "\n",
    "team_players_dict = {}\n",
    "player_ratings = {}\n",
    "for venue in ['home','away']:\n",
    "    team_players_dict[venue] = {}\n",
    "    for player in matches_df[venue][matchId]['players']:\n",
    "        team_players_dict[venue][(player['playerId'],player[\"name\"])] = player['position']\n",
    "        try:\n",
    "            player_ratings[player['name']] = player['stats']['ratings']\n",
    "        except KeyError:\n",
    "            pass\n",
    "\n",
    "import pickle\n",
    "\n",
    "with open(f\"/work/assets/whoscored/{teamName}/ids/{season}/{season}#{gw}.json\", \"wb\") as jsonFile:\n",
    "    pickle.dump(team_players_dict,jsonFile)\n",
    "    "
   ]
  },
  {
   "cell_type": "code",
   "execution_count": null,
   "metadata": {},
   "outputs": [],
   "source": [
    "matchIds = matches_df.index.values"
   ]
  },
  {
   "cell_type": "code",
   "execution_count": null,
   "metadata": {},
   "outputs": [],
   "source": [
    "ids = pd.read_csv('/work/assets/whoscored/barcelona/ids/player_id.csv')"
   ]
  },
  {
   "cell_type": "code",
   "execution_count": null,
   "metadata": {},
   "outputs": [],
   "source": [
    "playerIds = events_df['playerId']"
   ]
  },
  {
   "cell_type": "code",
   "execution_count": null,
   "metadata": {},
   "outputs": [],
   "source": [
    "e_df = events_df[(events_df['isGoal']==True)|(events_df['playerId']==11119.0)]\n",
    "types = []\n",
    "for row in e_df['type']:\n",
    "    rn = row['displayName']\n",
    "    types.append(rn)\n",
    "e_df['detail'] = types\n",
    "e_df = e_df[['playerId', 'type', 'second', 'detail']]\n",
    "e_df = e_df[(e_df['detail']=='Pass')|(e_df['detail']=='Goal')]\n",
    "ids = e_df['playerId']"
   ]
  },
  {
   "cell_type": "code",
   "execution_count": null,
   "metadata": {},
   "outputs": [],
   "source": [
    "next_df = e_df.shift(-1)\n",
    "next_df = next_df.rename(columns={'type':'type_next', 'second':'minute_next', 'detail':'detail_next'})\n",
    "\n",
    "df = pd.merge(e_df,next_df)"
   ]
  },
  {
   "cell_type": "code",
   "execution_count": 6,
   "metadata": {},
   "outputs": [
    {
     "data": {
      "text/plain": [
       "0       True\n",
       "1       True\n",
       "2       True\n",
       "3       True\n",
       "4       True\n",
       "        ... \n",
       "1514    True\n",
       "1515    True\n",
       "1516    True\n",
       "1517    True\n",
       "1518    True\n",
       "Name: EPV, Length: 1519, dtype: bool"
      ]
     },
     "execution_count": 6,
     "metadata": {},
     "output_type": "execute_result"
    }
   ],
   "source": [
    "events_df[\"EPV\"].isna()"
   ]
  },
  {
   "cell_type": "code",
   "execution_count": null,
   "metadata": {},
   "outputs": [],
   "source": []
  }
 ],
 "metadata": {
  "kernelspec": {
   "display_name": "Python 3",
   "language": "python",
   "name": "python3"
  },
  "language_info": {
   "codemirror_mode": {
    "name": "ipython",
    "version": 3
   },
   "file_extension": ".py",
   "mimetype": "text/x-python",
   "name": "python",
   "nbconvert_exporter": "python",
   "pygments_lexer": "ipython3",
   "version": "3.8.3"
  }
 },
 "nbformat": 4,
 "nbformat_minor": 4
}
