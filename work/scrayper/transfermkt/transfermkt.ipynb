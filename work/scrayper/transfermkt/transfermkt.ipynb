{
 "cells": [
  {
   "cell_type": "code",
   "execution_count": 3,
   "metadata": {},
   "outputs": [],
   "source": [
    "#          Copyright Rein Halbersma 2020-2021.\n",
    "# Distributed under the Boost Software License, Version 1.0.\n",
    "#    (See accompanying file LICENSE_1_0.txt or copy at\n",
    "#          http://www.boost.org/LICENSE_1_0.txt)\n",
    "\n",
    "# Re-implementing Marcel Wieting's LinkedIn post\n",
    "# https://www.linkedin.com/pulse/web-scraping-relative-age-effect-professional-football-marcel-wieting/?trackingId=d8UqaacWy%2FaNdTYFhh4MsQ%3D%3D\n",
    "\n",
    "import re\n",
    "\n",
    "import bs4\n",
    "import lxml\n",
    "from typing import Optional, Tuple\n",
    "\n",
    "from etiget import etiget\n",
    "\n",
    "transfermarkt_url = 'https://www.transfermarkt.com'\n",
    "eu_leagues = '/wettbewerbe/europa'\n",
    "\n",
    "def fetch_eu_leagues(page: str) -> bs4.element.ResultSet:\n",
    "    response = etiget(transfermarkt_url + eu_leagues + f'?page={page}')\n",
    "    assert response.status_code == 200\n",
    "    return (bs4\n",
    "        .BeautifulSoup(response.content, 'lxml')\n",
    "        .find('div', class_='responsive-table')\n",
    "        .find('tbody')\n",
    "        .find_all('tr', class_=re.compile('odd|even'))\n",
    "    )\n",
    "\n",
    "def extract_league_link(league: bs4.element.Tag) -> str:\n",
    "    return (league\n",
    "        .find_all('td')[2]\n",
    "        .find('a')\n",
    "        .get('href')\n",
    "    )\n",
    "\n",
    "def fetch_clubs(league: str) -> bs4.element.ResultSet:\n",
    "    response = etiget(transfermarkt_url + league)\n",
    "    assert response.status_code == 200\n",
    "    return (bs4\n",
    "        .BeautifulSoup(response.content, 'lxml')\n",
    "        .find('div', class_='responsive-table')\n",
    "        .find('tbody')\n",
    "        .find_all('tr', class_=re.compile('odd|even'))\n",
    "    )\n",
    "\n",
    "def extract_club_link(club: bs4.element.Tag) -> str:\n",
    "    return (club\n",
    "        .find('td')\n",
    "        .find('a')\n",
    "        .get('href')\n",
    "    )\n",
    "\n",
    "def fetch_players(club: str) -> bs4.element.ResultSet:\n",
    "    response = etiget(transfermarkt_url + club)\n",
    "    try:\n",
    "        soup = bs4.BeautifulSoup(response.content, 'lxml')\n",
    "        try:\n",
    "            return (soup\n",
    "                .find('div', class_='responsive-table')\n",
    "                .find('tbody')\n",
    "                .find_all('tr', class_=re.compile('odd|even'))\n",
    "            )\n",
    "        except Exception as e:\n",
    "            print(f'{e}: empty squad for club == {club}')\n",
    "            return []\n",
    "    except:\n",
    "        print(f'Error {response.status_code}: not finding club == {club}')\n",
    "        return []\n",
    "\n",
    "def extract_player_data(player: bs4.element.Tag) -> Tuple[Optional[str], Optional[str], Optional[str], Optional[str], Optional[str]]:\n",
    "    try:\n",
    "        number = (player\n",
    "            .find('div', class_='rn_nummer')\n",
    "            .text\n",
    "        )\n",
    "    except:\n",
    "        number = None\n",
    "    try:\n",
    "        name = (player\n",
    "            .find('td', itemprop='athlete')\n",
    "            .text\n",
    "        )\n",
    "    except:\n",
    "        name = None\n",
    "    try:\n",
    "        position = (player\n",
    "            .find('td', class_='posrela')\n",
    "            .find_all('tr')[1]\n",
    "            .find('td')\n",
    "            .text\n",
    "        )\n",
    "    except:\n",
    "        position = None\n",
    "    try:\n",
    "        birth_date = (player\n",
    "            .find_all('td', recursive=False)[3]\n",
    "            .text\n",
    "        )\n",
    "    except:\n",
    "        birth_date = None\n",
    "    try:\n",
    "        market_value = (player\n",
    "            .find('td', class_='rechts hauptlink')\n",
    "            .text\n",
    "        )\n",
    "    except:\n",
    "        market_value = None\n",
    "    return number, name, position, birth_date, market_value"
   ]
  },
  {
   "cell_type": "code",
   "execution_count": 2,
   "metadata": {},
   "outputs": [],
   "source": [
    "table = fetch_eu_leagues(\"1\")"
   ]
  },
  {
   "cell_type": "code",
   "execution_count": 138,
   "metadata": {},
   "outputs": [],
   "source": [
    "data = []\n",
    "for d in table:\n",
    "    tr = d.find_all(\"tr\")\n",
    "    for row in tr:\n",
    "        cols = row.find_all('td')\n",
    "        cols = [ele.text.strip() for ele in cols]\n",
    "        data.append([ele for ele in cols if ele]) "
   ]
  },
  {
   "cell_type": "code",
   "execution_count": 139,
   "metadata": {},
   "outputs": [],
   "source": [
    "import pandas as pd\n",
    "import matplotlib.pyplot as plt"
   ]
  },
  {
   "cell_type": "code",
   "execution_count": 140,
   "metadata": {},
   "outputs": [
    {
     "data": {
      "text/plain": [
       "'/premier-league/startseite/wettbewerb/GB1'"
      ]
     },
     "execution_count": 140,
     "metadata": {},
     "output_type": "execute_result"
    }
   ],
   "source": [
    "extract_league_link(table[0])"
   ]
  },
  {
   "cell_type": "code",
   "execution_count": 222,
   "metadata": {},
   "outputs": [],
   "source": [
    "link = \"/fc-barcelona/startseite/verein/131\""
   ]
  },
  {
   "cell_type": "code",
   "execution_count": 223,
   "metadata": {},
   "outputs": [
    {
     "name": "stdout",
     "output_type": "stream",
     "text": [
      "('1', 'Marc-André ter Stegen', 'Goalkeeper', 'Apr 30, 1992 (30)', '€30.00m\\xa0\\xa0')\n",
      "('13', 'Neto', 'Goalkeeper', 'Jul 19, 1989 (32)', '€3.00m\\xa0\\xa0')\n",
      "('36', 'Arnau Tenas', 'Goalkeeper', 'May 30, 2001 (21)', '€1.50m\\xa0\\xa0')\n",
      "('4', 'Ronald Araújo', 'Centre-Back', 'Mar 7, 1999 (23)', '€50.00m\\xa0\\xa0')\n",
      "('24', 'Eric García', 'Centre-Back', 'Jan 9, 2001 (21)', '€18.00m\\xa0\\xa0')\n",
      "('15', 'Clément Lenglet', 'Centre-Back', 'Jun 17, 1995 (26)', '€12.00m\\xa0\\xa0')\n",
      "('22', 'Óscar Mingueza', 'Centre-Back', 'May 13, 1999 (23)', '€6.00m\\xa0\\xa0')\n",
      "('3', 'Gerard Piqué', 'Centre-Back', 'Feb 2, 1987 (35)', '€5.00m\\xa0\\xa0')\n",
      "('23', 'Samuel Umtiti', 'Centre-Back', 'Nov 14, 1993 (28)', '€2.00m\\xa0\\xa0')\n",
      "('18', 'Jordi Alba', 'Left-Back', 'Mar 21, 1989 (33)', '€9.00m\\xa0\\xa0')\n",
      "('31', 'Álex Balde', 'Left-Back', 'Oct 18, 2003 (18)', '€4.00m\\xa0\\xa0')\n",
      "('2', 'Sergiño Dest', 'Right-Back', 'Nov 3, 2000 (21)', '€18.00m\\xa0\\xa0')\n",
      "('-', 'Moussa Wagué', 'Right-Back', 'Oct 4, 1998 (23)', '€1.50m\\xa0\\xa0')\n",
      "('8', 'Dani Alves', 'Right-Back', 'May 6, 1983 (39)', '€1.00m\\xa0\\xa0')\n",
      "('5', 'Sergio Busquets', 'Defensive Midfield', 'Jul 16, 1988 (33)', '€9.00m\\xa0\\xa0')\n",
      "('16', 'Pedri', 'Central Midfield', 'Nov 25, 2002 (19)', '€80.00m\\xa0\\xa0')\n",
      "('21', 'Frenkie de Jong', 'Central Midfield', 'May 12, 1997 (25)', '€60.00m\\xa0\\xa0')\n",
      "('30', 'Gavi', 'Central Midfield', 'Aug 5, 2004 (17)', '€60.00m\\xa0\\xa0')\n",
      "('14', 'Nico González', 'Central Midfield', 'Jan 3, 2002 (20)', '€20.00m\\xa0\\xa0')\n",
      "('6', 'Riqui Puig', 'Central Midfield', 'Aug 13, 1999 (22)', '€7.00m\\xa0\\xa0')\n",
      "('20', 'Sergi Roberto', 'Central Midfield', 'Feb 7, 1992 (30)', '€6.00m\\xa0\\xa0')\n",
      "('10', 'Ansu Fati', 'Left Winger', 'Oct 31, 2002 (19)', '€60.00m\\xa0\\xa0')\n",
      "('19', 'Ferran Torres', 'Left Winger', 'Feb 29, 2000 (22)', '€45.00m\\xa0\\xa0')\n",
      "('33', 'Ez Abde', 'Left Winger', 'Dec 17, 2001 (20)', '€8.00m\\xa0\\xa0')\n",
      "('7', 'Ousmane Dembélé', 'Right Winger', 'May 15, 1997 (25)', '€30.00m\\xa0\\xa0')\n",
      "('11', 'Adama Traoré', 'Right Winger', 'Jan 25, 1996 (26)', '€20.00m\\xa0\\xa0')\n",
      "('9', 'Memphis Depay', 'Centre-Forward', 'Feb 13, 1994 (28)', '€35.00m\\xa0\\xa0')\n",
      "('25', 'Pierre-Emerick Aubameyang', 'Centre-Forward', 'Jun 18, 1989 (32)', '€15.00m\\xa0\\xa0')\n",
      "('12', 'Martin Braithwaite', 'Centre-Forward', 'Jun 5, 1991 (31)', '€6.00m\\xa0\\xa0')\n",
      "('17', 'Luuk de Jong', 'Centre-Forward', 'Aug 27, 1990 (31)', '€4.00m\\xa0\\xa0')\n"
     ]
    }
   ],
   "source": [
    "# Positionごとの人数\n",
    "players = fetch_players(link)\n",
    "\n",
    "data = []\n",
    "for i in range(len(players)):\n",
    "    d = extract_player_data(players[i])\n",
    "    print(d)\n",
    "    data.append(d[2])"
   ]
  },
  {
   "cell_type": "code",
   "execution_count": 224,
   "metadata": {},
   "outputs": [
    {
     "data": {
      "text/plain": [
       "{'Central Midfield',\n",
       " 'Centre-Back',\n",
       " 'Centre-Forward',\n",
       " 'Defensive Midfield',\n",
       " 'Goalkeeper',\n",
       " 'Left Winger',\n",
       " 'Left-Back',\n",
       " 'Right Winger',\n",
       " 'Right-Back'}"
      ]
     },
     "execution_count": 224,
     "metadata": {},
     "output_type": "execute_result"
    }
   ],
   "source": [
    "param = set(data)\n",
    "param"
   ]
  },
  {
   "cell_type": "code",
   "execution_count": 30,
   "metadata": {},
   "outputs": [
    {
     "name": "stdout",
     "output_type": "stream",
     "text": [
      "[11.54, 15.38, 11.54, 7.69, 7.69, 15.38, 7.69, 7.69, 3.85, 7.69]\n",
      "dict_keys(['Goalkeeper', 'Centre-Back', 'Right-Back', 'Left-Back', 'Defensive Midfield', 'Central Midfield', 'Attacking Midfield', 'Right Winger', 'Left Winger', 'Centre-Forward'])\n"
     ]
    }
   ],
   "source": [
    "vdict = pd.Series(data).value_counts(normalize=True).to_dict()\n",
    "\n",
    "newDict = {\"Goalkeeper\":vdict[\"Goalkeeper\"],\n",
    "           \"Centre-Back\":vdict['Centre-Back'],\n",
    "           'Right-Back':vdict['Right-Back'],\n",
    "           'Left-Back':vdict['Left-Back'],\n",
    "           'Defensive Midfield':vdict['Defensive Midfield'],\n",
    "           'Central Midfield':vdict['Central Midfield'],\n",
    "           'Attacking Midfield':vdict['Attacking Midfield'],\n",
    "           'Right Winger':vdict['Right Winger'],\n",
    "           'Left Winger':vdict['Left Winger'],\n",
    "           'Centre-Forward':vdict['Centre-Forward'],\n",
    "          }\n",
    "params = newDict.keys()\n",
    "values = list(newDict.values())\n",
    "values = list(map(lambda i:round(i*100,2),values))\n",
    "\n",
    "print(values)\n",
    "print(params)\n",
    "# print(newDict)"
   ]
  },
  {
   "cell_type": "code",
   "execution_count": 31,
   "metadata": {},
   "outputs": [
    {
     "data": {
      "image/png": "[encoded data removed]",
      "text/plain": [
       "<Figure size 1080x576 with 1 Axes>"
      ]
     },
     "metadata": {},
     "output_type": "display_data"
    }
   ],
   "source": [
    "import requests\n",
    "from bs4 import BeautifulSoup\n",
    "import json\n",
    "import pandas as pd\n",
    "import matplotlib.pyplot as plt\n",
    "import numpy as np\n",
    "import matplotlib as mpl\n",
    "import seaborn as sns\n",
    "from mplsoccer import VerticalPitch,FontManager,add_image\n",
    "from matplotlib.colors import LinearSegmentedColormap\n",
    "from matplotlib import colors\n",
    "from urllib.request import urlopen\n",
    "from PIL import Image\n",
    "\n",
    "from matplotlib.patches import Circle, Rectangle, Arc\n",
    "fig,axes = plt.subplots(figsize=(15,8),subplot_kw={'projection': 'polar'})\n",
    "fig.set_facecolor(\"#131313\")"
   ]
  },
  {
   "cell_type": "code",
   "execution_count": 32,
   "metadata": {},
   "outputs": [
    {
     "data": {
      "text/plain": [
       "<BarContainer object of 8 artists>"
      ]
     },
     "execution_count": 32,
     "metadata": {},
     "output_type": "execute_result"
    },
    {
     "data": {
      "image/png": "[encoded data removed]",
      "text/plain": [
       "<Figure size 1080x576 with 1 Axes>"
      ]
     },
     "metadata": {},
     "output_type": "display_data"
    }
   ],
   "source": [
    "fig,axes = plt.subplots(figsize=(15,8),subplot_kw={'projection': 'polar'})\n",
    "fig.set_facecolor(\"#131313\")\n",
    "axes.set_facecolor(\"#141414\")\n",
    "\n",
    "axes.spines[\"polar\"].set_visible(False)\n",
    "axes.spines[\"polar\"].set_color(\"green\")\n",
    "axes.set_xticklabels([])\n",
    "axes.set_yticks([])\n",
    "axes.grid(False)\n",
    "\n",
    "\n",
    "# axes[x].set_xticklabels([])\n",
    "# axes[x].set_yticks([])\n",
    "# axes[x].grid(False, alpha=0)\n",
    "\n",
    "axes.bar(np.arange(8)*(2*np.pi/8), \n",
    "         np.random.uniform(low=0.0, high=100.0, size=8), \n",
    "         width=.75, bottom=0, \n",
    "         alpha=0.9, color=\"red\", zorder=3)"
   ]
  },
  {
   "cell_type": "code",
   "execution_count": 143,
   "metadata": {},
   "outputs": [],
   "source": [
    "from mplsoccer import PyPizza,FontManager\n",
    "font_normal = FontManager((\"https://github.com/google/fonts/blob/main/apache/roboto/static/\"\n",
    "                           \"Roboto-Regular.ttf?raw=true\"))\n",
    "font_italic = FontManager((\"https://github.com/google/fonts/blob/main/apache/roboto/static/\"\n",
    "                           \"Roboto-Italic.ttf?raw=true\"))\n",
    "font_bold = FontManager((\"https://github.com/google/fonts/blob/main/apache/roboto/static/\"\n",
    "                         \"Roboto-Medium.ttf?raw=true\"))\n",
    "slice_colors = [\"#4361ee\"] * 1 + [\"#ee9b00\"] * 3 + [\"#43aa8b\"]*3 + [\"#ae2012\"] * 3 \n",
    "text_colors = [\"#FFFFFF\"] * 10"
   ]
  },
  {
   "cell_type": "code",
   "execution_count": 185,
   "metadata": {},
   "outputs": [
    {
     "data": {
      "text/plain": [
       "11"
      ]
     },
     "execution_count": 185,
     "metadata": {},
     "output_type": "execute_result"
    }
   ],
   "source": [
    "# baker = PyPizza(\n",
    "#     params=vkeys,                  # list of parameters\n",
    "#     straight_line_color=\"#ededed\",  # color for straight lines\n",
    "#     straight_line_limit=25,\n",
    "#     straight_line_lw=1,             # linewidth for straight lines\n",
    "#     last_circle_lw=1,               # linewidth of last circle\n",
    "#     other_circle_lw=1,              # linewidth for other circles\n",
    "#     other_circle_ls=\"-.\",           # linestyle for other circles\n",
    "# )\n",
    "\n",
    "baker = PyPizza(\n",
    "    params=params,                  # list of parameters\n",
    "    background_color=\"#131313\",     # background color\n",
    "    straight_line_color=\"#EBEBE9\",  # color for straight lines\n",
    "    straight_line_limit=25,\n",
    "    straight_line_lw=1,             # linewidth for straight lines\n",
    "    last_circle_lw=0,               # linewidth of last circle\n",
    "    other_circle_lw=0,              # linewidth for other circles\n",
    "    inner_circle_size=3.5             # size of inner circle\n",
    ")\n",
    "\n",
    "len(values)\n"
   ]
  },
  {
   "cell_type": "code",
   "execution_count": 186,
   "metadata": {},
   "outputs": [
    {
     "ename": "TypeError",
     "evalue": "object of type 'int' has no len()",
     "output_type": "error",
     "traceback": [
      "\u001b[0;31m---------------------------------------------------------------------------\u001b[0m",
      "\u001b[0;31mTypeError\u001b[0m                                 Traceback (most recent call last)",
      "\u001b[0;32m<ipython-input-186-bbe1503ef1f3>\u001b[0m in \u001b[0;36m<module>\u001b[0;34m\u001b[0m\n\u001b[1;32m      1\u001b[0m \u001b[0mtextColor\u001b[0m \u001b[0;34m=\u001b[0m \u001b[0;34m\"#ffffff\"\u001b[0m\u001b[0;34m\u001b[0m\u001b[0;34m\u001b[0m\u001b[0m\n\u001b[1;32m      2\u001b[0m \u001b[0;34m\u001b[0m\u001b[0m\n\u001b[0;32m----> 3\u001b[0;31m fig, ax = baker.make_pizza(\n\u001b[0m\u001b[1;32m      4\u001b[0m     \u001b[0mvalues\u001b[0m\u001b[0;34m,\u001b[0m                          \u001b[0;31m# list of values\u001b[0m\u001b[0;34m\u001b[0m\u001b[0;34m\u001b[0m\u001b[0m\n\u001b[1;32m      5\u001b[0m     \u001b[0mfigsize\u001b[0m\u001b[0;34m=\u001b[0m\u001b[0;34m(\u001b[0m\u001b[0;36m8\u001b[0m\u001b[0;34m,\u001b[0m \u001b[0;36m8.5\u001b[0m\u001b[0;34m)\u001b[0m\u001b[0;34m,\u001b[0m                \u001b[0;31m# adjust figsize according to your need\u001b[0m\u001b[0;34m\u001b[0m\u001b[0;34m\u001b[0m\u001b[0m\n",
      "\u001b[0;32m/opt/anaconda3/lib/python3.8/site-packages/mplsoccer/py_pizza.py\u001b[0m in \u001b[0;36mmake_pizza\u001b[0;34m(self, values, compare_values, bottom, figsize, ax, param_location, slice_colors, value_colors, compare_colors, value_bck_colors, compare_value_colors, compare_value_bck_colors, color_blank_space, blank_alpha, kwargs_slices, kwargs_compare, kwargs_params, kwargs_values, kwargs_compare_values)\u001b[0m\n\u001b[1;32m    155\u001b[0m         \u001b[0;32mif\u001b[0m \u001b[0mvalue_bck_colors\u001b[0m \u001b[0;32mis\u001b[0m \u001b[0;32mnot\u001b[0m \u001b[0;32mNone\u001b[0m \u001b[0;32mand\u001b[0m \u001b[0mlen\u001b[0m\u001b[0;34m(\u001b[0m\u001b[0mvalue_bck_colors\u001b[0m\u001b[0;34m)\u001b[0m \u001b[0;34m!=\u001b[0m \u001b[0mlen\u001b[0m\u001b[0;34m(\u001b[0m\u001b[0mself\u001b[0m\u001b[0;34m.\u001b[0m\u001b[0mparams\u001b[0m\u001b[0;34m)\u001b[0m\u001b[0;34m:\u001b[0m\u001b[0;34m\u001b[0m\u001b[0;34m\u001b[0m\u001b[0m\n\u001b[1;32m    156\u001b[0m             \u001b[0;32mraise\u001b[0m \u001b[0mException\u001b[0m\u001b[0;34m(\u001b[0m\u001b[0;34m\"Length of text_bck_colors and params are not equal!!!\"\u001b[0m\u001b[0;34m)\u001b[0m\u001b[0;34m\u001b[0m\u001b[0;34m\u001b[0m\u001b[0m\n\u001b[0;32m--> 157\u001b[0;31m         \u001b[0;32mif\u001b[0m \u001b[0mself\u001b[0m\u001b[0;34m.\u001b[0m\u001b[0mmin_range\u001b[0m \u001b[0;32mis\u001b[0m \u001b[0;32mnot\u001b[0m \u001b[0;32mNone\u001b[0m \u001b[0;32mand\u001b[0m \u001b[0mlen\u001b[0m\u001b[0;34m(\u001b[0m\u001b[0mself\u001b[0m\u001b[0;34m.\u001b[0m\u001b[0mmin_range\u001b[0m\u001b[0;34m)\u001b[0m \u001b[0;34m!=\u001b[0m \u001b[0mlen\u001b[0m\u001b[0;34m(\u001b[0m\u001b[0mself\u001b[0m\u001b[0;34m.\u001b[0m\u001b[0mmax_range\u001b[0m\u001b[0;34m)\u001b[0m\u001b[0;34m:\u001b[0m\u001b[0;34m\u001b[0m\u001b[0;34m\u001b[0m\u001b[0m\n\u001b[0m\u001b[1;32m    158\u001b[0m             \u001b[0;32mraise\u001b[0m \u001b[0mException\u001b[0m\u001b[0;34m(\u001b[0m\u001b[0;34m\"Length of min_range and max_range are not equal!!!\"\u001b[0m\u001b[0;34m)\u001b[0m\u001b[0;34m\u001b[0m\u001b[0;34m\u001b[0m\u001b[0m\n\u001b[1;32m    159\u001b[0m         \u001b[0;32mif\u001b[0m \u001b[0mself\u001b[0m\u001b[0;34m.\u001b[0m\u001b[0mmin_range\u001b[0m \u001b[0;32mis\u001b[0m \u001b[0;32mnot\u001b[0m \u001b[0;32mNone\u001b[0m \u001b[0;32mand\u001b[0m \u001b[0mlen\u001b[0m\u001b[0;34m(\u001b[0m\u001b[0mself\u001b[0m\u001b[0;34m.\u001b[0m\u001b[0mmin_range\u001b[0m\u001b[0;34m)\u001b[0m \u001b[0;34m!=\u001b[0m \u001b[0mlen\u001b[0m\u001b[0;34m(\u001b[0m\u001b[0mvalues\u001b[0m\u001b[0;34m)\u001b[0m\u001b[0;34m:\u001b[0m\u001b[0;34m\u001b[0m\u001b[0;34m\u001b[0m\u001b[0m\n",
      "\u001b[0;31mTypeError\u001b[0m: object of type 'int' has no len()"
     ]
    }
   ],
   "source": [
    "textColor = \"#ffffff\"\n",
    "\n",
    "fig, ax = baker.make_pizza(\n",
    "    values,                          # list of values\n",
    "    figsize=(8, 8.5),                # adjust figsize according to your need\n",
    "    color_blank_space=\"same\",        # use same color to fill blank space\n",
    "    slice_colors=slice_colors,       # color for individual slices\n",
    "    value_colors=text_colors,        # color for the value-text\n",
    "    value_bck_colors=slice_colors,   # color for the blank spaces\n",
    "    blank_alpha=0.4,                 # alpha for blank-space colors\n",
    "    param_location=28,\n",
    "    kwargs_slices=dict(\n",
    "        facecolor=\"#131313\", edgecolor=\"#000000\",\n",
    "        zorder=2, linewidth=1\n",
    "    ),                   # values to be used when plotting slices\n",
    "    kwargs_params=dict(\n",
    "        color=textColor, fontsize=12,\n",
    "        va=\"center\", alpha=.9\n",
    "    ),                   # values to be used when adding parameter\n",
    "    kwargs_values=dict(\n",
    "        color=textColor, fontsize=12,\n",
    "        zorder=3,\n",
    "        bbox=dict(\n",
    "            edgecolor=\"#111111\", facecolor=\"#6CABDD\",\n",
    "            boxstyle=\"Roundtooth,pad=0.5\", lw=1.5\n",
    "        )\n",
    "    )                    # values to be used when adding parameter-values\n",
    ")\n",
    "fig.patches.extend([\n",
    "    plt.Rectangle(\n",
    "        (0.29, 0.9225), 0.025, 0.021, fill=True, color=\"#1a78cf\",\n",
    "        transform=fig.transFigure, figure=fig\n",
    "    ),\n",
    "    plt.Rectangle(\n",
    "        (0.42, 0.9225), 0.025, 0.021, fill=True, color=\"#ff9300\",\n",
    "        transform=fig.transFigure, figure=fig\n",
    "    ),\n",
    "    plt.Rectangle(\n",
    "        (0.55, 0.9225), 0.025, 0.021, fill=True, color=\"#43aa8b\",\n",
    "        transform=fig.transFigure, figure=fig\n",
    "    ),\n",
    "    plt.Rectangle(\n",
    "        (0.68, 0.9225), 0.025, 0.021, fill=True, color=\"#d70232\",\n",
    "        transform=fig.transFigure, figure=fig\n",
    "    ),\n",
    "])\n",
    "# add title\n",
    "fig.text(\n",
    "    0.511, 0.975, \"Bayern\", size=16,\n",
    "    ha=\"center\", fontproperties=font_bold.prop, color=textColor\n",
    ")\n",
    "\n",
    "# add subtitle\n",
    "fig.text(\n",
    "    0.515, 0.953,\n",
    "    \"Squad Balance in terms of Position | Season 2021-22\",\n",
    "    size=13,\n",
    "    ha=\"center\", fontproperties=font_bold.prop, color=textColor\n",
    ")\n",
    "\n",
    "# add credits\n",
    "CREDIT_1 = \"data: transfermarkt.com\"\n",
    "CREDIT_2 = \"inspired by: @Worville, @FootballSlices\"\n",
    "\n",
    "fig.text(\n",
    "    0.99, 0.02, f\"{CREDIT_1}\\n{CREDIT_2}\", size=9,\n",
    "    fontproperties=font_italic.prop, color=textColor,\n",
    "    ha=\"right\"\n",
    ")\n",
    "\n",
    "# add text\n",
    "fig.text(  \n",
    "    0.32, 0.925, \"GK                 DF                 MF               FW\", size=14,\n",
    "    fontproperties=font_bold.prop, color=textColor\n",
    ")\n",
    "# URL = \"https://github.com/andrewRowlinson/mplsoccer-assets/blob/main/fdj_cropped.png?raw=true\"\n",
    "# wikiのエンブレムをクリックして右下クリックー＞EMbded\n",
    "# URL = \"https://upload.wikimedia.org/wikipedia/en/thumb/e/eb/Manchester_City_FC_badge.svg/1200px-Manchester_City_FC_badge.svg.png\"\n",
    "# URL = \"https://upload.wikimedia.org/wikipedia/en/thumb/4/47/FC_Barcelona_%28crest%29.svg/1200px-FC_Barcelona_%28crest%29.svg.png\"\n",
    "#https://upload.wikimedia.org/wikipedia/en/thumb/a/a7/Paris_Saint-Germain_F.C..svg/1200px-Paris_Saint-Germain_F.C..svg.png\n",
    "URL = \"https://upload.wikimedia.org/wikipedia/commons/thumb/1/1b/FC_Bayern_M%C3%BCnchen_logo_%282017%29.svg/1200px-FC_Bayern_M%C3%BCnchen_logo_%282017%29.svg.png\"\n",
    "fdj_cropped = Image.open(urlopen(URL))\n",
    "ax_image = add_image(\n",
    "    fdj_cropped, fig, left=0.4478, bottom=0.4315, width=0.13, height=0.127\n",
    ")   # these values might differ when you are plotting\n",
    "\n",
    "team = input(\"team: ????\")\n",
    "plt.savefig(f'/work/output/{team}.png', dpi=200, bbox_inches=\"tight\",facecolor=\"#131313\")"
   ]
  },
  {
   "cell_type": "code",
   "execution_count": 225,
   "metadata": {},
   "outputs": [
    {
     "data": {
      "text/plain": [
       "[{'Goalkeeper': '€30.00m\\xa0\\xa0'},\n",
       " {'Goalkeeper': '€3.00m\\xa0\\xa0'},\n",
       " {'Goalkeeper': '€1.50m\\xa0\\xa0'},\n",
       " {'Centre-Back': '€50.00m\\xa0\\xa0'},\n",
       " {'Centre-Back': '€18.00m\\xa0\\xa0'},\n",
       " {'Centre-Back': '€12.00m\\xa0\\xa0'},\n",
       " {'Centre-Back': '€6.00m\\xa0\\xa0'},\n",
       " {'Centre-Back': '€5.00m\\xa0\\xa0'},\n",
       " {'Centre-Back': '€2.00m\\xa0\\xa0'},\n",
       " {'Left-Back': '€9.00m\\xa0\\xa0'},\n",
       " {'Left-Back': '€4.00m\\xa0\\xa0'},\n",
       " {'Right-Back': '€18.00m\\xa0\\xa0'},\n",
       " {'Right-Back': '€1.50m\\xa0\\xa0'},\n",
       " {'Right-Back': '€1.00m\\xa0\\xa0'},\n",
       " {'Defensive Midfield': '€9.00m\\xa0\\xa0'},\n",
       " {'Central Midfield': '€80.00m\\xa0\\xa0'},\n",
       " {'Central Midfield': '€60.00m\\xa0\\xa0'},\n",
       " {'Central Midfield': '€60.00m\\xa0\\xa0'},\n",
       " {'Central Midfield': '€20.00m\\xa0\\xa0'},\n",
       " {'Central Midfield': '€7.00m\\xa0\\xa0'},\n",
       " {'Central Midfield': '€6.00m\\xa0\\xa0'},\n",
       " {'Left Winger': '€60.00m\\xa0\\xa0'},\n",
       " {'Left Winger': '€45.00m\\xa0\\xa0'},\n",
       " {'Left Winger': '€8.00m\\xa0\\xa0'},\n",
       " {'Right Winger': '€30.00m\\xa0\\xa0'},\n",
       " {'Right Winger': '€20.00m\\xa0\\xa0'},\n",
       " {'Centre-Forward': '€35.00m\\xa0\\xa0'},\n",
       " {'Centre-Forward': '€15.00m\\xa0\\xa0'},\n",
       " {'Centre-Forward': '€6.00m\\xa0\\xa0'},\n",
       " {'Centre-Forward': '€4.00m\\xa0\\xa0'}]"
      ]
     },
     "execution_count": 225,
     "metadata": {},
     "output_type": "execute_result"
    }
   ],
   "source": [
    "# 市場価値\n",
    "players = fetch_players(link)\n",
    "\n",
    "data = []\n",
    "for i in range(len(players)):\n",
    "    d = extract_player_data(players[i])\n",
    "    data.append({d[2]:d[4]})\n",
    "\n",
    "data"
   ]
  },
  {
   "cell_type": "code",
   "execution_count": 226,
   "metadata": {},
   "outputs": [
    {
     "data": {
      "text/plain": [
       "{'Right Winger': ['€30.00m\\xa0\\xa0', '€20.00m\\xa0\\xa0'],\n",
       " 'Centre-Back': ['€50.00m\\xa0\\xa0', '€18.00m\\xa0\\xa0', '€12.00m\\xa0\\xa0'],\n",
       " 'Centre-Forward': ['€35.00m\\xa0\\xa0', '€15.00m\\xa0\\xa0'],\n",
       " 'Defensive Midfield': [],\n",
       " 'Goalkeeper': ['€30.00m\\xa0\\xa0'],\n",
       " 'Left Winger': ['€60.00m\\xa0\\xa0', '€45.00m\\xa0\\xa0'],\n",
       " 'Central Midfield': ['€80.00m\\xa0\\xa0',\n",
       "  '€60.00m\\xa0\\xa0',\n",
       "  '€60.00m\\xa0\\xa0',\n",
       "  '€20.00m\\xa0\\xa0'],\n",
       " 'Left-Back': [],\n",
       " 'Right-Back': ['€18.00m\\xa0\\xa0']}"
      ]
     },
     "execution_count": 226,
     "metadata": {},
     "output_type": "execute_result"
    }
   ],
   "source": [
    "import math\n",
    "market_values = {}\n",
    "df = pd.DataFrame(data) \n",
    "for p in param:\n",
    "    pos_values = df[p].dropna().values\n",
    "    new_values = []\n",
    "    for v in pos_values:\n",
    "        if v[5].isdigit():\n",
    "            new_values.append(v)\n",
    "    market_values[p] = new_values\n",
    "    \n",
    "market_values"
   ]
  },
  {
   "cell_type": "code",
   "execution_count": 227,
   "metadata": {},
   "outputs": [
    {
     "data": {
      "text/plain": [
       "{'Right Winger': 50.0,\n",
       " 'Centre-Back': 80.0,\n",
       " 'Centre-Forward': 50.0,\n",
       " 'Defensive Midfield': 0,\n",
       " 'Goalkeeper': 30.0,\n",
       " 'Left Winger': 105.0,\n",
       " 'Central Midfield': 220.0,\n",
       " 'Left-Back': 0,\n",
       " 'Right-Back': 18.0}"
      ]
     },
     "execution_count": 227,
     "metadata": {},
     "output_type": "execute_result"
    }
   ],
   "source": [
    "for p in param:\n",
    "    pos = market_values[p]\n",
    "    new_pos = []\n",
    "    for v in pos:\n",
    "        new_v = float(v[1:6])\n",
    "        new_pos.append(new_v)\n",
    "    market_values[p] = sum(new_pos)\n",
    "market_values"
   ]
  },
  {
   "cell_type": "code",
   "execution_count": 228,
   "metadata": {},
   "outputs": [
    {
     "name": "stdout",
     "output_type": "stream",
     "text": [
      "[50.0, 80.0, 50.0, 0, 30.0, 105.0, 220.0, 0, 18.0]\n",
      "dict_keys(['Right Winger', 'Centre-Back', 'Centre-Forward', 'Defensive Midfield', 'Goalkeeper', 'Left Winger', 'Central Midfield', 'Left-Back', 'Right-Back'])\n"
     ]
    }
   ],
   "source": [
    "values = list(market_values.values())\n",
    "from scipy import stats\n",
    "# values = stats.zscore(values)*10 + 50\n",
    "print(values)\n",
    "params = market_values.keys()\n",
    "print(params)"
   ]
  },
  {
   "cell_type": "code",
   "execution_count": 231,
   "metadata": {},
   "outputs": [],
   "source": [
    "# baker = PyPizza(\n",
    "#     params=vkeys,                  # list of parameters\n",
    "#     straight_line_color=\"#ededed\",  # color for straight lines\n",
    "#     straight_line_limit=25,\n",
    "#     straight_line_lw=1,             # linewidth for straight lines\n",
    "#     last_circle_lw=1,               # linewidth of last circle\n",
    "#     other_circle_lw=1,              # linewidth for other circles\n",
    "#     other_circle_ls=\"-.\",           # linestyle for other circles\n",
    "# )\n",
    "\n",
    "baker = PyPizza(\n",
    "    params=params,                  # list of parameters\n",
    "    min_range=[0]*len(params), max_range=[70]*len(params),\n",
    "    background_color=\"#131313\",     # background color\n",
    "    straight_line_color=\"#EBEBE9\",  # color for straight lines\n",
    "    straight_line_limit=125,\n",
    "    straight_line_lw=1,             # linewidth for straight lines\n",
    "    last_circle_lw=0,               # linewidth of last circle\n",
    "    other_circle_lw=0,              # linewidth for other circles\n",
    "    inner_circle_size=3.5             # size of inner circle\n",
    ")\n",
    "\n",
    "slice_colors = [\"#4361ee\"] * 2 + [\"#ee9b00\"] * 3 + [\"#43aa8b\"]*3 + [\"#ae2012\"] * 3 \n",
    "text_colors = [\"#FFFFFF\"] * 11"
   ]
  },
  {
   "cell_type": "code",
   "execution_count": 232,
   "metadata": {},
   "outputs": [
    {
     "ename": "Exception",
     "evalue": "Length of slice_colors and params are not equal!!!",
     "output_type": "error",
     "traceback": [
      "\u001b[0;31m---------------------------------------------------------------------------\u001b[0m",
      "\u001b[0;31mException\u001b[0m                                 Traceback (most recent call last)",
      "\u001b[0;32m<ipython-input-232-62fbe348ca42>\u001b[0m in \u001b[0;36m<module>\u001b[0;34m\u001b[0m\n\u001b[1;32m      1\u001b[0m \u001b[0mtextColor\u001b[0m \u001b[0;34m=\u001b[0m \u001b[0;34m\"#ffffff\"\u001b[0m\u001b[0;34m\u001b[0m\u001b[0;34m\u001b[0m\u001b[0m\n\u001b[1;32m      2\u001b[0m \u001b[0;34m\u001b[0m\u001b[0m\n\u001b[0;32m----> 3\u001b[0;31m fig, ax = baker.make_pizza(\n\u001b[0m\u001b[1;32m      4\u001b[0m     \u001b[0mvalues\u001b[0m\u001b[0;34m,\u001b[0m                          \u001b[0;31m# list of values\u001b[0m\u001b[0;34m\u001b[0m\u001b[0;34m\u001b[0m\u001b[0m\n\u001b[1;32m      5\u001b[0m     \u001b[0mfigsize\u001b[0m\u001b[0;34m=\u001b[0m\u001b[0;34m(\u001b[0m\u001b[0;36m8\u001b[0m\u001b[0;34m,\u001b[0m \u001b[0;36m8.5\u001b[0m\u001b[0;34m)\u001b[0m\u001b[0;34m,\u001b[0m                \u001b[0;31m# adjust figsize according to your need\u001b[0m\u001b[0;34m\u001b[0m\u001b[0;34m\u001b[0m\u001b[0m\n",
      "\u001b[0;32m/opt/anaconda3/lib/python3.8/site-packages/mplsoccer/py_pizza.py\u001b[0m in \u001b[0;36mmake_pizza\u001b[0;34m(self, values, compare_values, bottom, figsize, ax, param_location, slice_colors, value_colors, compare_colors, value_bck_colors, compare_value_colors, compare_value_bck_colors, color_blank_space, blank_alpha, kwargs_slices, kwargs_compare, kwargs_params, kwargs_values, kwargs_compare_values)\u001b[0m\n\u001b[1;32m    146\u001b[0m             \u001b[0;32mraise\u001b[0m \u001b[0mException\u001b[0m\u001b[0;34m(\u001b[0m\u001b[0;34m\"Length of params and values are not equal!!!\"\u001b[0m\u001b[0;34m)\u001b[0m\u001b[0;34m\u001b[0m\u001b[0;34m\u001b[0m\u001b[0m\n\u001b[1;32m    147\u001b[0m         \u001b[0;32mif\u001b[0m \u001b[0mslice_colors\u001b[0m \u001b[0;32mis\u001b[0m \u001b[0;32mnot\u001b[0m \u001b[0;32mNone\u001b[0m \u001b[0;32mand\u001b[0m \u001b[0mlen\u001b[0m\u001b[0;34m(\u001b[0m\u001b[0mslice_colors\u001b[0m\u001b[0;34m)\u001b[0m \u001b[0;34m!=\u001b[0m \u001b[0mlen\u001b[0m\u001b[0;34m(\u001b[0m\u001b[0mself\u001b[0m\u001b[0;34m.\u001b[0m\u001b[0mparams\u001b[0m\u001b[0;34m)\u001b[0m\u001b[0;34m:\u001b[0m\u001b[0;34m\u001b[0m\u001b[0;34m\u001b[0m\u001b[0m\n\u001b[0;32m--> 148\u001b[0;31m             \u001b[0;32mraise\u001b[0m \u001b[0mException\u001b[0m\u001b[0;34m(\u001b[0m\u001b[0;34m\"Length of slice_colors and params are not equal!!!\"\u001b[0m\u001b[0;34m)\u001b[0m\u001b[0;34m\u001b[0m\u001b[0;34m\u001b[0m\u001b[0m\n\u001b[0m\u001b[1;32m    149\u001b[0m         \u001b[0;32mif\u001b[0m \u001b[0mvalue_colors\u001b[0m \u001b[0;32mis\u001b[0m \u001b[0;32mnot\u001b[0m \u001b[0;32mNone\u001b[0m \u001b[0;32mand\u001b[0m \u001b[0mlen\u001b[0m\u001b[0;34m(\u001b[0m\u001b[0mvalue_colors\u001b[0m\u001b[0;34m)\u001b[0m \u001b[0;34m!=\u001b[0m \u001b[0mlen\u001b[0m\u001b[0;34m(\u001b[0m\u001b[0mself\u001b[0m\u001b[0;34m.\u001b[0m\u001b[0mparams\u001b[0m\u001b[0;34m)\u001b[0m\u001b[0;34m:\u001b[0m\u001b[0;34m\u001b[0m\u001b[0;34m\u001b[0m\u001b[0m\n\u001b[1;32m    150\u001b[0m             \u001b[0;32mraise\u001b[0m \u001b[0mException\u001b[0m\u001b[0;34m(\u001b[0m\u001b[0;34m\"Length of text_colors and params are not equal!!!\"\u001b[0m\u001b[0;34m)\u001b[0m\u001b[0;34m\u001b[0m\u001b[0;34m\u001b[0m\u001b[0m\n",
      "\u001b[0;31mException\u001b[0m: Length of slice_colors and params are not equal!!!"
     ]
    }
   ],
   "source": [
    "textColor = \"#ffffff\"\n",
    "\n",
    "fig, ax = baker.make_pizza(\n",
    "    values,                          # list of values\n",
    "    figsize=(8, 8.5),                # adjust figsize according to your need\n",
    "    color_blank_space=\"same\",        # use same color to fill blank space\n",
    "    slice_colors=slice_colors,       # color for individual slices\n",
    "    value_colors=text_colors,        # color for the value-text\n",
    "    value_bck_colors=slice_colors,   # color for the blank spaces\n",
    "    blank_alpha=0.4,                 # alpha for blank-space colors\n",
    "    param_location=133,\n",
    "    kwargs_slices=dict(\n",
    "        facecolor=\"#131313\", edgecolor=\"#000000\",\n",
    "        zorder=2, linewidth=1\n",
    "    ),                   # values to be used when plotting slices\n",
    "    kwargs_params=dict(\n",
    "        color=textColor, fontsize=12,\n",
    "        va=\"center\", alpha=.9\n",
    "    ),                   # values to be used when adding parameter\n",
    "    kwargs_values=dict(\n",
    "        color=textColor, fontsize=12,\n",
    "        zorder=3,\n",
    "        bbox=dict(\n",
    "            edgecolor=\"#111111\", facecolor=\"#6CABDD\",\n",
    "            boxstyle=\"Roundtooth,pad=0.5\", lw=1.5\n",
    "        )\n",
    "    )                    # values to be used when adding parameter-values\n",
    ")\n",
    "# fig.patches.extend([\n",
    "#     plt.Rectangle(\n",
    "#         (0.29, 0.9225), 0.025, 0.021, fill=True, color=\"#1a78cf\",\n",
    "#         transform=fig.transFigure, figure=fig\n",
    "#     ),\n",
    "#     plt.Rectangle(\n",
    "#         (0.42, 0.9225), 0.025, 0.021, fill=True, color=\"#ff9300\",\n",
    "#         transform=fig.transFigure, figure=fig\n",
    "#     ),\n",
    "#     plt.Rectangle(\n",
    "#         (0.55, 0.9225), 0.025, 0.021, fill=True, color=\"#43aa8b\",\n",
    "#         transform=fig.transFigure, figure=fig\n",
    "#     ),\n",
    "#     plt.Rectangle(\n",
    "#         (0.68, 0.9225), 0.025, 0.021, fill=True, color=\"#d70232\",\n",
    "#         transform=fig.transFigure, figure=fig\n",
    "#     ),\n",
    "# ])\n",
    "# add title\n",
    "# fig.text(\n",
    "#     0.511, 0.975, \"Bayern\", size=16,\n",
    "#     ha=\"center\", fontproperties=font_bold.prop, color=textColor\n",
    "# )\n",
    "\n",
    "# # add subtitle\n",
    "# fig.text(\n",
    "#     0.515, 0.953,\n",
    "#     \"Squad Balance in terms of Position | Season 2021-22\",\n",
    "#     size=13,\n",
    "#     ha=\"center\", fontproperties=font_bold.prop, color=textColor\n",
    "# )\n",
    "\n",
    "# # add credits\n",
    "# CREDIT_1 = \"data: transfermarkt.com\"\n",
    "# CREDIT_2 = \"inspired by: @Worville, @FootballSlices\"\n",
    "\n",
    "# fig.text(\n",
    "#     0.99, 0.02, f\"{CREDIT_1}\\n{CREDIT_2}\", size=9,\n",
    "#     fontproperties=font_italic.prop, color=textColor,\n",
    "#     ha=\"right\"\n",
    "# )\n",
    "\n",
    "# # add text\n",
    "# fig.text(  \n",
    "#     0.32, 0.925, \"GK                 DF                 MF               FW\", size=14,\n",
    "#     fontproperties=font_bold.prop, color=textColor\n",
    "# )\n",
    "# URL = \"https://github.com/andrewRowlinson/mplsoccer-assets/blob/main/fdj_cropped.png?raw=true\"\n",
    "# wikiのエンブレムをクリックして右下クリックー＞EMbded\n",
    "# URL = \"https://upload.wikimedia.org/wikipedia/en/thumb/e/eb/Manchester_City_FC_badge.svg/1200px-Manchester_City_FC_badge.svg.png\"\n",
    "# URL = \"https://upload.wikimedia.org/wikipedia/en/thumb/4/47/FC_Barcelona_%28crest%29.svg/1200px-FC_Barcelona_%28crest%29.svg.png\"\n",
    "#https://upload.wikimedia.org/wikipedia/en/thumb/a/a7/Paris_Saint-Germain_F.C..svg/1200px-Paris_Saint-Germain_F.C..svg.png\n",
    "# URL = \"https://upload.wikimedia.org/wikipedia/commons/thumb/1/1b/FC_Bayern_M%C3%BCnchen_logo_%282017%29.svg/1200px-FC_Bayern_M%C3%BCnchen_logo_%282017%29.svg.png\"\n",
    "# fdj_cropped = Image.open(urlopen(URL))\n",
    "# ax_image = add_image(\n",
    "#     fdj_cropped, fig, left=0.4478, bottom=0.4315, width=0.13, height=0.127\n",
    "# )   # these values might differ when you are plotting\n",
    "\n",
    "# team = input(\"team: ????\")\n",
    "# plt.savefig(f'/work/output/{team}.png', dpi=200, bbox_inches=\"tight\",facecolor=\"#131313\")"
   ]
  },
  {
   "cell_type": "code",
   "execution_count": 195,
   "metadata": {},
   "outputs": [
    {
     "data": {
      "text/plain": [
       "[200, 200, 200, 200, 200, 200, 200, 200, 200, 200, 200]"
      ]
     },
     "execution_count": 195,
     "metadata": {},
     "output_type": "execute_result"
    }
   ],
   "source": [
    "[200]*11"
   ]
  },
  {
   "cell_type": "code",
   "execution_count": null,
   "metadata": {},
   "outputs": [],
   "source": []
  }
 ],
 "metadata": {
  "kernelspec": {
   "display_name": "Python 3",
   "language": "python",
   "name": "python3"
  },
  "language_info": {
   "codemirror_mode": {
    "name": "ipython",
    "version": 3
   },
   "file_extension": ".py",
   "mimetype": "text/x-python",
   "name": "python",
   "nbconvert_exporter": "python",
   "pygments_lexer": "ipython3",
   "version": "3.8.3"
  }
 },
 "nbformat": 4,
 "nbformat_minor": 4
}
