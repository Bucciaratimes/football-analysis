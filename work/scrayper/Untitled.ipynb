{
 "cells": [
  {
   "cell_type": "code",
   "execution_count": 6,
   "metadata": {},
   "outputs": [],
   "source": [
    "import pandas\n",
    "import tmtransfers\n",
    "\n",
    "# Web scrape data for a league not explicitly given in the script\n",
    "# Returns a Pandas dataframe\n",
    "df = tmtransfers.scrape_transfermarkt(\n",
    "        league_name='liga',\n",
    "        league_id='ES1',\n",
    "        season_id='2021',\n",
    "        write=True)\n",
    "\n",
    "# Clean the data\n",
    "# Returns another Pandas dataframe\n",
    "tidy_df = tmtransfers.tidy_transfers(df)"
   ]
  },
  {
   "cell_type": "code",
   "execution_count": 16,
   "metadata": {},
   "outputs": [
    {
     "data": {
      "text/html": [
       "<div>\n",
       "<style scoped>\n",
       "    .dataframe tbody tr th:only-of-type {\n",
       "        vertical-align: middle;\n",
       "    }\n",
       "\n",
       "    .dataframe tbody tr th {\n",
       "        vertical-align: top;\n",
       "    }\n",
       "\n",
       "    .dataframe thead th {\n",
       "        text-align: right;\n",
       "    }\n",
       "</style>\n",
       "<table border=\"1\" class=\"dataframe\">\n",
       "  <thead>\n",
       "    <tr style=\"text-align: right;\">\n",
       "      <th></th>\n",
       "      <th>club</th>\n",
       "      <th>name</th>\n",
       "      <th>age</th>\n",
       "      <th>nationality</th>\n",
       "      <th>position</th>\n",
       "      <th>short_pos</th>\n",
       "      <th>market_value</th>\n",
       "      <th>dealing_club</th>\n",
       "      <th>dealing_country</th>\n",
       "      <th>fee</th>\n",
       "      <th>movement</th>\n",
       "      <th>window</th>\n",
       "      <th>league</th>\n",
       "      <th>season</th>\n",
       "      <th>is_loan</th>\n",
       "      <th>loan_status</th>\n",
       "    </tr>\n",
       "  </thead>\n",
       "  <tbody>\n",
       "  </tbody>\n",
       "</table>\n",
       "</div>"
      ],
      "text/plain": [
       "Empty DataFrame\n",
       "Columns: [club, name, age, nationality, position, short_pos, market_value, dealing_club, dealing_country, fee, movement, window, league, season, is_loan, loan_status]\n",
       "Index: []"
      ]
     },
     "execution_count": 16,
     "metadata": {},
     "output_type": "execute_result"
    }
   ],
   "source": [
    "tidy_df[tidy_df[\"club\"].str.contains(\"madrid\")]"
   ]
  },
  {
   "cell_type": "code",
   "execution_count": 19,
   "metadata": {},
   "outputs": [
    {
     "data": {
      "text/plain": [
       "array(['Athletic Bilbao', 'CA Osasuna', 'Celta de Vigo', 'Cádiz CF',\n",
       "       'Deportivo Alavés', 'Elche CF', 'FC Barcelona', 'Getafe CF',\n",
       "       'Granada CF', 'Levante UD', 'RCD Espanyol Barcelona',\n",
       "       'RCD Mallorca', 'Rayo Vallecano', 'Real Betis Balompié',\n",
       "       'Real Madrid', 'Real Sociedad', 'Sevilla FC', 'Valencia CF',\n",
       "       'Villarreal CF'], dtype=object)"
      ]
     },
     "execution_count": 19,
     "metadata": {},
     "output_type": "execute_result"
    }
   ],
   "source": [
    "df[\"club\"].unique()"
   ]
  },
  {
   "cell_type": "code",
   "execution_count": null,
   "metadata": {},
   "outputs": [],
   "source": []
  }
 ],
 "metadata": {
  "kernelspec": {
   "display_name": "Python 3",
   "language": "python",
   "name": "python3"
  },
  "language_info": {
   "codemirror_mode": {
    "name": "ipython",
    "version": 3
   },
   "file_extension": ".py",
   "mimetype": "text/x-python",
   "name": "python",
   "nbconvert_exporter": "python",
   "pygments_lexer": "ipython3",
   "version": "3.8.3"
  }
 },
 "nbformat": 4,
 "nbformat_minor": 4
}
