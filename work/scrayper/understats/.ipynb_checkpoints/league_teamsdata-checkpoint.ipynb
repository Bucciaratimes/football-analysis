{
 "cells": [
  {
   "cell_type": "code",
   "execution_count": 1,
   "metadata": {},
   "outputs": [],
   "source": [
    "import numpy as np\n",
    "import pandas as pd \n",
    "import requests \n",
    "from bs4 import BeautifulSoup\n",
    "\n",
    "import json\n",
    "\n",
    "import matplotlib.pyplot as plt\n",
    "import seaborn as sns\n",
    "\n",
    "from matplotlib.colors import Normalize\n",
    "from matplotlib import cm\n",
    "\n",
    "import matplotlib as mpl \n",
    "import matplotlib.patheffects as path_effects\n",
    "import datetime\n",
    "from highlight_text import HighlightText, ax_text, fig_text\n",
    "import matplotlib.image as mpimg\n",
    "from PIL import Image\n"
   ]
  },
  {
   "cell_type": "code",
   "execution_count": 2,
   "metadata": {},
   "outputs": [],
   "source": [
    "base_url = 'https://understat.com/league'\n",
    "leagues = [\n",
    "    'La_liga', 'EPL', 'Bundesliga', \n",
    "    'Serie_A', 'Ligue_1', 'RFPL'\n",
    "]\n",
    "seasons = [\n",
    "    '2014', '2015', '2016',\n",
    "    '2017', '2018', '2019',\n",
    "    '2020', '2021'\n",
    "]"
   ]
  },
  {
   "cell_type": "code",
   "execution_count": 3,
   "metadata": {},
   "outputs": [],
   "source": [
    "url = base_url + '/' + leagues[0] + '/' + seasons[-1]\n",
    "html = requests.get(url)\n",
    "soup = BeautifulSoup(html.content, 'lxml')\n",
    "scripts = soup.find_all('script')"
   ]
  },
  {
   "cell_type": "code",
   "execution_count": 4,
   "metadata": {},
   "outputs": [],
   "source": [
    "string_with_json_obj = scripts[2].string\n",
    "ind_start = string_with_json_obj.index(\"('\")+2\n",
    "ind_end = string_with_json_obj.index(\"')\")\n",
    "json_data = string_with_json_obj[ind_start:ind_end]\n",
    "\n",
    "json_data = json_data.encode('utf8').decode('unicode_escape')\n",
    "data = json.loads(json_data)"
   ]
  },
  {
   "cell_type": "code",
   "execution_count": 5,
   "metadata": {},
   "outputs": [],
   "source": [
    "teams = {}\n",
    "for _id in data.keys():\n",
    "    teams[_id] = data[_id]['title']\n",
    "    \n",
    "columns = []\n",
    "values = []\n",
    "for _id in data.keys():\n",
    "    columns = list(data[_id]['history'][0].keys())\n",
    "    values = list(data[_id]['history'][0].values())\n",
    "    break"
   ]
  },
  {
   "cell_type": "code",
   "execution_count": 6,
   "metadata": {},
   "outputs": [],
   "source": [
    "barcelona_data = []\n",
    "for row in data['148']['history']:\n",
    "    barcelona_data.append(row.values())\n",
    "\n",
    "df_barca = pd.DataFrame(barcelona_data, columns=columns)"
   ]
  },
  {
   "cell_type": "code",
   "execution_count": 7,
   "metadata": {},
   "outputs": [],
   "source": [
    "dataframes = {}\n",
    "for id, team in teams.items():\n",
    "    teams_data = []\n",
    "    for row in data[id]['history']:\n",
    "        teams_data.append(list(row.values()))\n",
    "\n",
    "    df = pd.DataFrame(teams_data, columns=columns)\n",
    "    dataframes[team] = df\n",
    "    "
   ]
  },
  {
   "cell_type": "code",
   "execution_count": 8,
   "metadata": {},
   "outputs": [],
   "source": [
    "for team, df in dataframes.items():\n",
    "    dataframes[team]['ppda_coef'] = dataframes[team]['ppda'].apply(lambda x: x['att']/x['def'] if x['def']!=0 else 0)\n",
    "    dataframes[team]['oppda_coef'] = dataframes[team]['ppda_allowed'].apply(lambda x: x['att']/x['def'] if x['def'] != 0 else 0)"
   ]
  },
  {
   "cell_type": "code",
   "execution_count": null,
   "metadata": {},
   "outputs": [],
   "source": []
  },
  {
   "cell_type": "code",
   "execution_count": 9,
   "metadata": {},
   "outputs": [],
   "source": [
    "cols_to_sum = ['xG', 'xGA', 'npxG', 'npxGA', 'deep', 'deep_allowed', 'scored', 'missed', 'xpts', 'wins', 'draws', 'loses', 'pts', 'npxGD'] \n",
    "cols_to_mean = ['ppda_coef', 'oppda_coef']"
   ]
  },
  {
   "cell_type": "code",
   "execution_count": 10,
   "metadata": {},
   "outputs": [],
   "source": [
    "frames = [] \n",
    "for team, df in dataframes.items(): \n",
    "    sum_data = pd.DataFrame(df[cols_to_sum].sum()).transpose()\n",
    "    mean_data = pd.DataFrame(df[cols_to_mean].mean()).transpose()\n",
    "    final_df = sum_data.join(mean_data) \n",
    "    final_df['team'] = team\n",
    "    final_df['matches'] = len(df) \n",
    "    frames.append(final_df) \n",
    "full_stat = pd.concat(frames)"
   ]
  },
  {
   "cell_type": "code",
   "execution_count": 11,
   "metadata": {},
   "outputs": [],
   "source": [
    "full_stat = full_stat[['team', 'matches', 'wins', 'draws', 'loses', 'scored', 'missed', 'pts', 'xG', 'npxG', 'xGA', 'npxGA', 'npxGD', 'ppda_coef', 'oppda_coef', 'deep', 'deep_allowed', 'xpts']]\n",
    "full_stat.sort_values('pts', ascending=False, inplace=True)\n",
    "full_stat.reset_index(inplace=True, drop=True)\n",
    "full_stat['position'] = range(1,len(full_stat)+1)\n"
   ]
  },
  {
   "cell_type": "code",
   "execution_count": 12,
   "metadata": {},
   "outputs": [],
   "source": [
    "full_stat['xG_diff'] = full_stat['xG'] - full_stat['scored'] \n",
    "full_stat['xGA_diff'] = full_stat['xGA'] - full_stat['missed'] \n",
    "full_stat['xpts_diff'] = full_stat['xpts'] - full_stat['pts']"
   ]
  },
  {
   "cell_type": "code",
   "execution_count": 13,
   "metadata": {},
   "outputs": [],
   "source": [
    "cols_to_int = ['wins', 'draws', 'loses', 'scored', 'missed', 'pts', 'deep', 'deep_allowed'] \n",
    "full_stat[cols_to_int] = full_stat[cols_to_int].astype(int)"
   ]
  },
  {
   "cell_type": "code",
   "execution_count": 14,
   "metadata": {},
   "outputs": [],
   "source": [
    "col_order = ['position','team', 'matches', 'wins', 'draws', 'loses', 'scored', 'missed', 'pts', 'xG', 'xG_diff', 'npxG', 'xGA', 'xGA_diff', 'npxGA', 'npxGD', 'ppda_coef', 'oppda_coef', 'deep', 'deep_allowed', 'xpts', 'xpts_diff'] \n",
    "full_stat = full_stat[col_order] \n",
    "full_stat.columns = ['#', 'team', 'M', 'W', 'D', 'L', 'G', 'GA', 'PTS', 'xG', 'xG_diff', 'NPxG', 'xGA', 'xGA_diff', 'NPxGA', 'NPxGD', 'PPDA', 'OPPDA', 'DC', 'ODC', 'xPTS', 'xPTS_diff'] \n",
    "pd.options.display.float_format = '{:,.2f}'.format \n",
    "full_stat.head()\n",
    "full_stat.to_csv(f'/work/assets/understats/seasonStat/liga2021.csv')"
   ]
  },
  {
   "cell_type": "code",
   "execution_count": 15,
   "metadata": {},
   "outputs": [],
   "source": [
    "df_barca = df\n",
    "df_barca['xG_diff'] = df_barca['xG'] - df_barca['scored']\n",
    "df_barca['xGA_diff'] = df_barca['xGA'] - df_barca['scored']\n",
    "df_barca['xpts_diff'] = df_barca['xpts'] - df_barca['pts']"
   ]
  },
  {
   "cell_type": "code",
   "execution_count": 16,
   "metadata": {},
   "outputs": [
    {
     "data": {
      "text/html": [
       "<div>\n",
       "<style scoped>\n",
       "    .dataframe tbody tr th:only-of-type {\n",
       "        vertical-align: middle;\n",
       "    }\n",
       "\n",
       "    .dataframe tbody tr th {\n",
       "        vertical-align: top;\n",
       "    }\n",
       "\n",
       "    .dataframe thead th {\n",
       "        text-align: right;\n",
       "    }\n",
       "</style>\n",
       "<table border=\"1\" class=\"dataframe\">\n",
       "  <thead>\n",
       "    <tr style=\"text-align: right;\">\n",
       "      <th></th>\n",
       "      <th>ppda</th>\n",
       "      <th>ppda_allowed</th>\n",
       "    </tr>\n",
       "  </thead>\n",
       "  <tbody>\n",
       "    <tr>\n",
       "      <th>0</th>\n",
       "      <td>{'att': 192, 'def': 28}</td>\n",
       "      <td>{'att': 324, 'def': 27}</td>\n",
       "    </tr>\n",
       "    <tr>\n",
       "      <th>1</th>\n",
       "      <td>{'att': 109, 'def': 18}</td>\n",
       "      <td>{'att': 370, 'def': 28}</td>\n",
       "    </tr>\n",
       "    <tr>\n",
       "      <th>2</th>\n",
       "      <td>{'att': 186, 'def': 34}</td>\n",
       "      <td>{'att': 453, 'def': 43}</td>\n",
       "    </tr>\n",
       "    <tr>\n",
       "      <th>3</th>\n",
       "      <td>{'att': 81, 'def': 25}</td>\n",
       "      <td>{'att': 316, 'def': 27}</td>\n",
       "    </tr>\n",
       "  </tbody>\n",
       "</table>\n",
       "</div>"
      ],
      "text/plain": [
       "                      ppda             ppda_allowed\n",
       "0  {'att': 192, 'def': 28}  {'att': 324, 'def': 27}\n",
       "1  {'att': 109, 'def': 18}  {'att': 370, 'def': 28}\n",
       "2  {'att': 186, 'def': 34}  {'att': 453, 'def': 43}\n",
       "3   {'att': 81, 'def': 25}  {'att': 316, 'def': 27}"
      ]
     },
     "execution_count": 16,
     "metadata": {},
     "output_type": "execute_result"
    }
   ],
   "source": [
    "dataframes['Barcelona'][['ppda','ppda_allowed']]"
   ]
  },
  {
   "cell_type": "code",
   "execution_count": 41,
   "metadata": {},
   "outputs": [
    {
     "name": "stdout",
     "output_type": "stream",
     "text": [
      "Index(['level_0', 'index', 'h_a', 'xG', 'xGA', 'npxG', 'npxGA', 'ppda',\n",
      "       'ppda_allowed', 'deep', 'deep_allowed', 'scored', 'missed', 'xpts',\n",
      "       'result', 'date', 'wins', 'draws', 'loses', 'pts', 'npxGD', 'ppda_coef',\n",
      "       'oppda_coef', 'xG_diff', 'xGA_diff', 'xpts_diff', '4games_rolling_xG',\n",
      "       '4games_rolling_xGA'],\n",
      "      dtype='object')\n"
     ]
    }
   ],
   "source": [
    "data.reset_index(inplace=True)\n",
    "print(df.columns)\n"
   ]
  },
  {
   "cell_type": "code",
   "execution_count": 43,
   "metadata": {},
   "outputs": [],
   "source": [
    "xG = data['npxG'] \n",
    "xGA = data['npxGA']\n",
    "date = data['date']\n",
    "num_match = data[\"index\"]"
   ]
  },
  {
   "cell_type": "code",
   "execution_count": 44,
   "metadata": {},
   "outputs": [],
   "source": [
    "data[\"4games_rolling_xG\"] = data[\"npxG\"].rolling(10).mean()\n",
    "data[\"4games_rolling_xGA\"] = data[\"npxGA\"].rolling(10).mean()"
   ]
  },
  {
   "cell_type": "code",
   "execution_count": 45,
   "metadata": {},
   "outputs": [],
   "source": [
    "xG_rolling = data['4games_rolling_xG']\n",
    "xGA_rolling = data['4games_rolling_xGA']"
   ]
  },
  {
   "cell_type": "code",
   "execution_count": 46,
   "metadata": {},
   "outputs": [
    {
     "ename": "NameError",
     "evalue": "name 'fig_text' is not defined",
     "output_type": "error",
     "traceback": [
      "\u001b[0;31m---------------------------------------------------------------------------\u001b[0m",
      "\u001b[0;31mNameError\u001b[0m                                 Traceback (most recent call last)",
      "\u001b[0;32m<ipython-input-46-e88e27c7c1af>\u001b[0m in \u001b[0;36m<module>\u001b[0;34m\u001b[0m\n\u001b[1;32m     34\u001b[0m \u001b[0mfig\u001b[0m\u001b[0;34m.\u001b[0m\u001b[0mtext\u001b[0m\u001b[0;34m(\u001b[0m\u001b[0;36m0.12\u001b[0m\u001b[0;34m,\u001b[0m\u001b[0;36m0.92\u001b[0m\u001b[0;34m,\u001b[0m \u001b[0;34m\"Liverpool Goalkeepers since 2017-18 season\\n\"\u001b[0m\u001b[0;34m,\u001b[0m \u001b[0mfontsize\u001b[0m \u001b[0;34m=\u001b[0m \u001b[0;36m16\u001b[0m\u001b[0;34m,\u001b[0m \u001b[0mfontweight\u001b[0m \u001b[0;34m=\u001b[0m \u001b[0;34m\"bold\"\u001b[0m\u001b[0;34m,\u001b[0m \u001b[0mcolor\u001b[0m \u001b[0;34m=\u001b[0m \u001b[0;34m\"w\"\u001b[0m\u001b[0;34m,\u001b[0m \u001b[0;34m**\u001b[0m\u001b[0mhfont\u001b[0m\u001b[0;34m)\u001b[0m\u001b[0;34m\u001b[0m\u001b[0;34m\u001b[0m\u001b[0m\n\u001b[1;32m     35\u001b[0m \u001b[0;31m#Use highlighttext library to add color in our title\u001b[0m\u001b[0;34m\u001b[0m\u001b[0;34m\u001b[0m\u001b[0;34m\u001b[0m\u001b[0m\n\u001b[0;32m---> 36\u001b[0;31m \u001b[0mfig_text\u001b[0m\u001b[0;34m(\u001b[0m\u001b[0mx\u001b[0m\u001b[0;34m=\u001b[0m\u001b[0;36m0.12\u001b[0m\u001b[0;34m,\u001b[0m \u001b[0my\u001b[0m\u001b[0;34m=\u001b[0m\u001b[0;36m0.94\u001b[0m\u001b[0;34m,\u001b[0m \u001b[0ms\u001b[0m\u001b[0;34m=\u001b[0m\u001b[0;34m\"Rolling <Goals Against> and <xGA> | Premier League & Champions League | 2017/2018 - 2019/2020\"\u001b[0m\u001b[0;34m,\u001b[0m \u001b[0mhighlight_textprops\u001b[0m\u001b[0;34m=\u001b[0m\u001b[0;34m[\u001b[0m\u001b[0;34m{\u001b[0m\u001b[0;34m\"color\"\u001b[0m\u001b[0;34m:\u001b[0m\u001b[0;34m\"#2bb6e0\"\u001b[0m\u001b[0;34m}\u001b[0m\u001b[0;34m,\u001b[0m \u001b[0;34m{\u001b[0m\u001b[0;34m'color'\u001b[0m\u001b[0;34m:\u001b[0m\u001b[0;34m\"#8A0F77\"\u001b[0m\u001b[0;34m}\u001b[0m\u001b[0;34m]\u001b[0m\u001b[0;34m,\u001b[0m \u001b[0mcolor\u001b[0m\u001b[0;34m=\u001b[0m\u001b[0;34m\"w\"\u001b[0m\u001b[0;34m,\u001b[0m \u001b[0mfontweight\u001b[0m\u001b[0;34m=\u001b[0m\u001b[0;34m\"light\"\u001b[0m\u001b[0;34m,\u001b[0m \u001b[0mfontsize\u001b[0m\u001b[0;34m=\u001b[0m\u001b[0;36m12\u001b[0m\u001b[0;34m,\u001b[0m \u001b[0mzorder\u001b[0m\u001b[0;34m=\u001b[0m\u001b[0;36m2\u001b[0m\u001b[0;34m)\u001b[0m\u001b[0;34m\u001b[0m\u001b[0;34m\u001b[0m\u001b[0m\n\u001b[0m\u001b[1;32m     37\u001b[0m \u001b[0;34m\u001b[0m\u001b[0m\n\u001b[1;32m     38\u001b[0m \u001b[0mfig\u001b[0m\u001b[0;34m.\u001b[0m\u001b[0mtext\u001b[0m\u001b[0;34m(\u001b[0m\u001b[0;36m0.05\u001b[0m\u001b[0;34m,\u001b[0m \u001b[0;36m0.09\u001b[0m\u001b[0;34m,\u001b[0m \u001b[0;34m\"Created by Jacky KUOCH / Data from Fbref\"\u001b[0m\u001b[0;34m,\u001b[0m\u001b[0mfontstyle\u001b[0m\u001b[0;34m=\u001b[0m\u001b[0;34m\"italic\"\u001b[0m\u001b[0;34m,\u001b[0m\u001b[0mfontsize\u001b[0m\u001b[0;34m=\u001b[0m\u001b[0;36m12\u001b[0m\u001b[0;34m,\u001b[0m \u001b[0mcolor\u001b[0m\u001b[0;34m=\u001b[0m\u001b[0;34m\"w\"\u001b[0m\u001b[0;34m)\u001b[0m\u001b[0;34m\u001b[0m\u001b[0;34m\u001b[0m\u001b[0m\n",
      "\u001b[0;31mNameError\u001b[0m: name 'fig_text' is not defined"
     ]
    },
    {
     "name": "stderr",
     "output_type": "stream",
     "text": [
      "findfont: Font family ['Impact'] not found. Falling back to DejaVu Sans.\n",
      "findfont: Font family ['Impact'] not found. Falling back to DejaVu Sans.\n"
     ]
    },
    {
     "data": {
      "image/png": "[encoded data removed]",
      "text/plain": [
       "<Figure size 792x504 with 1 Axes>"
      ]
     },
     "metadata": {},
     "output_type": "display_data"
    }
   ],
   "source": [
    "fig,ax = plt.subplots(figsize = (11,7))\n",
    "\n",
    "#Define a font\n",
    "hfont = {'fontname':'Impact'}\n",
    "\n",
    "#Change the background color\n",
    "fig.set_facecolor(\"#08143D\")\n",
    "ax.patch.set_facecolor(\"#08143D\")\n",
    "ax.set_zorder(1)\n",
    "\n",
    "#Change the ticks color\n",
    "ax.tick_params(colors=\"w\", length=15, bottom=False, labelbottom = False)\n",
    "\n",
    "#Change the axes color and hide some axes\n",
    "ax.spines['bottom'].set_visible(False)\n",
    "ax.spines['top'].set_visible(False)\n",
    "ax.spines['right'].set_visible(False)\n",
    "ax.spines['left'].set_color(\"w\")\n",
    "\n",
    "# Plot the GA\n",
    "plt.plot(num_match, xG_rolling , zorder=2, color=\"#2bb6e0\", linewidth=1.5)\n",
    "\n",
    "# Plot the xGA\n",
    "plt.plot(num_match, xGA_rolling, zorder=2, color=\"#8A0F77\", linewidth=1.5)\n",
    "\n",
    "#Fill between axes to visualize difference between the two plots\n",
    "ax.fill_between(num_match,xG_rolling, xGA_rolling, where=xG_rolling >= xGA_rolling, facecolor=\"#2bb6e0\", interpolate=True)\n",
    "ax.fill_between(num_match,xG_rolling, xGA_rolling, where=xGA_rolling >= xG_rolling, facecolor=\"#8A0F77\", interpolate=True)\n",
    "\n",
    "# Axes Label\n",
    "plt.ylabel(\"Goals Against/xGA\", color=\"w\", fontsize=15 , **hfont)\n",
    "\n",
    "# Title and credits\n",
    "fig.text(0.12,0.92, \"Liverpool Goalkeepers since 2017-18 season\\n\", fontsize = 16, fontweight = \"bold\", color = \"w\", **hfont)\n",
    "#Use highlighttext library to add color in our title\n",
    "fig_text(x=0.12, y=0.94, s=\"Rolling <Goals Against> and <xGA> | Premier League & Champions League | 2017/2018 - 2019/2020\", highlight_textprops=[{\"color\":\"#2bb6e0\"}, {'color':\"#8A0F77\"}], color=\"w\", fontweight=\"light\", fontsize=12, zorder=2)\n",
    "\n",
    "fig.text(0.05, 0.09, \"Created by Jacky KUOCH / Data from Fbref\",fontstyle=\"italic\",fontsize=12, color=\"w\")\n",
    "\n",
    "# Split the graph in seasons\n",
    "# 17/18\n",
    "first_season = ax.text(8, 0.1, \"17/18\", fontsize=17, ha=\"center\", color=\"w\",alpha=0.3, rotation =90, **hfont)\n",
    "\n",
    "# 18/19\n",
    "second_season = ax.text(43, 0.1, \"18/19\", fontsize=17, ha=\"center\", color=\"w\",alpha=0.3, rotation =90, **hfont)\n",
    "ax.axvline(x=39, color=\"w\", linestyle = \"dashed\", alpha=0.6 ,zorder=3)\n",
    "\n",
    "#19/20\n",
    "third_season = ax.text(94, 0.1, \"19/20\", fontsize=17, ha=\"center\", color=\"w\",alpha=0.3, rotation =90, **hfont)\n",
    "ax.axvline(x=90, color=\"w\", linestyle = \"dashed\", alpha=0.6 ,zorder=3)\n",
    "\n",
    "# Split the graph in goalkeepers era\n",
    "karius_mignolet = ax.text(25, 1.50, \"Karius\\nMignolet\", fontsize=17, ha=\"center\", color=\"w\",alpha=1 , **hfont)\n",
    "alisson_1 = ax.text(65, 1.55, \"Alisson\", fontsize=17, ha=\"center\", color=\"w\",alpha=1 , **hfont)\n",
    "\n",
    "adrian = ax.text(95.5, 1.45, \"Adrián\", fontsize=17, ha=\"center\", color=\"w\",alpha=1 , rotation=90, **hfont)\n",
    "ax.axvline(x=91, color=\"w\", linestyle = \"dotted\", alpha=0.4 ,zorder=3, linewidth=1.5)\n",
    "ax.axvline(x=100, color=\"w\", linestyle = \"dotted\", alpha=0.4 ,zorder=3, linewidth=1.5)\n",
    "\n",
    "alisson_2 = ax.text(113, 1.55, \"Alisson\", fontsize=17, ha=\"center\", color=\"w\",alpha=1 , **hfont)\n",
    "\n",
    "ax.axvline(x=125, color=\"w\", linestyle = \"dotted\", alpha=0.4 ,zorder=3, linewidth=1.5)\n",
    "ax.axvline(x=126, color=\"w\", linestyle = \"dotted\", alpha=0.4 ,zorder=3, linewidth=1.5)\n",
    "\n",
    "alisson_3 = ax.text(133, 1.55, \"Alisson\", fontsize=17, ha=\"center\", color=\"w\",alpha=1 , **hfont)\n",
    "\n",
    "plt.show()\n",
    "plt.tight_layout()"
   ]
  },
  {
   "cell_type": "code",
   "execution_count": null,
   "metadata": {},
   "outputs": [],
   "source": []
  }
 ],
 "metadata": {
  "kernelspec": {
   "display_name": "Python 3",
   "language": "python",
   "name": "python3"
  },
  "language_info": {
   "codemirror_mode": {
    "name": "ipython",
    "version": 3
   },
   "file_extension": ".py",
   "mimetype": "text/x-python",
   "name": "python",
   "nbconvert_exporter": "python",
   "pygments_lexer": "ipython3",
   "version": "3.8.3"
  }
 },
 "nbformat": 4,
 "nbformat_minor": 4
}
