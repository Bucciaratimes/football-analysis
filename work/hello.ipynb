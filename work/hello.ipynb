{
 "cells": [
  {
   "cell_type": "code",
   "execution_count": 8,
   "metadata": {},
   "outputs": [],
   "source": [
    "from selenium import webdriver"
   ]
  },
  {
   "cell_type": "code",
   "execution_count": 9,
   "metadata": {},
   "outputs": [],
   "source": [
    "options = webdriver.ChromeOptions()"
   ]
  },
  {
   "cell_type": "code",
   "execution_count": 10,
   "metadata": {},
   "outputs": [],
   "source": [
    "driver = webdriver.Remote(\n",
    "    command_executor='ylenium_driver_1:4444/wd/hub', # コンテナ名を指定\n",
    "#     command_executor='192.168.96.3:4444/wd/hub', # もしくはIPアドレスを指定\n",
    "    options=options,\n",
    ")"
   ]
  },
  {
   "cell_type": "code",
   "execution_count": 12,
   "metadata": {},
   "outputs": [
    {
     "name": "stdout",
     "output_type": "stream",
     "text": [
      "https://www.whoscored.com/\n"
     ]
    }
   ],
   "source": [
    "driver.get('https://www.whoscored.com/')\n",
    "print(driver.current_url)\n",
    "\n",
    "driver.quit()"
   ]
  },
  {
   "cell_type": "code",
   "execution_count": 9,
   "metadata": {},
   "outputs": [],
   "source": [
    "import pandas as pd\n",
    "import numpy as np\n",
    "from selenium import webdriver\n",
    "import main\n",
    "import visualizer\n",
    "from mplsoccer.pitch import Pitch\n",
    "from matplotlib.colors import to_rgba\n",
    "import matplotlib.pyplot as plt\n",
    "\n",
    "\n",
    "import pandas as pd\n",
    "\n",
    "import selenium\n",
    "from selenium import webdriver\n",
    "from selenium import common\n",
    "from selenium.webdriver.support.ui import WebDriverWait\n",
    "from selenium.webdriver.support import expected_conditions as EC\n",
    "from selenium.webdriver.common.by import By\n",
    "from selenium.webdriver.common.keys import Keys\n",
    "import time\n",
    "import pandas as pd\n",
    "import os\n",
    "import openpyxl\n",
    "import xlsxwriter\n",
    "import csv\n",
    "\n",
    "options = webdriver.ChromeOptions()    \n",
    "driver = webdriver.Remote(\n",
    "command_executor='ylenium_driver_1:4444/wd/hub',\n",
    "options=options,\n",
    ")"
   ]
  },
  {
   "cell_type": "code",
   "execution_count": 14,
   "metadata": {},
   "outputs": [
    {
     "name": "stdout",
     "output_type": "stream",
     "text": [
      "running\n"
     ]
    },
    {
     "ename": "TimeoutException",
     "evalue": "Message: \n",
     "output_type": "error",
     "traceback": [
      "\u001b[0;31m---------------------------------------------------------------------------\u001b[0m",
      "\u001b[0;31mTimeoutException\u001b[0m                          Traceback (most recent call last)",
      "\u001b[0;32m<ipython-input-14-c1950d876930>\u001b[0m in \u001b[0;36m<module>\u001b[0;34m\u001b[0m\n\u001b[1;32m     84\u001b[0m \u001b[0;34m\u001b[0m\u001b[0m\n\u001b[1;32m     85\u001b[0m \u001b[0;32mif\u001b[0m \u001b[0m__name__\u001b[0m \u001b[0;34m==\u001b[0m \u001b[0;34m'__main__'\u001b[0m\u001b[0;34m:\u001b[0m\u001b[0;34m\u001b[0m\u001b[0;34m\u001b[0m\u001b[0m\n\u001b[0;32m---> 86\u001b[0;31m     \u001b[0mmain\u001b[0m\u001b[0;34m(\u001b[0m\u001b[0;34m)\u001b[0m\u001b[0;34m\u001b[0m\u001b[0;34m\u001b[0m\u001b[0m\n\u001b[0m\u001b[1;32m     87\u001b[0m \u001b[0;34m\u001b[0m\u001b[0m\n\u001b[1;32m     88\u001b[0m \u001b[0;34m\u001b[0m\u001b[0m\n",
      "\u001b[0;32m<ipython-input-14-c1950d876930>\u001b[0m in \u001b[0;36mmain\u001b[0;34m()\u001b[0m\n\u001b[1;32m     80\u001b[0m         \u001b[0mprint\u001b[0m\u001b[0;34m(\u001b[0m\u001b[0;34m'running'\u001b[0m\u001b[0;34m)\u001b[0m\u001b[0;34m\u001b[0m\u001b[0;34m\u001b[0m\u001b[0m\n\u001b[1;32m     81\u001b[0m         \u001b[0murl\u001b[0m \u001b[0;34m=\u001b[0m \u001b[0;34m'https://www.whoscored.com/Matches/1492060/Live/Spain-LaLiga-2020-2021-Real-Valladolid-Barcelona'\u001b[0m\u001b[0;34m\u001b[0m\u001b[0;34m\u001b[0m\u001b[0m\n\u001b[0;32m---> 82\u001b[0;31m         \u001b[0mgetPlayerStats\u001b[0m\u001b[0;34m(\u001b[0m\u001b[0murl\u001b[0m\u001b[0;34m)\u001b[0m\u001b[0;34m\u001b[0m\u001b[0;34m\u001b[0m\u001b[0m\n\u001b[0m\u001b[1;32m     83\u001b[0m \u001b[0;34m\u001b[0m\u001b[0m\n\u001b[1;32m     84\u001b[0m \u001b[0;34m\u001b[0m\u001b[0m\n",
      "\u001b[0;32m<ipython-input-14-c1950d876930>\u001b[0m in \u001b[0;36mgetPlayerStats\u001b[0;34m(stats_url)\u001b[0m\n\u001b[1;32m     16\u001b[0m             \u001b[0mdriver\u001b[0m\u001b[0;34m.\u001b[0m\u001b[0mget\u001b[0m\u001b[0;34m(\u001b[0m\u001b[0mstats_url\u001b[0m\u001b[0;34m)\u001b[0m\u001b[0;34m\u001b[0m\u001b[0;34m\u001b[0m\u001b[0m\n\u001b[1;32m     17\u001b[0m \u001b[0;34m\u001b[0m\u001b[0m\n\u001b[0;32m---> 18\u001b[0;31m             wait.until(\n\u001b[0m\u001b[1;32m     19\u001b[0m                 EC.presence_of_element_located(\n\u001b[1;32m     20\u001b[0m                     (By.XPATH, '//*[@id=\"player-table-statistics-body\"]/tr/td')))\n",
      "\u001b[0;32m/opt/anaconda3/lib/python3.8/site-packages/selenium/webdriver/support/wait.py\u001b[0m in \u001b[0;36muntil\u001b[0;34m(self, method, message)\u001b[0m\n\u001b[1;32m     78\u001b[0m             \u001b[0;32mif\u001b[0m \u001b[0mtime\u001b[0m\u001b[0;34m.\u001b[0m\u001b[0mtime\u001b[0m\u001b[0;34m(\u001b[0m\u001b[0;34m)\u001b[0m \u001b[0;34m>\u001b[0m \u001b[0mend_time\u001b[0m\u001b[0;34m:\u001b[0m\u001b[0;34m\u001b[0m\u001b[0;34m\u001b[0m\u001b[0m\n\u001b[1;32m     79\u001b[0m                 \u001b[0;32mbreak\u001b[0m\u001b[0;34m\u001b[0m\u001b[0;34m\u001b[0m\u001b[0m\n\u001b[0;32m---> 80\u001b[0;31m         \u001b[0;32mraise\u001b[0m \u001b[0mTimeoutException\u001b[0m\u001b[0;34m(\u001b[0m\u001b[0mmessage\u001b[0m\u001b[0;34m,\u001b[0m \u001b[0mscreen\u001b[0m\u001b[0;34m,\u001b[0m \u001b[0mstacktrace\u001b[0m\u001b[0;34m)\u001b[0m\u001b[0;34m\u001b[0m\u001b[0;34m\u001b[0m\u001b[0m\n\u001b[0m\u001b[1;32m     81\u001b[0m \u001b[0;34m\u001b[0m\u001b[0m\n\u001b[1;32m     82\u001b[0m     \u001b[0;32mdef\u001b[0m \u001b[0muntil_not\u001b[0m\u001b[0;34m(\u001b[0m\u001b[0mself\u001b[0m\u001b[0;34m,\u001b[0m \u001b[0mmethod\u001b[0m\u001b[0;34m,\u001b[0m \u001b[0mmessage\u001b[0m\u001b[0;34m=\u001b[0m\u001b[0;34m''\u001b[0m\u001b[0;34m)\u001b[0m\u001b[0;34m:\u001b[0m\u001b[0;34m\u001b[0m\u001b[0;34m\u001b[0m\u001b[0m\n",
      "\u001b[0;31mTimeoutException\u001b[0m: Message: \n"
     ]
    }
   ],
   "source": [
    "def getPlayerStats(stats_url):\n",
    "\n",
    "    venues = ['home', 'away']\n",
    "    types = {'summary': '1', 'offensive': '2', 'defensive': '3', 'passing': '4'}\n",
    "    \n",
    "    options = webdriver.ChromeOptions()\n",
    "    driver = webdriver.Remote(\n",
    "        command_executor='ylenium_driver_1:4444/wd/hub',\n",
    "        options=options\n",
    "    )\n",
    "    wait = WebDriverWait(driver, 30)\n",
    "\n",
    "    for venue in venues:\n",
    "        for key in types.keys():\n",
    "            \n",
    "            driver.get(stats_url)\n",
    "\n",
    "            wait.until(\n",
    "                EC.presence_of_element_located(\n",
    "                    (By.XPATH, '//*[@id=\"player-table-statistics-body\"]/tr/td')))\n",
    "\n",
    "            button = driver.find_element_by_xpath('//*[@id=\"live-player-%s-options\"]/li[%s]/a' % (venue, types[key]))\n",
    "\n",
    "            button.click()\n",
    "\n",
    "            time.sleep(5)\n",
    "\n",
    "            wait.until(\n",
    "                EC.presence_of_element_located(\n",
    "                    (By.XPATH, '//*[@id=\"player-table-statistics-body\"]/tr/td')))\n",
    "\n",
    "\n",
    "            sides = driver.find_elements_by_xpath('//h2/a')\n",
    "            if venue == 'home':\n",
    "                side = sides[0].text\n",
    "                opponent = sides[1].text\n",
    "#                 print('0:',sides[0],'1:',sides[1])\n",
    "                # team = driver.find_elements_by_xpath('//*[@id=\"layout-wrapper\"]/div[3]/h2/a').text\n",
    "#                 opponent = driver.find_elements_by_xpath('//*[@id=\"live-player-stats\"]/h2/a').text\n",
    "\n",
    "            elif venue == 'away':\n",
    "                side = sides[1].text\n",
    "                opponent = sides[0].text\n",
    "            \n",
    "                # team = driver.find_elements_by_xpath('//*[@id=\"live-player-stats\"]/h2/a').text\n",
    "#                 opponent = driver.find_elements_by_xpath('//*[@id=\"layout-wrapper\"]/div[3]/h2/a')[].text\n",
    "\n",
    "\n",
    "            header_data = driver.find_elements_by_xpath(\n",
    "                '//*[@id=\"statistics-table-%s-%s\"]//tr/th' % (venue, key))\n",
    "            master_data = driver.find_elements_by_xpath(\n",
    "                '//*[@id=\"statistics-table-%s-%s\"]//tr/td' % (venue, key))\n",
    "\n",
    "            header_list = data_to_list(header_data, 'header')\n",
    "            length = len(header_list)\n",
    "\n",
    "            master_list = data_to_list(master_data, 'master')\n",
    "            master_list = [master_list[x:x + length] for x in range(0, len(master_list) - (length - 1), length)]\n",
    "\n",
    "            globals()['%s_%s_%s_dataframe' % (side, venue, key)] = pd.DataFrame(master_list, columns=header_list)\n",
    "            # excel_writer = pd.ExcelWriter(r'C:\\Users\\leslie hau\\Documents\\python\\whoscored.xlsx')\n",
    "            # globals()['%s_%s_%s_dataframe' % (side, venue, t)].to_excel(excel_writer, sheet_name=['%s_%s_%s_dataframe' % (side, venue, t)], engine='xlsxwriter')\n",
    "            # excel_writer.save()\n",
    "\n",
    "            # with open('/work/assets/whoscored/player_stats.csv', 'w') as csv_file:\n",
    "            # writer = csv.writer(csv_file)\n",
    "            globals()['%s_%s_%s_dataframe' % (side, venue, key)].to_csv(f'/work/assets/whoscored/barcelona/vs_{opponent}_{venue}_{key}.csv')\n",
    "\n",
    "    driver.quit()\n",
    "\n",
    "\n",
    "def data_to_list(data, name):\n",
    "\tglobals()['%s_list' % (name)] = []\n",
    "\tfor element in data:\n",
    "\t\tglobals()['%s_list' % (name)].append(element.text)\n",
    "\treturn globals()['%s_list' % (name)]\n",
    "\n",
    "\n",
    "def main():\n",
    "\tprint('running')\n",
    "\turl = 'https://www.whoscored.com/Matches/1492060/Live/Spain-LaLiga-2020-2021-Real-Valladolid-Barcelona'\n",
    "\tgetPlayerStats(url)\n",
    "\n",
    "\n",
    "if __name__ == '__main__':\n",
    "    main()\n",
    "\n",
    "\n",
    "\n",
    "            "
   ]
  },
  {
   "cell_type": "code",
   "execution_count": null,
   "metadata": {},
   "outputs": [],
   "source": []
  }
 ],
 "metadata": {
  "kernelspec": {
   "display_name": "Python 3",
   "language": "python",
   "name": "python3"
  },
  "language_info": {
   "codemirror_mode": {
    "name": "ipython",
    "version": 3
   },
   "file_extension": ".py",
   "mimetype": "text/x-python",
   "name": "python",
   "nbconvert_exporter": "python",
   "pygments_lexer": "ipython3",
   "version": "3.8.3"
  }
 },
 "nbformat": 4,
 "nbformat_minor": 4
}
