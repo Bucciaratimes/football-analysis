{
 "cells": [
  {
   "cell_type": "code",
   "execution_count": 5,
   "metadata": {},
   "outputs": [],
   "source": [
    "import json\n",
    "from urllib.request import urlopen\n",
    "\n",
    "import matplotlib.pyplot as plt\n",
    "import numpy as np\n",
    "import pandas as pd\n",
    "from PIL import Image\n",
    "from highlight_text import fig_text\n",
    "\n",
    "from mplsoccer import Bumpy, FontManager, add_image"
   ]
  },
  {
   "cell_type": "code",
   "execution_count": null,
   "metadata": {},
   "outputs": [],
   "source": [
    "epl = Image.open(\n",
    "    urlopen(\"https://raw.githubusercontent.com/andrewRowlinson/mplsoccer-assets/main/epl.png\")\n",
    ")\n",
    "\n",
    "season_dict = json.load(\n",
    "    urlopen(\"https://raw.githubusercontent.com/andrewRowlinson/mplsoccer-assets/main/epl.json\")\n",
    ")\n",
    "\n",
    "player_dict = json.load(\n",
    "    urlopen(\"https://raw.githubusercontent.com/andrewRowlinson/mplsoccer-assets/main/\"\n",
    "            \"percentile.json\")\n",
    ")"
   ]
  },
  {
   "cell_type": "code",
   "execution_count": 7,
   "metadata": {},
   "outputs": [
    {
     "data": {
      "text/plain": [
       "Index(['Unnamed: 0', 'Player', 'Nation', 'Pos', 'Squad', 'Age', 'Born',\n",
       "       'MP_Playing Time', 'Starts_Playing Time', 'Min_Playing Time',\n",
       "       '90s_Playing Time', 'Gls_Performance', 'Ast_Performance',\n",
       "       'G-PK_Performance', 'PK_Performance', 'PKatt_Performance',\n",
       "       'CrdY_Performance', 'CrdR_Performance', 'Gls_Per 90 Minutes',\n",
       "       'Ast_Per 90 Minutes', 'G+A_Per 90 Minutes', 'G-PK_Per 90 Minutes',\n",
       "       'G+A-PK_Per 90 Minutes', 'xG_Expected', 'npxG_Expected', 'xAG_Expected',\n",
       "       'npxG+xAG_Expected', 'xG_Per 90 Minutes', 'xAG_Per 90 Minutes',\n",
       "       'xG+xAG_Per 90 Minutes', 'npxG_Per 90 Minutes',\n",
       "       'npxG+xAG_Per 90 Minutes'],\n",
       "      dtype='object')"
      ]
     },
     "execution_count": 7,
     "metadata": {},
     "output_type": "execute_result"
    }
   ],
   "source": [
    "pd.read_csv(\"/work/assets/fbref/leagueStats/liga/2223/standard.csv\").columns"
   ]
  },
  {
   "cell_type": "code",
   "execution_count": 2,
   "metadata": {},
   "outputs": [],
   "source": [
    "# match-week\n",
    "match_day = [\"Week \" + str(num) for num in range(1, 39)]\n",
    "\n",
    "# highlight dict --> team to highlight and their corresponding colors\n",
    "highlight_dict = {\n",
    "    \"Liverpool\": \"crimson\",\n",
    "    \"Man City\": \"skyblue\",\n",
    "    \"Man Utd\": \"gold\"\n",
    "}"
   ]
  },
  {
   "cell_type": "code",
   "execution_count": 3,
   "metadata": {},
   "outputs": [],
   "source": [
    "# instantiate object\n",
    "bumpy = Bumpy(\n",
    "    scatter_color=\"#282A2C\", line_color=\"#252525\",  # scatter and line colors\n",
    "    rotate_xticks=90,  # rotate x-ticks by 90 degrees\n",
    "    ticklabel_size=17, label_size=30,  # ticklable and label font-size\n",
    "    scatter_primary='D',  # marker to be used\n",
    "    show_right=True,  # show position on the rightside\n",
    "    plot_labels=True,  # plot the labels\n",
    "    alignment_yvalue=0.1,  # y label alignment\n",
    "    alignment_xvalue=0.065  # x label alignment\n",
    ")"
   ]
  },
  {
   "cell_type": "code",
   "execution_count": 4,
   "metadata": {},
   "outputs": [
    {
     "ename": "NameError",
     "evalue": "name 'season_dict' is not defined",
     "output_type": "error",
     "traceback": [
      "\u001b[0;31m---------------------------------------------------------------------------\u001b[0m",
      "\u001b[0;31mNameError\u001b[0m                                 Traceback (most recent call last)",
      "\u001b[0;32m<ipython-input-4-0edacf3f25ad>\u001b[0m in \u001b[0;36m<module>\u001b[0;34m\u001b[0m\n\u001b[1;32m      3\u001b[0m     \u001b[0mx_list\u001b[0m\u001b[0;34m=\u001b[0m\u001b[0mmatch_day\u001b[0m\u001b[0;34m,\u001b[0m  \u001b[0;31m# match-day or match-week\u001b[0m\u001b[0;34m\u001b[0m\u001b[0;34m\u001b[0m\u001b[0m\n\u001b[1;32m      4\u001b[0m     \u001b[0my_list\u001b[0m\u001b[0;34m=\u001b[0m\u001b[0mnp\u001b[0m\u001b[0;34m.\u001b[0m\u001b[0mlinspace\u001b[0m\u001b[0;34m(\u001b[0m\u001b[0;36m1\u001b[0m\u001b[0;34m,\u001b[0m \u001b[0;36m20\u001b[0m\u001b[0;34m,\u001b[0m \u001b[0;36m20\u001b[0m\u001b[0;34m)\u001b[0m\u001b[0;34m.\u001b[0m\u001b[0mastype\u001b[0m\u001b[0;34m(\u001b[0m\u001b[0mint\u001b[0m\u001b[0;34m)\u001b[0m\u001b[0;34m,\u001b[0m  \u001b[0;31m# position value from 1 to 20\u001b[0m\u001b[0;34m\u001b[0m\u001b[0;34m\u001b[0m\u001b[0m\n\u001b[0;32m----> 5\u001b[0;31m     \u001b[0mvalues\u001b[0m\u001b[0;34m=\u001b[0m\u001b[0mseason_dict\u001b[0m\u001b[0;34m,\u001b[0m  \u001b[0;31m# values having positions for each team\u001b[0m\u001b[0;34m\u001b[0m\u001b[0;34m\u001b[0m\u001b[0m\n\u001b[0m\u001b[1;32m      6\u001b[0m     \u001b[0msecondary_alpha\u001b[0m\u001b[0;34m=\u001b[0m\u001b[0;36m0.5\u001b[0m\u001b[0;34m,\u001b[0m   \u001b[0;31m# alpha value for non-shaded lines/markers\u001b[0m\u001b[0;34m\u001b[0m\u001b[0;34m\u001b[0m\u001b[0m\n\u001b[1;32m      7\u001b[0m     \u001b[0mhighlight_dict\u001b[0m\u001b[0;34m=\u001b[0m\u001b[0mhighlight_dict\u001b[0m\u001b[0;34m,\u001b[0m  \u001b[0;31m# team to be highlighted with their colors\u001b[0m\u001b[0;34m\u001b[0m\u001b[0;34m\u001b[0m\u001b[0m\n",
      "\u001b[0;31mNameError\u001b[0m: name 'season_dict' is not defined"
     ]
    }
   ],
   "source": [
    "# plot bumpy chart\n",
    "fig, ax = bumpy.plot(\n",
    "    x_list=match_day,  # match-day or match-week\n",
    "    y_list=np.linspace(1, 20, 20).astype(int),  # position value from 1 to 20\n",
    "    values=season_dict,  # values having positions for each team\n",
    "    secondary_alpha=0.5,   # alpha value for non-shaded lines/markers\n",
    "    highlight_dict=highlight_dict,  # team to be highlighted with their colors\n",
    "    figsize=(20, 16),  # size of the figure\n",
    "    x_label='Week', y_label='Position',  # label name\n",
    "    ylim=(-0.1, 23),  # y-axis limit\n",
    "    lw=2.5,   # linewidth of the connecting lines\n",
    "    fontproperties=font_normal.prop,   # fontproperties for ticklables/labels\n",
    ")"
   ]
  },
  {
   "cell_type": "code",
   "execution_count": null,
   "metadata": {},
   "outputs": [],
   "source": []
  }
 ],
 "metadata": {
  "kernelspec": {
   "display_name": "Python 3",
   "language": "python",
   "name": "python3"
  },
  "language_info": {
   "codemirror_mode": {
    "name": "ipython",
    "version": 3
   },
   "file_extension": ".py",
   "mimetype": "text/x-python",
   "name": "python",
   "nbconvert_exporter": "python",
   "pygments_lexer": "ipython3",
   "version": "3.8.3"
  }
 },
 "nbformat": 4,
 "nbformat_minor": 4
}
