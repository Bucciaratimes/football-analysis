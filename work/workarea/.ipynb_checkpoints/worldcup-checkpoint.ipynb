{
 "cells": [
  {
   "cell_type": "code",
   "execution_count": 1,
   "metadata": {},
   "outputs": [],
   "source": [
    "import ScraperFC\n",
    "import os\n",
    "import pandas as pd\n",
    "import matplotlib as mpl\n",
    "from matplotlib import pyplot as plt\n",
    "import seaborn as sns\n",
    "import math\n",
    "from highlight_text import fig_text\n",
    "import requests\n",
    "from bs4 import BeautifulSoup\n",
    "from mplsoccer import Pitch, add_image, VerticalPitch, FontManager\n",
    "import numpy as np"
   ]
  },
  {
   "cell_type": "code",
   "execution_count": 2,
   "metadata": {},
   "outputs": [],
   "source": [
    "spaceMono_bold = 'https://github.com/googlefonts/spacemono/blob/main/fonts/SpaceMono-BoldItalic.ttf?raw=true'\n",
    "\n",
    "from mplsoccer import FontManager\n",
    "from matplotlib.colors import LinearSegmentedColormap\n",
    "\n",
    "monoBFont = FontManager(spaceMono_bold)"
   ]
  },
  {
   "cell_type": "code",
   "execution_count": 3,
   "metadata": {},
   "outputs": [],
   "source": [
    "html = requests.get(\"https://fbref.com/en/comps/1/schedule/World-Cup-Scores-and-Fixtures\")\n",
    "soup = BeautifulSoup(html.content, 'html.parser')\n",
    "urls = []\n",
    "for td in soup.find_all(\"tbody\")[0].find_all('td',class_=\"right\"):\n",
    "    if td.find(\"a\"):\n",
    "        link = \"https://fbref.com/\" + td.find(\"a\")[\"href\"]\n",
    "        urls.append(link)"
   ]
  },
  {
   "cell_type": "code",
   "execution_count": 4,
   "metadata": {},
   "outputs": [],
   "source": [
    "urls = set(urls)\n",
    "urls.remove('https://fbref.com//en/squads/6a08f71e/IR-Iran-Men-Stats')\n",
    "urls.remove('https://fbref.com//en/squads/6e84edac/Saudi-Arabia-Men-Stats')\n",
    "urls.remove('https://fbref.com//en/squads/9349828d/Ghana-Men-Stats')\n",
    "urls.remove('https://fbref.com//en/squads/896550da/Cameroon-Men-Stats')\n",
    "urls.remove('https://fbref.com//en/squads/870e020f/Uruguay-Men-Stats')\n",
    "urls.remove('https://fbref.com//en/squads/b1bbcad3/Wales-Men-Stats')\n",
    "urls.remove('https://fbref.com//en/squads/1d6f5c9b/Serbia-Men-Stats')\n",
    "urls.remove('https://fbref.com//en/squads/1ea5ab66/Costa-Rica-Men-Stats')\n",
    "urls.remove('https://fbref.com//en/squads/9b696ed1/Qatar-Men-Stats')\n",
    "urls.remove('https://fbref.com//en/squads/9c6d90a0/Canada-Men-Stats')\n",
    "urls.remove('https://fbref.com//en/squads/c1e40422/Germany-Men-Stats')\n",
    "urls.remove('https://fbref.com//en/squads/29a4e4af/Denmark-Men-Stats')\n",
    "urls.remove('https://fbref.com//en/squads/123acaf8/Ecuador-Men-Stats')\n",
    "urls.remove('https://fbref.com//en/squads/361422b9/Belgium-Men-Stats')\n",
    "urls.remove('https://fbref.com//en/squads/b009a548/Mexico-Men-Stats')"
   ]
  },
  {
   "cell_type": "code",
   "execution_count": 139,
   "metadata": {},
   "outputs": [],
   "source": [
    "from urllib.request import urlopen\n",
    "from PIL import Image\n",
    "\n",
    "mark_urls = [\"https://upload.wikimedia.org/wikipedia/en/thumb/a/a4/Flag_of_the_United_States.svg/1200px-Flag_of_the_United_States.svg.png\" \n",
    ",\"https://upload.wikimedia.org/wikipedia/commons/thumb/b/be/Flag_of_England.svg/1200px-Flag_of_England.svg.png\"\n",
    ",\"https://upload.wikimedia.org/wikipedia/commons/thumb/0/08/Flag_of_Switzerland_%28Pantone%29.svg/1200px-Flag_of_Switzerland_%28Pantone%29.svg.png\"\n",
    ",\"https://upload.wikimedia.org/wikipedia/commons/thumb/5/5c/Flag_of_Portugal.svg/1200px-Flag_of_Portugal.svg.png\"\n",
    ",\"https://upload.wikimedia.org/wikipedia/commons/thumb/1/1b/Flag_of_Croatia.svg/1200px-Flag_of_Croatia.svg.png\"\n",
    ",\"https://upload.wikimedia.org/wikipedia/commons/thumb/2/2c/Flag_of_Morocco.svg/1200px-Flag_of_Morocco.svg.png\"\n",
    ",\"https://upload.wikimedia.org/wikipedia/commons/thumb/8/88/Flag_of_Australia_%28converted%29.svg/1200px-Flag_of_Australia_%28converted%29.svg.png\" \n",
    ",\"https://upload.wikimedia.org/wikipedia/en/thumb/9/9e/Flag_of_Japan.svg/1200px-Flag_of_Japan.svg.png\" \n",
    ",\"https://upload.wikimedia.org/wikipedia/en/thumb/c/c3/Flag_of_France.svg/1200px-Flag_of_France.svg.png\"\n",
    ",\"https://upload.wikimedia.org/wikipedia/commons/thumb/8/89/Bandera_de_Espa%C3%B1a.svg/1200px-Bandera_de_Espa%C3%B1a.svg.png\"\n",
    ",\"https://upload.wikimedia.org/wikipedia/en/thumb/0/05/Flag_of_Brazil.svg/1200px-Flag_of_Brazil.svg.png\"\n",
    ",\"https://upload.wikimedia.org/wikipedia/commons/thumb/f/fd/Flag_of_Senegal.svg/1200px-Flag_of_Senegal.svg.png\" \n",
    ",\"https://upload.wikimedia.org/wikipedia/commons/thumb/1/1a/Flag_of_Argentina.svg/1200px-Flag_of_Argentina.svg.png\"\n",
    ",\"https://upload.wikimedia.org/wikipedia/commons/thumb/2/20/Flag_of_the_Netherlands.svg/1200px-Flag_of_the_Netherlands.svg.png\"\n",
    ",\"https://upload.wikimedia.org/wikipedia/en/thumb/1/12/Flag_of_Poland.svg/1200px-Flag_of_Poland.svg.png\"\n",
    ",\"https://upload.wikimedia.org/wikipedia/commons/thumb/0/09/Flag_of_South_Korea.svg/1200px-Flag_of_South_Korea.svg.png\"]\n",
    "\n",
    "marks = []\n",
    "for url in mark_urls:\n",
    "    mark = Image.open(urlopen(url))\n",
    "    marks.append(mark)"
   ]
  },
  {
   "cell_type": "code",
   "execution_count": 5,
   "metadata": {},
   "outputs": [],
   "source": [
    "dfs = []\n",
    "for url in urls:\n",
    "    html = requests.get(url)\n",
    "    soup = BeautifulSoup(html.content, 'html.parser')\n",
    "    # comment = re.compile('<!--|-->')\n",
    "    # soup = BeautifulSoup(comment.sub(\"\", html.text), 'lxml')\n",
    "    table = soup.find_all('table')\n",
    "    df = pd.read_html(table[0].prettify(), flavor='bs4')[0]\n",
    "    df.fillna(0,inplace=True)\n",
    "    dfs.append(df)"
   ]
  },
  {
   "cell_type": "code",
   "execution_count": null,
   "metadata": {},
   "outputs": [],
   "source": [
    "sns.set(style=\"darkgrid\")\n",
    "sns.set_context(\"paper\", 2.5, {\"lines.linewidth\": 2})\n",
    "\n",
    "for param in ['text.color', 'xtick.color', 'ytick.color']:\n",
    "    plt.rcParams[param] = '#fefefe'  \n",
    "\n",
    "fig,axes = plt.subplots(4,4,figsize=(78,37))\n",
    "fig_color = \"#212121\"\n",
    "fig.set_facecolor(fig_color)\n",
    "\n",
    "axes = axes.flatten()\n",
    "col = \"Min\"\n",
    "\n",
    "for i in np.arange(0,len(axes),4):\n",
    "    sns.barplot(y=\"Player\", x=col, orient=\"h\", data=dfs[i], palette=sns.color_palette(\"cool_r\", 26), ax=axes[i])\n",
    "    sns.barplot(y=\"Player\", x=col, orient=\"h\", data=dfs[i+1], palette=sns.color_palette(\"spring_r\", 26),ax=axes[i+1])\n",
    "    sns.barplot(y=\"Player\", x=col, orient=\"h\", data=dfs[i+2], palette=sns.color_palette(\"winter_r\", 26),ax=axes[i+2])\n",
    "    sns.barplot(y=\"Player\", x=col, orient=\"h\", data=dfs[i+3], palette=sns.color_palette(\"hot_r\", 26),ax=axes[i+3])\n",
    "    \n",
    "\n",
    "# def change_height(ax, new_value) :\n",
    "#     for patch in ax.patches :\n",
    "#         current_height = patch.get_height()\n",
    "#         diff = current_height - new_value\n",
    "\n",
    "#         # we change the bar width\n",
    "#         patch.set_width(new_value)\n",
    "\n",
    "#         # we recenter the bar\n",
    "#         patch.set_x(patch.get_x() + diff * .5)\n",
    "\n",
    "# change_height(axes[0], 27.35)\n",
    "\n",
    "urls = list(urls)\n",
    "teams = []\n",
    "for url in urls:\n",
    "    team = url.split(\"/\")[-1].split(\"-\")[0]\n",
    "    teams.append(team)\n",
    "    \n",
    "teams[0] = \"USA\"\n",
    "    \n",
    "for i in range(len(axes)):\n",
    "    names = dfs[i][\"Player\"].unique()\n",
    "#     print(len(names))\n",
    "    axes[i].set_xlim((0,280))\n",
    "    axes[i].set_facecolor(fig_color)\n",
    "    axes[i].xaxis.label.set_color('white')\n",
    "    axes[i].yaxis.label.set_color('white')  \n",
    "    axes[i].xaxis.label.set_fontsize(14)  \n",
    "    axes[i].set_xlabel(\"Min\",fontsize=18,fontweight='bold',color=\"#fefefe\",fontproperties=monoBFont.prop)\n",
    "    axes[i].set_ylabel(\"\",fontweight='bold')   \n",
    "    axes[i].set_yticklabels(names,fontsize=15,fontweight=\"bold\",fontproperties=monoBFont.prop)\n",
    "#     axes[i].set_title(teams[i], fontweight='bold', fontsize=17, color=\"#fdc526\")\n",
    "    fig_text(s=f\"<{teams[i]}>\",\n",
    "             x=axes[i].get_position().x0,y=axes[i].get_position().y1+.015,\n",
    "             color=\"#8C898C\",\n",
    "             highlight_colors=[\"#ffffff\"],\n",
    "             highlight_weights=[\"bold\"],\n",
    "             highlight_styles=[\"italic\"],\n",
    "             fontsize=22,\n",
    "             fontproperties=monoBFont.prop,fig=fig)\n",
    "    for label in (axes[i].get_xticklabels()):\n",
    "        label.set_fontsize(16)\n",
    "        \n",
    "#     ax_image = add_image(\n",
    "#         marks[i], fig, left=axes[i].get_position().x0 - 0.1, bottom=axes[i].get_position().y1-.015, width=0.08, height=0.08)  \n",
    "plt.savefig(f'/work/output/total_salary.png', dpi=300, bbox_inches=\"tight\")"
   ]
  },
  {
   "cell_type": "code",
   "execution_count": 153,
   "metadata": {},
   "outputs": [
    {
     "data": {
      "text/plain": [
       "array([ 0,  4,  8, 12])"
      ]
     },
     "execution_count": 153,
     "metadata": {},
     "output_type": "execute_result"
    }
   ],
   "source": [
    "import numpy as np\n",
    "np.arange(0,len(axes),4)"
   ]
  },
  {
   "cell_type": "code",
   "execution_count": 118,
   "metadata": {},
   "outputs": [
    {
     "data": {
      "text/plain": [
       "['https://fbref.com//en/squads/0f66725b/United-States-Men-Stats',\n",
       " 'https://fbref.com//en/squads/1862c019/England-Men-Stats',\n",
       " 'https://fbref.com//en/squads/81021a70/Switzerland-Men-Stats',\n",
       " 'https://fbref.com//en/squads/4a1b4ea8/Portugal-Men-Stats',\n",
       " 'https://fbref.com//en/squads/7b08e376/Croatia-Men-Stats',\n",
       " 'https://fbref.com//en/squads/af41ccda/Morocco-Men-Stats',\n",
       " 'https://fbref.com//en/squads/b90bf4f9/Australia-Men-Stats',\n",
       " 'https://fbref.com//en/squads/ffcf1690/Japan-Men-Stats',\n",
       " 'https://fbref.com//en/squads/b1b36dcd/France-Men-Stats',\n",
       " 'https://fbref.com//en/squads/b561dd30/Spain-Men-Stats',\n",
       " 'https://fbref.com//en/squads/304635c3/Brazil-Men-Stats',\n",
       " 'https://fbref.com//en/squads/9ab5c684/Senegal-Men-Stats',\n",
       " 'https://fbref.com//en/squads/f9fddd6e/Argentina-Men-Stats',\n",
       " 'https://fbref.com//en/squads/5bb5024a/Netherlands-Men-Stats',\n",
       " 'https://fbref.com//en/squads/8912dcf0/Poland-Men-Stats',\n",
       " 'https://fbref.com//en/squads/473f0fbf/Korea-Republic-Men-Stats']"
      ]
     },
     "execution_count": 118,
     "metadata": {},
     "output_type": "execute_result"
    }
   ],
   "source": []
  },
  {
   "cell_type": "code",
   "execution_count": null,
   "metadata": {},
   "outputs": [],
   "source": []
  },
  {
   "cell_type": "code",
   "execution_count": null,
   "metadata": {},
   "outputs": [],
   "source": []
  },
  {
   "cell_type": "code",
   "execution_count": null,
   "metadata": {},
   "outputs": [],
   "source": []
  },
  {
   "cell_type": "code",
   "execution_count": null,
   "metadata": {},
   "outputs": [],
   "source": []
  },
  {
   "cell_type": "code",
   "execution_count": null,
   "metadata": {},
   "outputs": [],
   "source": [
    "sns.set(style=\"darkgrid\")\n",
    "season = 2021\n",
    "league = \"La Liga\"\n",
    "df1 = pd.read_csv(f\"/work/assets/capology/salary/{league}/{season}/{season}_La Liga.csv\")\n",
    "col = \"Annual Gross\" \n",
    "df1[col]= df1[col].str.replace(',', '').str.lstrip('€').str.lstrip().astype('float') / 1000000\n",
    "sturges = lambda n: math.ceil(math.log2(n*2))\n",
    "struges_bin = sturges(len(df1[col]))\n",
    "print(struges_bin)\n",
    "\n",
    "season = 2022\n",
    "league = \"La Liga\"\n",
    "df2 = pd.read_csv(f\"/work/assets/capology/salary/{league}/{season}/{season}_La Liga.csv\")\n",
    "col = \"Annual Gross\" \n",
    "df2[col]= df2[col].str.replace(',', '').str.lstrip('€').str.lstrip().astype('float') / 1000000\n",
    "sturges = lambda n: math.ceil(math.log2(n*2))\n",
    "struges_bin = sturges(len(df2[col]))\n",
    "print(struges_bin)\n",
    "\n",
    "season = 2023\n",
    "league = \"La Liga\"\n",
    "df3 = pd.read_csv(f\"/work/assets/capology/salary/{league}/{season}/{season}_La Liga.csv\")\n",
    "col = \"Annual Gross\" \n",
    "df3[col]= df3[col].str.replace(',', '').str.lstrip('€').str.lstrip().astype('float') / 1000000\n",
    "sturges = lambda n: math.ceil(math.log2(n*2))\n",
    "struges_bin = sturges(len(df3[col]))\n",
    "print(struges_bin)"
   ]
  }
 ],
 "metadata": {
  "kernelspec": {
   "display_name": "Python 3",
   "language": "python",
   "name": "python3"
  },
  "language_info": {
   "codemirror_mode": {
    "name": "ipython",
    "version": 3
   },
   "file_extension": ".py",
   "mimetype": "text/x-python",
   "name": "python",
   "nbconvert_exporter": "python",
   "pygments_lexer": "ipython3",
   "version": "3.8.3"
  }
 },
 "nbformat": 4,
 "nbformat_minor": 4
}
