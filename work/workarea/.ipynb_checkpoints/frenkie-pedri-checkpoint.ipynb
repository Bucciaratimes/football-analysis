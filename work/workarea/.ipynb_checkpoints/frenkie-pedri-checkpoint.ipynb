{
 "cells": [
  {
   "cell_type": "code",
   "execution_count": 1,
   "metadata": {},
   "outputs": [],
   "source": [
    "import requests\n",
    "from bs4 import BeautifulSoup\n",
    "import json\n",
    "import pandas as pd\n",
    "import matplotlib.pyplot as plt\n",
    "import numpy as np\n",
    "import matplotlib as mpl\n",
    "import seaborn as sns\n",
    "from mplsoccer import VerticalPitch,FontManager,add_image\n",
    "from matplotlib.colors import LinearSegmentedColormap\n",
    "from matplotlib import colors\n",
    "from urllib.request import urlopen\n",
    "from PIL import Image\n",
    "\n",
    "from matplotlib.patches import Circle, Rectangle, Arc"
   ]
  },
  {
   "cell_type": "code",
   "execution_count": 2,
   "metadata": {},
   "outputs": [],
   "source": [
    "xT = pd.read_csv(\"/work/assets/xT_Grid.csv\")\n",
    "xT = np.array(xT)\n",
    "xT_rows, xT_cols = xT.shape"
   ]
  },
  {
   "cell_type": "code",
   "execution_count": 3,
   "metadata": {},
   "outputs": [],
   "source": [
    "# sources = [\n",
    "#     \"croatia\",\"italy\",\"switze\",\"poland\",\"slovakia\",\"sweden\"\n",
    "# ]\n",
    "sources = [\n",
    "    \"ukraine\",\"mecedonia\",\"czech\",\"austria\"\n",
    "]\n",
    "dfS = []\n",
    "for i in range(38):\n",
    "#     df= pd.read_csv(f\"/work/assets/whoscored/euro2020/2122#{sources[i]}.csv\")\n",
    "    df= pd.read_csv(f\"/work/assets/whoscored/barcelona/match/2021/2021#{i}.csv\")\n",
    "\n",
    "    dfS.append(df)\n",
    "\n",
    "\n",
    "dfB = []\n",
    "for i in range(0,28):\n",
    "#     df= pd.read_csv(f\"/work/assets/whoscored/barcelona/match/2122/eventsData/2122#{i}.csv\")\n",
    "    df = pd.read_csv(f\"/work/assets/whoscored/Ajax/match/1819/2021#{i}.csv\")\n",
    "    dfB.append(df)\n",
    "# dfC= pd.read_csv(f\"/work/assets/whoscored/barcelona/match/2122/eventsData/2122#cl_bayernH.csv\")\n",
    "# dfL= pd.read_csv(f\"/work/assets/whoscored/barcelona/match/2122/eventsData/2122#cl_benficaA.csv\")\n",
    "# dfB.append(dfC)\n",
    "# dfB.append(dfL)\n",
    "\n",
    "    \n",
    "def get_angle(val):\n",
    "        x1, y1, x2, y2 = val\n",
    "        dx = x2 - x1\n",
    "        dy = y2 - y1\n",
    "        result = np.arctan2(dy, dx)\n",
    "        return result if result>=0 else result + 2*np.pi\n",
    "\n",
    "#Angle Multiplier\n",
    "multiplier = 2*np.pi/24\n",
    "\n",
    "def setup(dfs):\n",
    "\n",
    "    df = pd.concat(dfs)\n",
    "    not_sub = df['type.displayName']!='SubstitutionOn'\n",
    "    df = df[not_sub]\n",
    "\n",
    "    #Filter Pass\n",
    "    df['x']=df['x']*1.2\n",
    "    df['endX']=df['endX']*1.2\n",
    "    df['y']=df['y']*0.8\n",
    "    df['endY']=df['endY']*0.8\n",
    "    df[\"y\"] = 80 - df[\"y\"]\n",
    "    df[\"endY\"] = 80 - df[\"endY\"]\n",
    "    \n",
    "    df=df[((df['type.value']==1) & (df['outcomeType.value']==1))]\n",
    "    df['playerId'] = df['playerId'].astype(int)\n",
    "    df = df.dropna(subset=['playerId'],axis=0)\n",
    "\n",
    "    df['length'] = np.sqrt(np.square(df[\"x\"] - df[\"endX\"]) + np.square(df[\"y\"] - df[\"endY\"]))\n",
    "    # df['angle'] = df[['x', 'y', 'endX', 'endY']].apply(get_angle, axis=1)\n",
    "    df['angle'] = df[['y', 'x', 'endY', 'endX']].apply(get_angle, axis=1)\n",
    "    df['angle_bin'] = pd.cut(df['angle'], bins=np.linspace(0, 2*np.pi, 25), right=True, labels=False)\n",
    "    \n",
    "    \n",
    "    #Bin Data for xT\n",
    "\n",
    "    # We use a pandas method called .cut --> https://pandas.pydata.org/docs/reference/api/pandas.cut.html\n",
    "    # We say labels=False because we want the integer locator of the bin\n",
    "    df['x_bin'] = pd.cut(df['x'], bins=xT_cols, labels=False)\n",
    "    df['y_bin'] = pd.cut(df['y'], bins=xT_rows, labels=False)\n",
    "    df['endX_bin'] = pd.cut(df['endX'], bins=xT_cols, labels=False)\n",
    "    df['endY_bin'] = pd.cut(df['endY'], bins=xT_rows, labels=False)\n",
    "\n",
    "    # Return Bin Values for xT\n",
    "    # We use a lambda function to assign the values from the bins to the x and y values with numpy array slicing\n",
    "    # it is going through each row and assigning the values based on where those numbers are in the numpy array\n",
    "    # kind of an advanced topic, so be sure to familiarize yourself with slicing and indexing\n",
    "    # its basically doing this: xT[4][5] where 4 is the fourth list and 5 is the fifth item in that list\n",
    "\n",
    "    df['start_zone_value'] = df[['x_bin', 'y_bin']].apply(lambda x: xT[x[1]][x[0]], axis=1)\n",
    "    df['end_zone_value'] = df[['endX_bin', 'endY_bin']].apply(lambda x: xT[x[1]][x[0]], axis=1)\n",
    "\n",
    "    # now we find the difference between the start and end to get the xT value\n",
    "    df['xT'] = df['end_zone_value'] - df['start_zone_value']\n",
    "    \n",
    "    return df"
   ]
  },
  {
   "cell_type": "code",
   "execution_count": 4,
   "metadata": {},
   "outputs": [],
   "source": [
    "dfSpain = setup(dfS)"
   ]
  },
  {
   "cell_type": "code",
   "execution_count": 5,
   "metadata": {},
   "outputs": [],
   "source": [
    "dfBarca = setup(dfB)"
   ]
  },
  {
   "cell_type": "code",
   "execution_count": 6,
   "metadata": {},
   "outputs": [],
   "source": [
    "textColor = \"#ededed\"\n",
    "#Set cmap\n",
    "# cmap1 = plt.cm.get_cmap('Oranges')\n",
    "# cmap2 = plt.cm.get_cmap('Reds')\n",
    "cmap1 = colors.LinearSegmentedColormap.from_list(\"\", [\"seagreen\", \"orange\", 'crimson'])\n",
    "# cmap2 = colors.LinearSegmentedColormap.from_list(\"\", [\"blue\", \"yellow\", 'green'])"
   ]
  },
  {
   "cell_type": "code",
   "execution_count": 53,
   "metadata": {},
   "outputs": [
    {
     "name": "stdout",
     "output_type": "stream",
     "text": [
      "2453\n",
      "median:  15.894020573417238\n",
      "std:  2.42561332968671\n",
      "var:  5.883600025153848\n"
     ]
    },
    {
     "ename": "TypeError",
     "evalue": "can't multiply sequence by non-int of type 'float'",
     "output_type": "error",
     "traceback": [
      "\u001b[0;31m---------------------------------------------------------------------------\u001b[0m",
      "\u001b[0;31mTypeError\u001b[0m                                 Traceback (most recent call last)",
      "\u001b[0;32m<ipython-input-53-f63d5f05164d>\u001b[0m in \u001b[0;36m<module>\u001b[0;34m\u001b[0m\n\u001b[1;32m     60\u001b[0m \u001b[0;34m\u001b[0m\u001b[0m\n\u001b[1;32m     61\u001b[0m \u001b[0;34m\u001b[0m\u001b[0m\n\u001b[0;32m---> 62\u001b[0;31m \u001b[0mplotSoner\u001b[0m\u001b[0;34m(\u001b[0m\u001b[0mdfSpain\u001b[0m\u001b[0;34m,\u001b[0m\u001b[0;36m44721\u001b[0m\u001b[0;34m,\u001b[0m\u001b[0;34m\"Pedri 2021\"\u001b[0m\u001b[0;34m,\u001b[0m\u001b[0;36m0\u001b[0m\u001b[0;34m,\u001b[0m \u001b[0mcmap1\u001b[0m\u001b[0;34m)\u001b[0m\u001b[0;34m\u001b[0m\u001b[0;34m\u001b[0m\u001b[0m\n\u001b[0m\u001b[1;32m     63\u001b[0m \u001b[0mplotSoner\u001b[0m\u001b[0;34m(\u001b[0m\u001b[0mdfSpain\u001b[0m\u001b[0;34m,\u001b[0m\u001b[0;36m279423\u001b[0m\u001b[0;34m,\u001b[0m\u001b[0;34m\"Frenkie 1819\"\u001b[0m\u001b[0;34m,\u001b[0m\u001b[0;36m1\u001b[0m\u001b[0;34m,\u001b[0m \u001b[0mcmap1\u001b[0m\u001b[0;34m)\u001b[0m\u001b[0;34m\u001b[0m\u001b[0;34m\u001b[0m\u001b[0m\n\u001b[1;32m     64\u001b[0m \u001b[0;34m\u001b[0m\u001b[0m\n",
      "\u001b[0;32m<ipython-input-53-f63d5f05164d>\u001b[0m in \u001b[0;36mplotSoner\u001b[0;34m(df, playerId, playerName, x, myCmap)\u001b[0m\n\u001b[1;32m     37\u001b[0m     \u001b[0maxes\u001b[0m\u001b[0;34m[\u001b[0m\u001b[0mx\u001b[0m\u001b[0;34m]\u001b[0m\u001b[0;34m.\u001b[0m\u001b[0mspines\u001b[0m\u001b[0;34m[\u001b[0m\u001b[0;34m'polar'\u001b[0m\u001b[0;34m]\u001b[0m\u001b[0;34m.\u001b[0m\u001b[0mset_linestyle\u001b[0m\u001b[0;34m(\u001b[0m\u001b[0;34m\"--\"\u001b[0m\u001b[0;34m)\u001b[0m\u001b[0;34m\u001b[0m\u001b[0;34m\u001b[0m\u001b[0m\n\u001b[1;32m     38\u001b[0m     \u001b[0maxes\u001b[0m\u001b[0;34m[\u001b[0m\u001b[0mx\u001b[0m\u001b[0;34m]\u001b[0m\u001b[0;34m.\u001b[0m\u001b[0mspines\u001b[0m\u001b[0;34m[\u001b[0m\u001b[0;34m'polar'\u001b[0m\u001b[0;34m]\u001b[0m\u001b[0;34m.\u001b[0m\u001b[0mset_linewidth\u001b[0m\u001b[0;34m(\u001b[0m\u001b[0;34m\"3\"\u001b[0m\u001b[0;34m)\u001b[0m\u001b[0;34m\u001b[0m\u001b[0;34m\u001b[0m\u001b[0m\n\u001b[0;32m---> 39\u001b[0;31m     axes[x].scatter(x=axes[x].get_xlim()[1]/2,y=axes[x].get_ylim()[1]/2,\n\u001b[0m\u001b[1;32m     40\u001b[0m                     s=138000,edgecolor=\"red\",linestyle=\"-.\",linewidth=\"500\",facecolor=\"#131313\")\n\u001b[1;32m     41\u001b[0m     \u001b[0mprint\u001b[0m\u001b[0;34m(\u001b[0m\u001b[0mtype\u001b[0m\u001b[0;34m(\u001b[0m\u001b[0maxes\u001b[0m\u001b[0;34m[\u001b[0m\u001b[0mx\u001b[0m\u001b[0;34m]\u001b[0m\u001b[0;34m.\u001b[0m\u001b[0mget_xlim\u001b[0m\u001b[0;34m(\u001b[0m\u001b[0;34m)\u001b[0m\u001b[0;34m)\u001b[0m\u001b[0;34m)\u001b[0m\u001b[0;34m\u001b[0m\u001b[0;34m\u001b[0m\u001b[0m\n",
      "\u001b[0;32m/opt/anaconda3/lib/python3.8/site-packages/matplotlib/__init__.py\u001b[0m in \u001b[0;36minner\u001b[0;34m(ax, data, *args, **kwargs)\u001b[0m\n\u001b[1;32m   1359\u001b[0m     \u001b[0;32mdef\u001b[0m \u001b[0minner\u001b[0m\u001b[0;34m(\u001b[0m\u001b[0max\u001b[0m\u001b[0;34m,\u001b[0m \u001b[0;34m*\u001b[0m\u001b[0margs\u001b[0m\u001b[0;34m,\u001b[0m \u001b[0mdata\u001b[0m\u001b[0;34m=\u001b[0m\u001b[0;32mNone\u001b[0m\u001b[0;34m,\u001b[0m \u001b[0;34m**\u001b[0m\u001b[0mkwargs\u001b[0m\u001b[0;34m)\u001b[0m\u001b[0;34m:\u001b[0m\u001b[0;34m\u001b[0m\u001b[0;34m\u001b[0m\u001b[0m\n\u001b[1;32m   1360\u001b[0m         \u001b[0;32mif\u001b[0m \u001b[0mdata\u001b[0m \u001b[0;32mis\u001b[0m \u001b[0;32mNone\u001b[0m\u001b[0;34m:\u001b[0m\u001b[0;34m\u001b[0m\u001b[0;34m\u001b[0m\u001b[0m\n\u001b[0;32m-> 1361\u001b[0;31m             \u001b[0;32mreturn\u001b[0m \u001b[0mfunc\u001b[0m\u001b[0;34m(\u001b[0m\u001b[0max\u001b[0m\u001b[0;34m,\u001b[0m \u001b[0;34m*\u001b[0m\u001b[0mmap\u001b[0m\u001b[0;34m(\u001b[0m\u001b[0msanitize_sequence\u001b[0m\u001b[0;34m,\u001b[0m \u001b[0margs\u001b[0m\u001b[0;34m)\u001b[0m\u001b[0;34m,\u001b[0m \u001b[0;34m**\u001b[0m\u001b[0mkwargs\u001b[0m\u001b[0;34m)\u001b[0m\u001b[0;34m\u001b[0m\u001b[0;34m\u001b[0m\u001b[0m\n\u001b[0m\u001b[1;32m   1362\u001b[0m \u001b[0;34m\u001b[0m\u001b[0m\n\u001b[1;32m   1363\u001b[0m         \u001b[0mbound\u001b[0m \u001b[0;34m=\u001b[0m \u001b[0mnew_sig\u001b[0m\u001b[0;34m.\u001b[0m\u001b[0mbind\u001b[0m\u001b[0;34m(\u001b[0m\u001b[0max\u001b[0m\u001b[0;34m,\u001b[0m \u001b[0;34m*\u001b[0m\u001b[0margs\u001b[0m\u001b[0;34m,\u001b[0m \u001b[0;34m**\u001b[0m\u001b[0mkwargs\u001b[0m\u001b[0;34m)\u001b[0m\u001b[0;34m\u001b[0m\u001b[0;34m\u001b[0m\u001b[0m\n",
      "\u001b[0;32m/opt/anaconda3/lib/python3.8/site-packages/matplotlib/axes/_axes.py\u001b[0m in \u001b[0;36mscatter\u001b[0;34m(self, x, y, s, c, marker, cmap, norm, vmin, vmax, alpha, linewidths, edgecolors, plotnonfinite, **kwargs)\u001b[0m\n\u001b[1;32m   4595\u001b[0m                 )\n\u001b[1;32m   4596\u001b[0m         \u001b[0mcollection\u001b[0m\u001b[0;34m.\u001b[0m\u001b[0mset_transform\u001b[0m\u001b[0;34m(\u001b[0m\u001b[0mmtransforms\u001b[0m\u001b[0;34m.\u001b[0m\u001b[0mIdentityTransform\u001b[0m\u001b[0;34m(\u001b[0m\u001b[0;34m)\u001b[0m\u001b[0;34m)\u001b[0m\u001b[0;34m\u001b[0m\u001b[0;34m\u001b[0m\u001b[0m\n\u001b[0;32m-> 4597\u001b[0;31m         \u001b[0mcollection\u001b[0m\u001b[0;34m.\u001b[0m\u001b[0mupdate\u001b[0m\u001b[0;34m(\u001b[0m\u001b[0mkwargs\u001b[0m\u001b[0;34m)\u001b[0m\u001b[0;34m\u001b[0m\u001b[0;34m\u001b[0m\u001b[0m\n\u001b[0m\u001b[1;32m   4598\u001b[0m \u001b[0;34m\u001b[0m\u001b[0m\n\u001b[1;32m   4599\u001b[0m         \u001b[0;32mif\u001b[0m \u001b[0mcolors\u001b[0m \u001b[0;32mis\u001b[0m \u001b[0;32mNone\u001b[0m\u001b[0;34m:\u001b[0m\u001b[0;34m\u001b[0m\u001b[0;34m\u001b[0m\u001b[0m\n",
      "\u001b[0;32m/opt/anaconda3/lib/python3.8/site-packages/matplotlib/artist.py\u001b[0m in \u001b[0;36mupdate\u001b[0;34m(self, props)\u001b[0m\n\u001b[1;32m   1062\u001b[0m                         raise AttributeError(f\"{type(self).__name__!r} object \"\n\u001b[1;32m   1063\u001b[0m                                              f\"has no property {k!r}\")\n\u001b[0;32m-> 1064\u001b[0;31m                     \u001b[0mret\u001b[0m\u001b[0;34m.\u001b[0m\u001b[0mappend\u001b[0m\u001b[0;34m(\u001b[0m\u001b[0mfunc\u001b[0m\u001b[0;34m(\u001b[0m\u001b[0mv\u001b[0m\u001b[0;34m)\u001b[0m\u001b[0;34m)\u001b[0m\u001b[0;34m\u001b[0m\u001b[0;34m\u001b[0m\u001b[0m\n\u001b[0m\u001b[1;32m   1065\u001b[0m         \u001b[0;32mif\u001b[0m \u001b[0mret\u001b[0m\u001b[0;34m:\u001b[0m\u001b[0;34m\u001b[0m\u001b[0;34m\u001b[0m\u001b[0m\n\u001b[1;32m   1066\u001b[0m             \u001b[0mself\u001b[0m\u001b[0;34m.\u001b[0m\u001b[0mpchanged\u001b[0m\u001b[0;34m(\u001b[0m\u001b[0;34m)\u001b[0m\u001b[0;34m\u001b[0m\u001b[0;34m\u001b[0m\u001b[0m\n",
      "\u001b[0;32m/opt/anaconda3/lib/python3.8/site-packages/matplotlib/collections.py\u001b[0m in \u001b[0;36mset_linewidth\u001b[0;34m(self, lw)\u001b[0m\n\u001b[1;32m    611\u001b[0m \u001b[0;34m\u001b[0m\u001b[0m\n\u001b[1;32m    612\u001b[0m         \u001b[0;31m# scale all of the dash patterns.\u001b[0m\u001b[0;34m\u001b[0m\u001b[0;34m\u001b[0m\u001b[0;34m\u001b[0m\u001b[0m\n\u001b[0;32m--> 613\u001b[0;31m         self._linewidths, self._linestyles = self._bcast_lwls(\n\u001b[0m\u001b[1;32m    614\u001b[0m             self._us_lw, self._us_linestyles)\n\u001b[1;32m    615\u001b[0m         \u001b[0mself\u001b[0m\u001b[0;34m.\u001b[0m\u001b[0mstale\u001b[0m \u001b[0;34m=\u001b[0m \u001b[0;32mTrue\u001b[0m\u001b[0;34m\u001b[0m\u001b[0;34m\u001b[0m\u001b[0m\n",
      "\u001b[0;32m/opt/anaconda3/lib/python3.8/site-packages/matplotlib/collections.py\u001b[0m in \u001b[0;36m_bcast_lwls\u001b[0;34m(linewidths, dashes)\u001b[0m\n\u001b[1;32m    723\u001b[0m \u001b[0;34m\u001b[0m\u001b[0m\n\u001b[1;32m    724\u001b[0m         \u001b[0;31m# scale the dash patters\u001b[0m\u001b[0;34m\u001b[0m\u001b[0;34m\u001b[0m\u001b[0;34m\u001b[0m\u001b[0m\n\u001b[0;32m--> 725\u001b[0;31m         dashes = [mlines._scale_dashes(o, d, lw)\n\u001b[0m\u001b[1;32m    726\u001b[0m                   for (o, d), lw in zip(dashes, linewidths)]\n\u001b[1;32m    727\u001b[0m \u001b[0;34m\u001b[0m\u001b[0m\n",
      "\u001b[0;32m/opt/anaconda3/lib/python3.8/site-packages/matplotlib/collections.py\u001b[0m in \u001b[0;36m<listcomp>\u001b[0;34m(.0)\u001b[0m\n\u001b[1;32m    723\u001b[0m \u001b[0;34m\u001b[0m\u001b[0m\n\u001b[1;32m    724\u001b[0m         \u001b[0;31m# scale the dash patters\u001b[0m\u001b[0;34m\u001b[0m\u001b[0;34m\u001b[0m\u001b[0;34m\u001b[0m\u001b[0m\n\u001b[0;32m--> 725\u001b[0;31m         dashes = [mlines._scale_dashes(o, d, lw)\n\u001b[0m\u001b[1;32m    726\u001b[0m                   for (o, d), lw in zip(dashes, linewidths)]\n\u001b[1;32m    727\u001b[0m \u001b[0;34m\u001b[0m\u001b[0m\n",
      "\u001b[0;32m/opt/anaconda3/lib/python3.8/site-packages/matplotlib/lines.py\u001b[0m in \u001b[0;36m_scale_dashes\u001b[0;34m(offset, dashes, lw)\u001b[0m\n\u001b[1;32m     67\u001b[0m     \u001b[0;32mif\u001b[0m \u001b[0;32mnot\u001b[0m \u001b[0mrcParams\u001b[0m\u001b[0;34m[\u001b[0m\u001b[0;34m'lines.scale_dashes'\u001b[0m\u001b[0;34m]\u001b[0m\u001b[0;34m:\u001b[0m\u001b[0;34m\u001b[0m\u001b[0;34m\u001b[0m\u001b[0m\n\u001b[1;32m     68\u001b[0m         \u001b[0;32mreturn\u001b[0m \u001b[0moffset\u001b[0m\u001b[0;34m,\u001b[0m \u001b[0mdashes\u001b[0m\u001b[0;34m\u001b[0m\u001b[0;34m\u001b[0m\u001b[0m\n\u001b[0;32m---> 69\u001b[0;31m     \u001b[0mscaled_offset\u001b[0m \u001b[0;34m=\u001b[0m \u001b[0moffset\u001b[0m \u001b[0;34m*\u001b[0m \u001b[0mlw\u001b[0m\u001b[0;34m\u001b[0m\u001b[0;34m\u001b[0m\u001b[0m\n\u001b[0m\u001b[1;32m     70\u001b[0m     scaled_dashes = ([x * lw if x is not None else None for x in dashes]\n\u001b[1;32m     71\u001b[0m                      if dashes is not None else None)\n",
      "\u001b[0;31mTypeError\u001b[0m: can't multiply sequence by non-int of type 'float'"
     ]
    },
    {
     "data": {
      "image/png": "[encoded data removed]",
      "text/plain": [
       "<Figure size 1080x576 with 2 Axes>"
      ]
     },
     "metadata": {},
     "output_type": "display_data"
    }
   ],
   "source": [
    "fig,axes = plt.subplots(1,2,figsize=(15,8),subplot_kw={'projection': 'polar'})\n",
    "fig.set_facecolor(\"#131313\")\n",
    "fig.suptitle(\"Pass Soner : Frenkie vs Pedri\", fontsize=22, fontname=\"serif\", color=\"gray\")\n",
    "# fig.text(x=0.42,y=0.84,s=\"Spain vs Barcelona\",fontsize=19, color=\"gray\", fontname=\"serif\")\n",
    "axes = axes.ravel()\n",
    "\n",
    "def plotSoner(df,playerId,playerName,x,myCmap):\n",
    "    df = df[df[\"playerId\"]==playerId]\n",
    "    ALLPASS = len(df)\n",
    "    print(ALLPASS)\n",
    "    VC = df[\"angle_bin\"].value_counts()\n",
    "    VARTICALPASS = 0\n",
    "    for i in VC.index:\n",
    "        if (0 < i < 0.8)|(5.6 < i < 7)|(11.9 < i < 13.26)|(18.16 < i < 19.5):\n",
    "            VARTICALPASS += VC[i]\n",
    "    \n",
    "    result = np.round(VARTICALPASS/ALLPASS*100,2)\n",
    "    pdf = df.groupby(\n",
    "        ['playerId', 'angle_bin']).agg(count = ('angle_bin', 'count'),\n",
    "                                       avg_length = ('length', 'mean'), \n",
    "                                       xT = (\"xT\",\"sum\")).reset_index()\n",
    "    pdf[\"xT\"] = pdf[\"xT\"]*100\n",
    "    colors = myCmap(pdf['xT'] / pdf['xT'].max())\n",
    "    \n",
    "    print(\"median: \",pdf.loc[:,\"avg_length\"].median())\n",
    "    print(\"std: \",pdf.loc[:,\"avg_length\"].std())\n",
    "    print(\"var: \",pdf.loc[:,\"avg_length\"].var())\n",
    "    \n",
    "    \n",
    "    \n",
    "    axes[x].set_facecolor(\"#131313\")\n",
    "    axes[x].set_xticklabels([])\n",
    "    axes[x].set_yticks([])\n",
    "    axes[x].grid(False, alpha=0)\n",
    "    axes[x].spines['polar'].set_visible(True)\n",
    "    axes[x].spines['polar'].set_color(\"white\")\n",
    "    axes[x].spines['polar'].set_linestyle(\"--\")\n",
    "    axes[x].spines['polar'].set_linewidth(\"3\")\n",
    "    print(type(axes[x].get_xlim()))\n",
    "    print(axes[x].get_xlim())\n",
    "    \n",
    "    \n",
    "    axes[x].patch.set_alpha(1)\n",
    "    axes[x].bar(pdf['angle_bin']*multiplier, \n",
    "                pdf['count'], \n",
    "                width=0.2, bottom=0, \n",
    "                alpha=0.9, color=colors, zorder=3)\n",
    "    axes[x].set_title(f\"{playerName}({ALLPASS})\",y=1.05,fontsize=15, fontname=\"serif\",color=textColor)\n",
    "    \n",
    "    values = df[\"angle_bin\"].value_counts().sort_index().values\n",
    "    sums = df[\"angle_bin\"].value_counts().sum()\n",
    "    bar = (values/sums) *100\n",
    "    print(\"passcount sum: \",bar[3:10].sum())\n",
    "    \n",
    "    dd = pdf.set_index(\"angle_bin\")\n",
    "    print(\"xT sum: \",dd.loc[3.0:10.0, \"xT\"].mean())\n",
    "    print(\"xT sum: \",dd.loc[3.0, \"xT\"].sum())\n",
    "    \n",
    "\n",
    "plotSoner(dfSpain,44721,\"Pedri 2021\",0, cmap1)\n",
    "plotSoner(dfSpain,279423,\"Frenkie 1819\",1, cmap1)\n",
    "\n",
    "# axes[0].text(4,69.7,\n",
    "#          \"\\n- Bar Length is representive of Pass Frequency\\\n",
    "#          \\n- Bar Direction is representive Pass Direction\\\n",
    "#          \\n- Bar Color is representive of xT green(small chance) -> red(big chance)\", \n",
    "#          fontsize=10,color=\"#ededed\")\n",
    "\n",
    "axes[0].set_xticklabels([\"Right\",\"\",\"Forward\",\"\",\"Left\",\"\",\"Back\",\"\"],color=\"gray\")\n",
    "axes[1].set_xticklabels([\"Right\",\"\",\"Forward\",\"\",\"Left\",\"\",\"Back\",\"\"],color=\"gray\")\n",
    "\n",
    "\n",
    "# plt.savefig(f'/work/output/pedri2021frenkie2021.png', dpi=100, bbox_inches=\"tight\",facecolor='#131313')"
   ]
  },
  {
   "cell_type": "code",
   "execution_count": 18,
   "metadata": {},
   "outputs": [
    {
     "name": "stdout",
     "output_type": "stream",
     "text": [
      "(0.0, 15.75)\n",
      "(0.0, 6.283185307179586)\n"
     ]
    }
   ],
   "source": [
    "print(axes[1].get_ybound())\n",
    "print(axes[1].get_xbound())"
   ]
  },
  {
   "cell_type": "code",
   "execution_count": 7,
   "metadata": {},
   "outputs": [
    {
     "name": "stdout",
     "output_type": "stream",
     "text": [
      "[351 357 354 278 213 286 293 274 305 363 440 368 330 298 213 202 199 195\n",
      " 172 201 208 240 246 316]\n"
     ]
    },
    {
     "data": {
      "text/plain": [
       "35.30289465831095"
      ]
     },
     "execution_count": 7,
     "metadata": {},
     "output_type": "execute_result"
    }
   ],
   "source": [
    "values = dfBarca[\"angle_bin\"].value_counts().sort_index().values\n",
    "print(values)\n",
    "sums = dfBarca[\"angle_bin\"].value_counts().sum()\n",
    "bar = (values/sums) *100\n",
    "bar[2:10].sum()"
   ]
  },
  {
   "cell_type": "code",
   "execution_count": 8,
   "metadata": {},
   "outputs": [
    {
     "name": "stdout",
     "output_type": "stream",
     "text": [
      "48.42767295597484 9.433962264150942 22.012578616352204 26.41509433962264\n"
     ]
    }
   ],
   "source": [
    "dfBarca = dfBarca[dfBarca[\"playerId\"]==402197]\n",
    "values = dfBarca[\"angle_bin\"].value_counts().reset_index().sort_values(\"index\")\n",
    "\n",
    "# print(values)\n",
    "# bar % \n",
    "values[\"angle_bin\"] = values[\"angle_bin\"]/values[\"angle_bin\"].sum() * 100\n",
    "values_per = values.set_index(\"index\")\n",
    "# print(values_per)\n",
    "front = values_per[\"angle_bin\"][0:10].sum()\n",
    "moreFront = values_per[\"angle_bin\"][3:7].sum()\n",
    "right = values_per[\"angle_bin\"][0:5].sum()\n",
    "left = values_per[\"angle_bin\"][6:10].sum()\n",
    "print(front, moreFront, right, left)\n",
    "\n",
    "\n",
    "\n",
    "# print(values)\n",
    "# sums = dfBarca[\"xT\"].value_counts().sum()\n",
    "# print(sums)\n",
    "# bar = (values/sums) *100"
   ]
  },
  {
   "cell_type": "code",
   "execution_count": 121,
   "metadata": {},
   "outputs": [
    {
     "data": {
      "text/plain": [
       "index\n",
       "0.0    20.000000\n",
       "1.0    40.000000\n",
       "2.0    14.285714\n",
       "3.0    11.428571\n",
       "4.0     8.571429\n",
       "5.0     5.714286\n",
       "Name: angle_bin, dtype: float64"
      ]
     },
     "execution_count": 121,
     "metadata": {},
     "output_type": "execute_result"
    }
   ],
   "source": [
    "values_per[\"angle_bin\"][0:5]/values_per[\"angle_bin\"][0:5].sum()*100"
   ]
  },
  {
   "cell_type": "code",
   "execution_count": 9,
   "metadata": {},
   "outputs": [
    {
     "name": "stdout",
     "output_type": "stream",
     "text": [
      "47.05882352941177 13.411764705882355 18.352941176470587 28.705882352941178\n"
     ]
    }
   ],
   "source": [
    "dfSpain = dfSpain[dfSpain[\"playerId\"]==402197]\n",
    "values = dfSpain[\"angle_bin\"].value_counts().reset_index().sort_values(\"index\")\n",
    "\n",
    "values[\"angle_bin\"] = values[\"angle_bin\"]/values[\"angle_bin\"].sum() * 100\n",
    "values_per = values.set_index(\"index\")\n",
    "# print(values_per)\n",
    "front = values_per[\"angle_bin\"][0:10].sum()\n",
    "moreFront = values_per[\"angle_bin\"][3:7].sum()\n",
    "right = values_per[\"angle_bin\"][0:5].sum()\n",
    "left = values_per[\"angle_bin\"][6:10].sum()\n",
    "print(front, moreFront, right, left)\n",
    "\n",
    "\n",
    "# bar % \n",
    "# values_per = values/values.sum() * 100\n",
    "# values_per[0:13].sum()"
   ]
  },
  {
   "cell_type": "code",
   "execution_count": 116,
   "metadata": {},
   "outputs": [
    {
     "data": {
      "text/plain": [
       "index\n",
       "0.0    17.431193\n",
       "1.0    17.431193\n",
       "2.0    12.844037\n",
       "3.0     6.422018\n",
       "4.0     4.587156\n",
       "5.0    12.844037\n",
       "Name: angle_bin, dtype: float64"
      ]
     },
     "execution_count": 116,
     "metadata": {},
     "output_type": "execute_result"
    }
   ],
   "source": [
    "values_per[\"angle_bin\"][0:5]/right*100"
   ]
  },
  {
   "cell_type": "code",
   "execution_count": 55,
   "metadata": {},
   "outputs": [
    {
     "data": {
      "text/plain": [
       "0.46426156"
      ]
     },
     "execution_count": 55,
     "metadata": {},
     "output_type": "execute_result"
    }
   ],
   "source": [
    "dd = dfBarca.groupby(\n",
    "    [\"playerId\",\"angle_bin\"]).agg(count = ('angle_bin', 'count'),\n",
    "                                       avg_length = ('length', 'mean'), \n",
    "                                       xT = (\"xT\",\"sum\")).reset_index()\n",
    "\n",
    "dd = dd.set_index(\"angle_bin\")\n",
    "dd.loc[2.0:10.0, \"xT\"].sum()"
   ]
  },
  {
   "cell_type": "code",
   "execution_count": 30,
   "metadata": {},
   "outputs": [
    {
     "data": {
      "text/plain": [
       "32.50843644544432"
      ]
     },
     "execution_count": 30,
     "metadata": {},
     "output_type": "execute_result"
    }
   ],
   "source": [
    "values = dfSpain[\"angle_bin\"].value_counts().sort_index().values\n",
    "sums = dfSpain[\"angle_bin\"].value_counts().sum()\n",
    "spe = (values/sums) *100\n",
    "spe[2:10].sum()"
   ]
  },
  {
   "cell_type": "code",
   "execution_count": 6,
   "metadata": {},
   "outputs": [
    {
     "data": {
      "text/plain": [
       "0.0     351\n",
       "1.0     357\n",
       "2.0     354\n",
       "3.0     278\n",
       "4.0     213\n",
       "5.0     286\n",
       "6.0     293\n",
       "7.0     274\n",
       "8.0     305\n",
       "9.0     363\n",
       "10.0    440\n",
       "11.0    368\n",
       "12.0    330\n",
       "13.0    298\n",
       "14.0    213\n",
       "15.0    202\n",
       "16.0    199\n",
       "17.0    195\n",
       "18.0    172\n",
       "19.0    201\n",
       "20.0    208\n",
       "21.0    240\n",
       "22.0    246\n",
       "23.0    316\n",
       "Name: angle_bin, dtype: int64"
      ]
     },
     "execution_count": 6,
     "metadata": {},
     "output_type": "execute_result"
    }
   ],
   "source": [
    "dfBarca[\"angle_bin\"].value_counts().sort_index()"
   ]
  },
  {
   "cell_type": "code",
   "execution_count": 8,
   "metadata": {},
   "outputs": [
    {
     "data": {
      "text/plain": [
       "6702"
      ]
     },
     "execution_count": 8,
     "metadata": {},
     "output_type": "execute_result"
    }
   ],
   "source": [
    "sums"
   ]
  },
  {
   "cell_type": "code",
   "execution_count": null,
   "metadata": {},
   "outputs": [],
   "source": []
  }
 ],
 "metadata": {
  "kernelspec": {
   "display_name": "Python 3",
   "language": "python",
   "name": "python3"
  },
  "language_info": {
   "codemirror_mode": {
    "name": "ipython",
    "version": 3
   },
   "file_extension": ".py",
   "mimetype": "text/x-python",
   "name": "python",
   "nbconvert_exporter": "python",
   "pygments_lexer": "ipython3",
   "version": "3.8.3"
  }
 },
 "nbformat": 4,
 "nbformat_minor": 4
}
